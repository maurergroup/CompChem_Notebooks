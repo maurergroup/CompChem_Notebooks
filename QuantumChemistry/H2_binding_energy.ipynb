{
 "cells": [
  {
   "cell_type": "markdown",
   "metadata": {},
   "source": [
    "## Sucesses and Failures of Hartree-Fock\n"
   ]
  },
  {
   "cell_type": "markdown",
   "metadata": {},
   "source": [
    "In this example, we will quantify the different sources for error of the Hartree Fock method on the example of the H$_2$ molecule."
   ]
  },
  {
   "cell_type": "code",
   "execution_count": 1,
   "metadata": {},
   "outputs": [],
   "source": [
    "from ase.build import molecule\n",
    "from ase.atoms import Atoms\n",
    "import numpy as np\n",
    "import matplotlib.pyplot as plt\n",
    "import psi4\n",
    "from psi4_helper import geom_ase_to_psi4\n",
    "\n",
    "diatomic = 'H2'"
   ]
  },
  {
   "cell_type": "code",
   "execution_count": 2,
   "metadata": {},
   "outputs": [
    {
     "name": "stdout",
     "output_type": "stream",
     "text": [
      "."
     ]
    }
   ],
   "source": [
    "print('.', end='')\n",
    "atoms = Atoms(diatomic)\n",
    "atoms.positions[1,2] = 1.5\n",
    "geom_input = geom_ase_to_psi4(atoms, charge=0, multiplicity=1)\n",
    "  #initiate Psi4 molecule object\n",
    "h2 = psi4.geometry(geom_input)\n",
    "\n",
    "  # Set computation options\n",
    "psi4.set_options({'basis': '3-21G',\n",
    "                  'reference': 'rhf',\n",
    "                  'scf_type':'pk',\n",
    "                  #'frozen_docc': [0],\n",
    "                  #'active':[4],\n",
    "                  #'frozen_uocc': [0],\n",
    "                  'e_convergence': 1e-8})\n",
    "E,wfn = psi4.energy('scf',return_wfn=True)\n",
    "psi4.molden(wfn,'c2.molden')"
   ]
  },
  {
   "cell_type": "code",
   "execution_count": 3,
   "metadata": {},
   "outputs": [
    {
     "name": "stdout",
     "output_type": "stream",
     "text": [
      ". 0.4 -0.9228721798709327 -0.9413883471150366\n",
      ". 0.6 -1.104721327258089 -1.1269305617579506\n",
      ". 0.7 -1.1219949532318991 -1.1460621806749165\n",
      ". 0.8 -1.1202128151734527 -1.146399784254005\n",
      ". 0.9 -1.1083634877871487 -1.1371076342087358\n",
      ". 1.0 -1.091386071220998 -1.1232535039082983\n",
      ". 1.1 -1.0720456477944178 -1.1076907363785464\n",
      ". 1.2 -1.0518385038175757 -1.0919767240329656\n",
      ". 1.4 -1.0115931952522885 -1.0630214554501687\n",
      ". 1.8 -0.9388546408049119 -1.0219611920735505\n",
      ". 2.2 -0.8803961212812224 -1.0026236030660205\n",
      ". 3.0 -0.8024822331271203 -0.9933673529869698\n",
      ". 3.5 -0.7743818401647561 -0.9925966789207137\n",
      ". 4.5 -0.7463701013585975 -0.9924009255290461\n",
      ". 6 -0.7301049492538472 -0.9923972193060242\n",
      ". 10.0 -0.7124479546447045 -0.9923972187618781\n",
      "calculations finished!\n"
     ]
    }
   ],
   "source": [
    "psi4.core.clean()\n",
    "psi4.core.set_output_file('output.dat', False)\n",
    "psi4.set_memory('6000 MB')\n",
    "\n",
    "distances = [0.4,0.6,0.7,0.8,0.9,1.0,1.1,1.2,1.4,1.8,2.2,3.0,3.5,4.5,6,10.]\n",
    "\n",
    "E_HF = []\n",
    "E_exact = []\n",
    "\n",
    "for i in distances:\n",
    "  print('. ', end='')\n",
    "  atoms = Atoms(diatomic)\n",
    "  atoms.positions[1,2] = i\n",
    "  geom_input = geom_ase_to_psi4(atoms, charge=0, multiplicity=1)\n",
    "  #initiate Psi4 molecule object\n",
    "  h2 = psi4.geometry(geom_input)\n",
    "\n",
    "  # Set computation options\n",
    "  psi4.set_options({'basis': '3-21G',\n",
    "                  'reference': 'rhf',\n",
    "                  'scf_type':'direct',\n",
    "                  'frozen_docc': [0],\n",
    "                  'active':[2],\n",
    "                  'frozen_uocc': [0],\n",
    "                  'ci_maxiter': 100,\n",
    "                  'e_convergence': 1e-8})\n",
    "\n",
    "  E_HF.append(psi4.energy('scf',return_wfn=False))\n",
    "  E_exact.append(psi4.energy('fci',return_wfn=False))\n",
    "  print (i, E_HF[-1], E_exact[-1])\n",
    "\n",
    "print('calculations finished!')\n",
    "#for x, i,j in zip(distances,E_HF, E_exact):\n",
    "#    print(x, i,j)"
   ]
  },
  {
   "cell_type": "code",
   "execution_count": null,
   "metadata": {},
   "outputs": [],
   "source": [
    "%matplotlib notebook\n",
    "plt.plot(distances, E_HF,'b',label='HF')\n",
    "plt.plot(distances, E_exact,'r',label='exact')\n",
    "plt.legend()\n",
    "plt.xlabel('H-H distance in Angstrom $\\AA$')\n",
    "plt.ylabel('energy in Hartree [$E_H$]')"
   ]
  },
  {
   "cell_type": "markdown",
   "metadata": {},
   "source": [
    "The exact solution includes all possible Slater determinants and correctly describes bond breaking. This is, however, in almost all cases impossible to calculate.\n",
    "\n",
    "We can find a solution to the correlation problem in two steps:\n",
    "* first we account for static correlation in the bond breaking limit. This will treat all H-H distances equally\n",
    "* Then we can include dynamic correlation"
   ]
  },
  {
   "cell_type": "code",
   "execution_count": null,
   "metadata": {},
   "outputs": [],
   "source": [
    "E_CASSCF = []\n",
    "\n",
    "psi4.core.set_output_file('output.dat', True)\n",
    "distances = [0.4,0.6,0.7,0.8,0.9,1.0,1.1,1.2,1.4,1.8,2.2,3.0,3.5,4.5,6,10.]\n",
    "\n",
    "for i in distances:\n",
    "  psi4.core.clean()\n",
    "  print('. ', end='')\n",
    "  atoms = Atoms(diatomic)\n",
    "  atoms.positions[1,2] = i\n",
    "  geom_input = geom_ase_to_psi4(atoms, charge=0, multiplicity=1)\n",
    "  #initiate Psi4 molecule object\n",
    "  h2 = psi4.geometry(geom_input)\n",
    "\n",
    "  # Set computation options\n",
    "  psi4.set_options({'basis': '3-21G',\n",
    "                  'reference': 'rhf',\n",
    "                  'scf_type': 'pk',\n",
    "                  'mcscf_algorithm':'ah',\n",
    "                  'qc_module': 'detci',\n",
    "                  'ci_maxiter': 100,    \n",
    "                    'mcscf_maxiter': 300,\n",
    "                  'e_convergence': 1.e-8,\n",
    "                  'num_roots':1,\n",
    "                   })\n",
    "\n",
    "  #cisd_energy, cisd_wfn = psi4.energy(\"cisd\", return_wfn=True)\n",
    "  #4 orbitals [sigma, sigma*, and two more), The first 2 of them should be active\n",
    "  #That means that CASSCF should build the possible determinants from those two\n",
    "  psi4.set_options({\n",
    "      'restricted_docc': [0],\n",
    "      'active': [2],\n",
    "      'restricted_uocc':[2],\n",
    "                   })\n",
    "    \n",
    "  E = psi4.energy('casscf')#,ref_wfn=cisd_wfn)\n",
    "  print(i, E)\n",
    "  E_CASSCF.append(E) \n",
    "\n",
    "print('calculations finished!')\n",
    "#for x, i in zip(distances,E_CASSCF):\n",
    "#    print(x, i)\n"
   ]
  },
  {
   "cell_type": "code",
   "execution_count": null,
   "metadata": {},
   "outputs": [],
   "source": [
    "%matplotlib notebook\n",
    "plt.plot(distances, E_HF,'b',label='HF')\n",
    "plt.plot(distances, E_CASSCF, 'g', label='CASSCF')\n",
    "plt.plot(distances, E_exact,'r',label='exact')\n",
    "plt.legend()\n",
    "plt.xlabel('H-H distance in Angstrom $\\AA$')\n",
    "plt.ylabel('energy in Hartree [$E_H$]')"
   ]
  }
 ],
 "metadata": {
  "kernelspec": {
   "display_name": "Python 3",
   "language": "python",
   "name": "python3"
  },
  "language_info": {
   "codemirror_mode": {
    "name": "ipython",
    "version": 3
   },
   "file_extension": ".py",
   "mimetype": "text/x-python",
   "name": "python",
   "nbconvert_exporter": "python",
   "pygments_lexer": "ipython3",
   "version": "3.7.3"
  }
 },
 "nbformat": 4,
 "nbformat_minor": 2
}
