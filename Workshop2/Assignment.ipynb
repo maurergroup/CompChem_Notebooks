{
 "cells": [
  {
   "cell_type": "markdown",
   "id": "concerned-twist",
   "metadata": {},
   "source": [
    "# Assignment 2\n",
    "\n",
    "In this assignment, you will investigate the molecule ethylene in it's ground and excited state and will compare simulated absorption spectra approximated from excited-state energies to experimental values. \n",
    "You will be provided with a set of structures and with code to load the structures."
   ]
  },
  {
   "cell_type": "code",
   "execution_count": 1,
   "id": "satellite-standing",
   "metadata": {},
   "outputs": [],
   "source": [
    "import numpy as np\n",
    "import matplotlib.pyplot as plt\n",
    "import psi4\n",
    "from ase.build import molecule\n",
    "from ase.atoms import Atoms\n",
    "from ase.visualize import view\n",
    "from ase.visualize.plot import plot_atoms\n",
    "from psi4_helper import geom_ase_to_psi4"
   ]
  },
  {
   "cell_type": "code",
   "execution_count": 2,
   "id": "final-breath",
   "metadata": {},
   "outputs": [],
   "source": [
    "# get rotated structures\n",
    "\n",
    "import ase.io\n",
    "\n",
    "rotated_geoms = ase.io.read(\"Ethylene/C2H4_Scan_Rotation.db\",\":\")\n",
    "n_geoms_rot = len(rotated_geoms)\n",
    "\n",
    "diss_geoms = ase.io.read(\"Ethylene/C2H4_BondScan.db\",\":\")\n",
    "n_geoms_diss = len(diss_geoms)\n",
    "\n",
    "#read exp file\n",
    "\n",
    "file = open(\"Ethylene/exp.dat\",\"r\")\n",
    "x_exp = []\n",
    "y_exp = []\n",
    "for line in file:\n",
    "    s=line.split()\n",
    "    x_exp.append(float(s[0]))\n",
    "    y_exp.append(float(s[1]))"
   ]
  },
  {
   "cell_type": "markdown",
   "id": "covered-terrace",
   "metadata": {},
   "source": [
    "## Task 1\n",
    "\n",
    "1) Optimize an initial guess of ethylene at MP2/3-21G level of theory.\n",
    "\n",
    "2) Take the optimized structure and compute 5 excited states at different levels of theory, i.e., CASSCF(e,o) and TDDFT or CCSD.\n",
    "* Discuss the choice of your active space (number of electrons e and orbitals o) and the choice of functional/method. Discuss the differences you found in the simulations.\n",
    "* Compare to your results to literature values and experimental values.\n",
    "    \n",
    "    \n",
    "3) Take a look at the following normalized experimental absorption spectrum of ethylene in the gas phase and answer the following questions:\n",
    "* How well do your excited-state energies compare to experiment? Plot the excited state energies with your chosen methods next to the exp. spectrum.\n",
    "* What property do you need to get the correct absorption? "
   ]
  },
  {
   "cell_type": "code",
   "execution_count": 3,
   "id": "executive-finger",
   "metadata": {},
   "outputs": [
    {
     "data": {
      "text/plain": [
       "Text(0.5, 1.0, 'Exp. spectrum from Ref. 1')"
      ]
     },
     "execution_count": 3,
     "metadata": {},
     "output_type": "execute_result"
    },
    {
     "data": {
      "image/png": "[encoded data removed]",
      "text/plain": [
       "<Figure size 432x288 with 1 Axes>"
      ]
     },
     "metadata": {
      "needs_background": "light"
     },
     "output_type": "display_data"
    }
   ],
   "source": [
    "Nexp=1500\n",
    "plt.plot(1/(np.array(x_exp)/10)*6.626*6.242*30,np.array(y_exp)/Nexp)\n",
    "plt.xlabel(\"Energy [eV]\")\n",
    "plt.ylabel(\"Absorption [arb.u.]\")\n",
    "plt.title(\"Exp. spectrum from Ref. 1\")"
   ]
  },
  {
   "cell_type": "code",
   "execution_count": 4,
   "id": "specified-miami",
   "metadata": {},
   "outputs": [
    {
     "name": "stdout",
     "output_type": "stream",
     "text": [
      "Optimizer: Optimization complete!\n",
      "\n",
      "* Geometry AFTER optimization...\n",
      "0 1\n",
      " C    0.670325317565    0.000006998145    0.000006028266\n",
      " C   -0.670323686950   -0.000018435032    0.000000846854\n",
      " H    1.243566297963    0.000029861536    0.921772376498\n",
      " H   -1.243605491360    0.000038231872    0.921794907585\n",
      " H   -1.243607324489    0.000040133003   -0.921812567996\n",
      " H    1.243627102438    0.000027950638   -0.921836576960\n",
      "\n"
     ]
    }
   ],
   "source": [
    "# SOLUTION TO BE REMOVED\n",
    "\n",
    "#initiate geometry\n",
    "geom_input = geom_ase_to_psi4(rotated_geoms[0], charge=0, multiplicity=1)\n",
    "#initiate Psi4 molecule object\n",
    "ethylene_guess = psi4.geometry(geom_input)\n",
    "#optimize at mp2 level of theory\n",
    "psi4.core.set_output_file('geometry_optimization.dat')\n",
    "\n",
    "psi4.optimize('mp2/3-21G',mol=ethylene_guess)\n",
    "print(\"\\n* Geometry AFTER optimization...\")\n",
    "ethylene_opt=ethylene_guess.save_string_xyz()\n",
    "print(ethylene_opt )"
   ]
  },
  {
   "cell_type": "markdown",
   "id": "velvet-presence",
   "metadata": {},
   "source": [
    "# Task 2: \n",
    "\n",
    "#### Questions to discuss:\n",
    "* Do you think this is the correct result? What do you expect?\n",
    "* Which method do you think would give qualitatively better results and why?\n",
    "\n",
    "* triplet states along dissociation curve\n",
    "* spin multiplicity needs to be changed\n",
    "* they should see that they are degenerate\n",
    "\n",
    "Methods to use:\n",
    "* CASSCF, NEVPT2, CCSD, HF, MP2, DFT\n",
    "\n",
    "\n",
    "\n",
    "Question: Which of the curves show a qualitatively correct behaviour? Which show\n",
    "erratic behaviour? In order to do so, describe how the wavefunction compositions change.\n",
    "Question: Discuss your results! Which methods are appropriate to describe the dissociation of H2\n",
    "? In particular, discuss the problems of the RHF method and how it is overcome\n",
    "in the UHF, CASSCF and NEVPT2 methods (Discuss static and dynamic correlation here as\n",
    "3\n",
    "well!). Also comment on why the CCSD method gives the best results of all methods in this\n",
    "system. Would CCSD(T) further improve on the results? What else has to be considered in\n",
    "order to obtain results comparable to the experimen\n",
    "\n",
    "basis set convergence?\n",
    "rotation curve"
   ]
  },
  {
   "cell_type": "markdown",
   "id": "mechanical-revolution",
   "metadata": {},
   "source": [
    "# References\n",
    "1. Ethylene spektrum"
   ]
  },
  {
   "cell_type": "code",
   "execution_count": null,
   "id": "cloudy-advertiser",
   "metadata": {},
   "outputs": [],
   "source": []
  }
 ],
 "metadata": {
  "kernelspec": {
   "display_name": "Python 3",
   "language": "python",
   "name": "python3"
  },
  "language_info": {
   "codemirror_mode": {
    "name": "ipython",
    "version": 3
   },
   "file_extension": ".py",
   "mimetype": "text/x-python",
   "name": "python",
   "nbconvert_exporter": "python",
   "pygments_lexer": "ipython3",
   "version": "3.6.10"
  }
 },
 "nbformat": 4,
 "nbformat_minor": 5
}
