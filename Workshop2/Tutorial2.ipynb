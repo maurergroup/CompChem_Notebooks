{
 "cells": [
  {
   "cell_type": "markdown",
   "metadata": {},
   "source": [
    "<div class=\"alert alert-block alert-info\">\n",
    "    \n",
    "These blue boxes contain instructions for you to follow, or stuff for you to do\n",
    "<h2>How to access this Jupyter notebook</h2>\n",
    "\n",
    "* <b>Step 1</b>: Open a web browser,  and go to [this page](https://jupyter.warwick.ac.uk/module/CH274), \n",
    "* <b>Step 2</b>: Enter your SCRTP username and password and press the \"Start Server\" button.<br>\n",
    "* <b>Step 3</b>: Wait (it could take a few minutes) until the blue box says \"Jupyter notebook server running!\". At that point, click on the weblink below said message.<br>\n",
    "* <b>Step 4</b>: Select the Jupyter Notebook you want to work on. <i>Remember to make a copy of the orginal notebook</i> (which is read-only). To do so, in the toolbar on top of the notebook, select File and then Make a Copy <br>\n",
    "* <b>Step 5</b>: You're all set! <br>\n",
    "* <b>Step 6</b>: <font color=\"red\">When you are done, remember to click the \"Stop Server\" button in the launcher web browser tab.</font> Please do, it's really quite important. <br>\n",
    "<b> Remember: </b> You can access your copy of the Notebook at any time from any device off and on campus by going through the same steps on e.g. your laptop - all the changes you have made will be saved and synced! <br>\n",
    "\n",
    "<div/>"
   ]
  },
  {
   "cell_type": "code",
   "execution_count": 2,
   "metadata": {},
   "outputs": [],
   "source": [
    "import fileinput\n",
    "import re\n",
    "import glob\n",
    "\n",
    "def grep(PAT, FILES):\n",
    "    for line in fileinput.input(glob.glob(FILES)):\n",
    "        if re.search(PAT, line):\n",
    "            print(fileinput.filename(), fileinput.lineno(), line)"
   ]
  },
  {
   "cell_type": "code",
   "execution_count": 3,
   "metadata": {},
   "outputs": [],
   "source": [
    "#Import necessary modules\n",
    "import numpy as np\n",
    "import matplotlib.pyplot as plt\n",
    "import psi4\n",
    "import ase\n",
    "from ase.build import molecule\n",
    "from ase.atoms import Atoms\n",
    "from ase.visualize import view\n",
    "from ase.visualize.plot import plot_atoms\n",
    "from psi4_helper import geom_ase_to_psi4"
   ]
  },
  {
   "cell_type": "markdown",
   "metadata": {},
   "source": [
    "# Excited states of NaI\n",
    "\n",
    "In the second part of this exercise, the focus will be on excited states. Excited states play a significant role in photochemistry. As you have heard in the previous tutorial, calculation of excited states and their properties requires different methods than for the ground state chemistry. For the excited states, the approximation of only one Slater determinant is usually not valid. Unlike Hartree-Fock, multiconfigurational methods do not restrict the wavefunction to a single Slater determinant, but allow it to be a priori a linear combination of multiple Slater determinants.\n",
    "On the other hand, a handful of methods usually referred to single-configurational methods, such as TD-DFT can be used to compute the excited-state properties without calculating the excited state wavefunction explicitly. They are faster and easier to use than multiconfigurational methods, but their accuracy may be inferior.\n",
    "\n",
    "In this exercise we will calculate the excitation energies of the dissociation curve of the sodium iodide (NaI).\n",
    "This system has been studied via pump-probe spectroscopy by Ahmed Zewail, who received the Nobel Prize for his work in 1999 (J. Chem. Phys. 91, 7415 (1989), doi: 10.1063/1.457266). You will see that the ground state and the first excited singlet state will form an avoided crossing. We will investigate this reaction with TDDFT and CASSCF.\n",
    "\n",
    "\n",
    "</div>\n",
    "<img src=\"NaI2.png\" width=\"350\"/>\n",
    "</div>\n",
    "<p> Potential energy curves of NaI (Fig. 2 in Ref. 4).</p>\n"
   ]
  },
  {
   "cell_type": "markdown",
   "metadata": {},
   "source": [
    "#### Get the geometries"
   ]
  },
  {
   "cell_type": "code",
   "execution_count": 4,
   "metadata": {},
   "outputs": [],
   "source": [
    "# we set the positions to 0 for atom 0 and to 0.5-4.0 for atom 2\n",
    "all_atoms = []\n",
    "nsteps=10\n",
    "positions=np.zeros((2,3))\n",
    "atomtype = [\"Na\",\"I\"]\n",
    "dr=(4-2)/nsteps\n",
    "all_distances = np.zeros((nsteps,1))\n",
    "for i in range(nsteps):\n",
    "    positions[1,2]=2+i*dr\n",
    "    all_distances[i]=2+i*dr\n",
    "    atoms = ase.atoms.Atoms(atomtype,positions)\n",
    "    all_atoms.append(atoms)\n",
    "#print(all_atoms[1].positions,all_atoms[2].positions)\n"
   ]
  },
  {
   "cell_type": "markdown",
   "metadata": {},
   "source": [
    "### TDDFT calculation of the excited states"
   ]
  },
  {
   "cell_type": "code",
   "execution_count": 5,
   "metadata": {},
   "outputs": [],
   "source": [
    "from psi4.driver.procrouting.response.scf_response import tdscf_excitations\n"
   ]
  },
  {
   "cell_type": "markdown",
   "metadata": {},
   "source": [
    "NaI has 64 electrons\n",
    "if we want to describe only the $\\sigma$ and $\\sigma^\\ast$ orbitals, then we need 2 electrons in 2 orbitals.\n",
    "Hence we have:\n",
    "* 62 electrons sit in 31 orbitals that are doubly occupied and inactive\n",
    "* orbital number 63 and 64 are active and contain all possible configurations of that 2 electrons can form (how many are these?)\n",
    "* orbitals above 65 are inactive and unoccupied."
   ]
  },
  {
   "cell_type": "code",
   "execution_count": 10,
   "metadata": {},
   "outputs": [
    {
     "name": "stdout",
     "output_type": "stream",
     "text": [
      "-7010.515950513774\n",
      "NaI0.out 349     MCSCF Root 0 energy =  -7010.515950513774442\n",
      "\n",
      "NaI0.out 365     MCSCF Root 1 energy =  -7009.776952022897603\n",
      "\n",
      "NaI0.out 381     MCSCF Root 2 energy =  -7008.887502002478868\n",
      "\n"
     ]
    },
    {
     "ename": "TypeError",
     "evalue": "'NoneType' object is not subscriptable",
     "output_type": "error",
     "traceback": [
      "\u001b[0;31m---------------------------------------------------------------------------\u001b[0m",
      "\u001b[0;31mTypeError\u001b[0m                                 Traceback (most recent call last)",
      "\u001b[0;32m<ipython-input-10-c4dfb697ba24>\u001b[0m in \u001b[0;36m<module>\u001b[0;34m()\u001b[0m\n\u001b[1;32m     31\u001b[0m     \u001b[0mprint\u001b[0m\u001b[0;34m(\u001b[0m\u001b[0mcasscf_energy\u001b[0m\u001b[0;34m)\u001b[0m\u001b[0;34m\u001b[0m\u001b[0;34m\u001b[0m\u001b[0m\n\u001b[1;32m     32\u001b[0m     \u001b[0menergy\u001b[0m \u001b[0;34m=\u001b[0m \u001b[0mgrep\u001b[0m\u001b[0;34m(\u001b[0m\u001b[0;34m\"MCSCF Root\"\u001b[0m\u001b[0;34m,\u001b[0m\u001b[0;34m\"NaI%i.out\"\u001b[0m\u001b[0;34m%\u001b[0m\u001b[0mstep\u001b[0m\u001b[0;34m)\u001b[0m\u001b[0;34m\u001b[0m\u001b[0;34m\u001b[0m\u001b[0m\n\u001b[0;32m---> 33\u001b[0;31m     \u001b[0mprint\u001b[0m\u001b[0;34m(\u001b[0m\u001b[0menergy\u001b[0m\u001b[0;34m[\u001b[0m\u001b[0;36m7\u001b[0m\u001b[0;34m]\u001b[0m\u001b[0;34m)\u001b[0m\u001b[0;34m\u001b[0m\u001b[0;34m\u001b[0m\u001b[0m\n\u001b[0m\u001b[1;32m     34\u001b[0m     \u001b[0menergies\u001b[0m\u001b[0;34m[\u001b[0m\u001b[0mstep\u001b[0m\u001b[0;34m]\u001b[0m\u001b[0;34m=\u001b[0m\u001b[0menergy\u001b[0m\u001b[0;34m\u001b[0m\u001b[0;34m\u001b[0m\u001b[0m\n\u001b[1;32m     35\u001b[0m \u001b[0;34m\u001b[0m\u001b[0m\n",
      "\u001b[0;31mTypeError\u001b[0m: 'NoneType' object is not subscriptable"
     ]
    }
   ],
   "source": [
    "#casscf test\n",
    "import psi4\n",
    "psi4.core.clean_options()\n",
    "\n",
    "nai = psi4.geometry(\"\"\"0 1\n",
    "Na        0.000000    0.0   0.0\n",
    "I      -0.000000   -0.0   1.5 \n",
    "symmetry c1\n",
    "\"\"\")\n",
    "n_states = 3\n",
    "psi4.set_options({\n",
    "    'basis': 'sto-3g',\n",
    "    'reference': 'rhf',\n",
    "    'scf_type':'pk',\n",
    "    'mcscf_algorithm':'ah',\n",
    "    'qc_module': 'detci',\n",
    "    'nat_orbs': True,\n",
    "        'num_roots':3,\n",
    "    'frozen_docc': [31],\n",
    "    'active': [2]\n",
    "})\n",
    "energies = np.zeros((nsteps,n_states)) \n",
    "for step in range(nsteps):\n",
    "    geom_input = geom_ase_to_psi4(all_atoms[step], charge=0, multiplicity=1)\n",
    "    psi4.core.set_output_file(\"NaI%i.out\"%step)\n",
    "\n",
    "    #initiate Psi4 molecule object\n",
    "    h2 = psi4.geometry(geom_input)\n",
    "\n",
    "    casscf_energy, wfn = psi4.energy('casscf', return_wfn=True)\n",
    "    print(casscf_energy)\n",
    "    energy = grep(\"MCSCF Root\",\"NaI%i.out\"%step)\n",
    "    energies[step]=energy\n",
    "\n",
    "    "
   ]
  },
  {
   "cell_type": "code",
   "execution_count": 5,
   "metadata": {},
   "outputs": [
    {
     "name": "stdout",
     "output_type": "stream",
     "text": [
      "-151.38223159012819\n",
      "[]\n"
     ]
    }
   ],
   "source": [
    "import psi4\n",
    "#psi4.core.clean_options()\n",
    "from psi4.driver.procrouting.response.scf_response import tdscf_excitations\n",
    "psi4.core.clean()\n",
    "psi4.core.set_output_file(\"moxy.out\")\n",
    "psi4.core.set_num_threads(4)\n",
    "\n",
    "h2o2 = psi4.geometry(\"\"\"0 1\n",
    "O        0.000000    0.695000   -0.092486\n",
    "O       -0.000000   -0.695000   -0.092486\n",
    "H       -0.388142    0.895249    0.739888\n",
    "H        0.388142   -0.895249    0.739888\"\"\", name=\"H2O2\")\n",
    "psi4.set_options({\n",
    "    \"save_jk\": True,\n",
    "    \n",
    "})\n",
    "\n",
    "e, wfn = psi4.energy(\"PBE0/cc-pVDZ\", return_wfn=True, molecule=h2o2)\n",
    "print(e)\n",
    "res = tdscf_excitations(wfn, states=100)\n",
    "print(res)"
   ]
  },
  {
   "cell_type": "code",
   "execution_count": 34,
   "metadata": {},
   "outputs": [],
   "source": [
    "%less moxy.out"
   ]
  },
  {
   "cell_type": "code",
   "execution_count": 19,
   "metadata": {},
   "outputs": [
    {
     "ename": "IndexError",
     "evalue": "list index out of range",
     "output_type": "error",
     "traceback": [
      "\u001b[0;31m---------------------------------------------------------------------------\u001b[0m",
      "\u001b[0;31mIndexError\u001b[0m                                Traceback (most recent call last)",
      "\u001b[0;32m<ipython-input-19-0938151e5e7a>\u001b[0m in \u001b[0;36m<module>\u001b[0;34m()\u001b[0m\n\u001b[0;32m----> 1\u001b[0;31m \u001b[0;32mfor\u001b[0m \u001b[0mk\u001b[0m\u001b[0;34m,\u001b[0m \u001b[0mv\u001b[0m \u001b[0;32min\u001b[0m \u001b[0mres\u001b[0m\u001b[0;34m[\u001b[0m\u001b[0;36m0\u001b[0m\u001b[0;34m]\u001b[0m\u001b[0;34m.\u001b[0m\u001b[0mitems\u001b[0m\u001b[0;34m(\u001b[0m\u001b[0;34m)\u001b[0m\u001b[0;34m:\u001b[0m\u001b[0;34m\u001b[0m\u001b[0;34m\u001b[0m\u001b[0m\n\u001b[0m\u001b[1;32m      2\u001b[0m     \u001b[0mprint\u001b[0m\u001b[0;34m(\u001b[0m\u001b[0;34mf\"{k} = {v}\"\u001b[0m\u001b[0;34m)\u001b[0m\u001b[0;34m\u001b[0m\u001b[0;34m\u001b[0m\u001b[0m\n",
      "\u001b[0;31mIndexError\u001b[0m: list index out of range"
     ]
    }
   ],
   "source": [
    "for k, v in res[0].items():\n",
    "    print(f\"{k} = {v}\")"
   ]
  },
  {
   "cell_type": "code",
   "execution_count": 14,
   "metadata": {},
   "outputs": [
    {
     "ename": "NameError",
     "evalue": "name 'all_energies' is not defined",
     "output_type": "error",
     "traceback": [
      "\u001b[0;31m---------------------------------------------------------------------------\u001b[0m",
      "\u001b[0;31mNameError\u001b[0m                                 Traceback (most recent call last)",
      "\u001b[0;32m<ipython-input-14-e4d5d3ce31e8>\u001b[0m in \u001b[0;36m<module>\u001b[0;34m()\u001b[0m\n\u001b[0;32m----> 1\u001b[0;31m \u001b[0mplt\u001b[0m\u001b[0;34m.\u001b[0m\u001b[0mplot\u001b[0m\u001b[0;34m(\u001b[0m\u001b[0mall_distances\u001b[0m\u001b[0;34m,\u001b[0m\u001b[0mall_energies\u001b[0m\u001b[0;34m,\u001b[0m\u001b[0mlabel\u001b[0m \u001b[0;34m=\u001b[0m \u001b[0;34m\"RHF\"\u001b[0m\u001b[0;34m)\u001b[0m\u001b[0;34m\u001b[0m\u001b[0;34m\u001b[0m\u001b[0m\n\u001b[0m\u001b[1;32m      2\u001b[0m \u001b[0mplt\u001b[0m\u001b[0;34m.\u001b[0m\u001b[0mlegend\u001b[0m\u001b[0;34m(\u001b[0m\u001b[0;34m)\u001b[0m\u001b[0;34m\u001b[0m\u001b[0;34m\u001b[0m\u001b[0m\n",
      "\u001b[0;31mNameError\u001b[0m: name 'all_energies' is not defined"
     ]
    }
   ],
   "source": [
    "plt.plot(all_distances,all_energies,label = \"RHF\")\n",
    "plt.legend()"
   ]
  },
  {
   "cell_type": "markdown",
   "metadata": {},
   "source": [
    "### Compare to UHF\n",
    "\n",
    "ICH WOLLTE AUCH OPEN SHELL UND CLOSED SHELL VERGLEICHEN ABER PSI4 MACHT GENAU DAS GLEICHE BEI RHF UND UHF?"
   ]
  },
  {
   "cell_type": "code",
   "execution_count": 75,
   "metadata": {},
   "outputs": [],
   "source": [
    "psi4.core.clean()\n",
    "#psi4.core.reopen_outfile()\n",
    "psi4.core.set_output_file('output.dat', False)\n",
    "psi4.set_memory('1000 MB')\n",
    "all_energies_uhf = []\n",
    "##set geometry\n",
    "#transform ase geometries to Psi4 input string\n",
    "for i in range(nsteps):\n",
    "    geom_input = geom_ase_to_psi4(all_atoms[i], charge=0, multiplicity=1)\n",
    "    #initiate Psi4 molecule object\n",
    "    h2 = psi4.geometry(geom_input)\n",
    "\n",
    "    # Set computation options\n",
    "    psi4.set_options({'basis': '3-21G',\n",
    "                  'reference': 'uhf',\n",
    "                      'scf_type':'direct',\n",
    "                  'e_convergence': 1e-10})\n",
    "\n",
    "    E, wvf = psi4.energy('scf',return_wfn=True)\n",
    "    all_energies_uhf.append(E)\n",
    "    #print('Total HF energy is {0} Hartree \\n '.format(E))\n"
   ]
  },
  {
   "cell_type": "code",
   "execution_count": 77,
   "metadata": {},
   "outputs": [
    {
     "data": {
      "text/plain": [
       "<matplotlib.legend.Legend at 0x2b1b06961f10>"
      ]
     },
     "execution_count": 77,
     "metadata": {},
     "output_type": "execute_result"
    },
    {
     "data": {
      "image/png": "[encoded data removed]",
      "text/plain": [
       "<Figure size 432x288 with 1 Axes>"
      ]
     },
     "metadata": {
      "needs_background": "light"
     },
     "output_type": "display_data"
    }
   ],
   "source": [
    "plt.plot(all_distances,all_energies,label = \"RHF\")\n",
    "plt.plot(all_distances,all_energies_uhf,label = \"UHF\",linestyle=\"-.\")\n",
    "plt.legend()"
   ]
  },
  {
   "cell_type": "markdown",
   "metadata": {},
   "source": [
    "## Let's see if MP2 can give a better result"
   ]
  },
  {
   "cell_type": "code",
   "execution_count": 60,
   "metadata": {},
   "outputs": [],
   "source": [
    "all_energies_mp2 = []\n",
    "for i in range(nsteps):\n",
    "    #print(\"Do calculations for MP2 step %i\"%i)\n",
    "    geom_input = geom_ase_to_psi4(all_atoms[i], charge=0, multiplicity=1)\n",
    "    #initiate Psi4 molecule object\n",
    "    h2 = psi4.geometry(geom_input)\n",
    "\n",
    "    # Set computation options\n",
    "    psi4.set_options({'basis': '3-21G',\n",
    "                  'reference': 'uhf',\n",
    "                  'scf_type':'direct',\n",
    "                    'e_convergence':1e-8})\n",
    "    E, wvf = psi4.energy('mp2',return_wfn=True)\n",
    "    all_energies_mp2.append(E)\n",
    "    #print('Total HF energy is {0} Hartree \\n '.format(E))\n"
   ]
  },
  {
   "cell_type": "code",
   "execution_count": 61,
   "metadata": {
    "scrolled": true
   },
   "outputs": [
    {
     "data": {
      "text/plain": [
       "<matplotlib.legend.Legend at 0x2b1b08ef9410>"
      ]
     },
     "execution_count": 61,
     "metadata": {},
     "output_type": "execute_result"
    },
    {
     "data": {
      "image/png": "[encoded data removed]",
      "text/plain": [
       "<Figure size 432x288 with 1 Axes>"
      ]
     },
     "metadata": {
      "needs_background": "light"
     },
     "output_type": "display_data"
    }
   ],
   "source": [
    "plt.plot(all_distances,all_energies,label=\"HF\")\n",
    "plt.plot(all_distances,all_energies_mp2,label=\"MP2\",linestyle=\"--\")\n",
    "plt.legend()"
   ]
  },
  {
   "cell_type": "markdown",
   "metadata": {},
   "source": [
    "## Questions\n",
    "As you can see, HF differs strongly from MP2. \n",
    "Further, you can see that the MP2-dissociation curve decreases in energy at large distances. Do you expect this behaviour?"
   ]
  },
  {
   "cell_type": "markdown",
   "metadata": {},
   "source": [
    "## Group Work: Dissociation curve of H$_2$"
   ]
  },
  {
   "cell_type": "markdown",
   "metadata": {},
   "source": [
    "First, we are going to calculate the dissociation curve of the beryllium dimer with different methods. Therefore, each of you will get a different method. In the end, we will compare the different results and investigate the differences of each method.\n",
    "\n",
    "The methods that should be tested are:\n",
    "* HF\n",
    "* MP2\n",
    "* DFT/PBE\n",
    "* DFT/PBE0\n",
    "* DFT/LDA\n",
    "* CASSCF(2,2)\n",
    "* CCSD"
   ]
  },
  {
   "cell_type": "markdown",
   "metadata": {},
   "source": [
    "\n",
    "\n",
    "With each method the basis set convergence should be investigated. Therefore, plot the dissociation curves between a bond length of 0.5 to 4.0 Angstrom with a double-zeta, triple-zeta basis set and a higher-accurate basis set of your choice.\n",
    "Plot the results and let us know whenever you are finished."
   ]
  },
  {
   "cell_type": "markdown",
   "metadata": {},
   "source": [
    "## References\n",
    "1. [[Szabo:1996](http://store.doverpublications.com/0486691861.html)] A. Szabo and N. S. Ostlund, *Modern Quantum Chemistry*, Introduction to Advanced Electronic Structure Theory. Courier Corporation, 1996.\n",
    "2. [[Levine:2000](https://books.google.com/books?id=80RpQgAACAAJ&dq=levine%20quantum%20chemistry%205th%20edition&source=gbs_book_other_versions)] I. N. Levine, *Quantum Chemistry*. Prentice-Hall, New Jersey, 5th edition, 2000.\n",
    "3. [[Helgaker:2000](https://books.google.com/books?id=lNVLBAAAQBAJ&pg=PT1067&dq=helgaker+molecular+electronic+structure+theory&hl=en&sa=X&ved=0ahUKEwj37I7MkofUAhWG5SYKHaoPAAkQ6AEIKDAA#v=onepage&q=helgaker%20molecular%20electronic%20structure%20theory&f=false)] T. Helgaker, P. Jorgensen, and J. Olsen, *Molecular Electronic Structure Theory*, John Wiley & Sons Inc, 2000.\n",
    "4. J. Chem. Phys. 91, 7415 (1989), doi: 10.1063/1.457266"
   ]
  },
  {
   "cell_type": "code",
   "execution_count": null,
   "metadata": {},
   "outputs": [],
   "source": []
  }
 ],
 "metadata": {
  "kernelspec": {
   "display_name": "Python 3",
   "language": "python",
   "name": "python3"
  },
  "language_info": {
   "codemirror_mode": {
    "name": "ipython",
    "version": 3
   },
   "file_extension": ".py",
   "mimetype": "text/x-python",
   "name": "python",
   "nbconvert_exporter": "python",
   "pygments_lexer": "ipython3",
   "version": "3.6.10"
  }
 },
 "nbformat": 4,
 "nbformat_minor": 2
}
