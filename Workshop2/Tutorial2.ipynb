{
 "cells": [
  {
   "cell_type": "markdown",
   "id": "exterior-harbor",
   "metadata": {},
   "source": [
    "<div class=\"alert alert-block alert-info\">\n",
    "    \n",
    "<h2>How to access this Jupyter notebook</h2>\n",
    "\n",
    "* <b>Step 1</b>: Open a web browser,  and go to [this page](https://jupyter.warwick.ac.uk/module/CH274), \n",
    "* <b>Step 2</b>: Enter your SCRTP username and password and press the \"Start Server\" button.<br>\n",
    "* <b>Step 3</b>: Wait (it could take a few minutes) until the blue box says \"Jupyter notebook server running!\". At that point, click on the weblink below said message.<br>\n",
    "* <b>Step 4</b>: Select the Jupyter Notebook you want to work on. <i>Remember to make a copy of the orginal notebook</i> (which is read-only). To do so, in the toolbar on top of the notebook, select File and then Make a Copy <br>\n",
    "* <b>Step 5</b>: You're all set! <br>\n",
    "* <b>Step 6</b>: <font color=\"red\">When you are done, remember to click the \"Stop Server\" button in the launcher web browser tab.</font> Please do, it's really quite important. <br>\n",
    "<b> Remember: </b> You can access your copy of the Notebook at any time from any device off and on campus by going through the same steps on e.g. your laptop - all the changes you have made will be saved and synced! <br>\n",
    "\n",
    "</div>"
   ]
  },
  {
   "cell_type": "code",
   "execution_count": 1,
   "id": "precise-collection",
   "metadata": {},
   "outputs": [],
   "source": [
    "import fileinput\n",
    "import re\n",
    "import glob\n",
    "\n",
    "def grep(PAT, FILES,index):\n",
    "    energies=[]\n",
    "    fileinput.close()\n",
    "    for line in fileinput.input(glob.glob(FILES)):\n",
    "        if re.search(PAT, line):\n",
    "            energies.append(float(line.split()[index]))\n",
    "    return energies"
   ]
  },
  {
   "cell_type": "code",
   "execution_count": 2,
   "id": "pharmaceutical-history",
   "metadata": {},
   "outputs": [],
   "source": [
    "#Import necessary modules\n",
    "import numpy as np\n",
    "import matplotlib.pyplot as plt\n",
    "import psi4\n",
    "import ase\n",
    "from ase.build import molecule\n",
    "from ase.atoms import Atoms\n",
    "from ase.visualize import view\n",
    "from ase.visualize.plot import plot_atoms\n",
    "from psi4_helper import geom_ase_to_psi4"
   ]
  },
  {
   "cell_type": "markdown",
   "id": "prepared-rally",
   "metadata": {},
   "source": [
    "# Excited states of NaI\n",
    "\n",
    "In the second part of this exercise, the focus will be on excited states. Excited states play a significant role in photochemistry. As you have heard in the previous tutorial, calculation of excited states and their properties requires different methods than for the ground state chemistry. For the excited states, the approximation of only one Slater determinant is usually not valid. Unlike Hartree-Fock, multiconfigurational methods do not restrict the wavefunction to a single Slater determinant, but allow it to be a priori a linear combination of multiple Slater determinants.\n",
    "On the side of DFT, TD-DFT can be used to compute the excited-state properties without calculating the excited state wavefunction explicitly. This is faster and easier to use than multiconfigurational methods, but the accuracy may be inferior.\n",
    "\n",
    "In this exercise we will calculate the excitation energies of the dissociation curve of the sodium iodide (NaI).\n",
    "This system has been studied via pump-probe spectroscopy by Ahmed Zewail, who received the Nobel Prize for his work in 1999 (J. Chem. Phys. 91, 7415 (1989), doi: 10.1063/1.457266). You will see that the ground state and the first excited singlet state will form an avoided crossing. We will investigate this reaction with TDDFT and CASSCF.\n",
    "\n",
    "\n",
    "</div>\n",
    "<img src=\"NaI2.png\" width=\"350\"/>\n",
    "</div>\n",
    "<p> Potential energy curves of NaI (Fig. 2 in Ref. 4).</p>\n"
   ]
  },
  {
   "cell_type": "code",
   "execution_count": 4,
   "id": "complimentary-girlfriend",
   "metadata": {},
   "outputs": [],
   "source": [
    "# Prepare the geometries\n",
    "\n",
    "# we set the positions to 0 for atom 0 and to 2-6.0 for atom 2\n",
    "all_atoms = []\n",
    "nsteps=15\n",
    "positions=np.zeros((2,3))\n",
    "atomtype = [\"Na\",\"I\"]\n",
    "dr=(6-2)/nsteps\n",
    "all_distances = np.zeros((nsteps,1))\n",
    "for i in range(nsteps):\n",
    "    positions[1,2]=2+i*dr\n",
    "    all_distances[i]=2+i*dr\n",
    "    atoms = ase.atoms.Atoms(atomtype,positions)\n",
    "    all_atoms.append(atoms)\n",
    "#print(all_atoms[1].positions,all_atoms[2].positions)"
   ]
  },
  {
   "cell_type": "markdown",
   "id": "compact-medicare",
   "metadata": {},
   "source": [
    "### CASSCF calculation of the excited states\n",
    "\n",
    "NaI has 64 electrons\n",
    "if we want to describe only the $\\sigma$ and $\\sigma^\\ast$ orbitals, then we need 2 electrons in 2 orbitals.\n",
    "Hence we have:\n",
    "* 62 electrons sit in 31 orbitals that are doubly occupied and inactive\n",
    "* orbital number 63 and 64 are active and all possible configurations of 2 electrons in these orbitals will be created (how many are these?)\n",
    "* orbitals above 65 are inactive and unoccupied."
   ]
  },
  {
   "cell_type": "code",
   "execution_count": 7,
   "id": "treated-animal",
   "metadata": {},
   "outputs": [],
   "source": [
    "#casscf test\n",
    "import psi4\n",
    "psi4.core.clean_options()\n",
    "psi4.set_memory('2 GB');\n",
    "n_states = 3 # number of electronic states to be calculated, ground-state plus 2 excited states\n",
    "psi4.set_options({\n",
    "    'basis': 'sto-3g',\n",
    "    'reference': 'rhf',\n",
    "    'scf_type':'pk',\n",
    "    'mcscf_algorithm':'ah',\n",
    "    'qc_module': 'detci',\n",
    "    'nat_orbs': True,\n",
    "    'num_roots':n_states,\n",
    "    'frozen_docc': [31],\n",
    "    'active': [2],\n",
    "    'mcscf_diis_start':35,\n",
    "    'maxiter':300\n",
    "\n",
    "})\n",
    "energies_casscf = np.zeros((nsteps,n_states)) \n",
    "for step in range(nsteps):\n",
    "    geom_input = geom_ase_to_psi4(all_atoms[step], charge=0, multiplicity=1)\n",
    "    psi4.core.set_output_file(\"NaI%i.out\"%step)\n",
    "\n",
    "    #initiate Psi4 molecule object\n",
    "    nai = psi4.geometry(geom_input)\n",
    "    try:\n",
    "        casscf_energy, wfn = psi4.energy('casscf', return_wfn=True)\n",
    "        energy = grep(\"MCSCF Root\",\"NaI%i.out\"%step,5)\n",
    "        energies_casscf[step]=energy\n",
    "    except:\n",
    "        pass\n",
    "\n",
    "    "
   ]
  },
  {
   "cell_type": "code",
   "execution_count": 8,
   "id": "temporal-strip",
   "metadata": {},
   "outputs": [
    {
     "data": {
      "text/plain": [
       "(0.0, 2.0)"
      ]
     },
     "execution_count": 8,
     "metadata": {},
     "output_type": "execute_result"
    },
    {
     "data": {
      "image/png": "[encoded data removed]",
      "text/plain": [
       "<Figure size 432x288 with 1 Axes>"
      ]
     },
     "metadata": {
      "needs_background": "light"
     },
     "output_type": "display_data"
    }
   ],
   "source": [
    "minimum=np.min(energies_casscf[:10])\n",
    "for i in range(3):\n",
    "    plt.scatter(all_distances,energies_casscf[:,i]-minimum,label=\"State %i\"%i)\n",
    "plt.legend()\n",
    "plt.ylim(0,2)"
   ]
  },
  {
   "cell_type": "markdown",
   "id": "dangerous-carolina",
   "metadata": {},
   "source": [
    "As you can see, the accuracy of CASSCF could definitely be improved by a larger basis set or a larger active space. This calculation is, however, quite expensive, such that this notebook cannot handle it anymore.\n",
    "Further, it would be good to calculate larger bond distances, but with the current wave function, it's had to get the MCSCF converged.\n",
    "\n",
    "we will compare to <b> CCSD<b>, which can also do excited-state calculations: "
   ]
  },
  {
   "cell_type": "markdown",
   "id": "greek-racing",
   "metadata": {},
   "source": [
    "### CCSD\n",
    "We will extend the geometries to larger bond distances (CASSCF wave function fails to converge with current settings)"
   ]
  },
  {
   "cell_type": "code",
   "execution_count": null,
   "id": "combined-childhood",
   "metadata": {},
   "outputs": [],
   "source": []
  },
  {
   "cell_type": "code",
   "execution_count": 8,
   "id": "pleasant-setting",
   "metadata": {},
   "outputs": [],
   "source": [
    "#Make more geometries\n",
    "# we set the positions to 0 for atom 0 and to 0.5-4.0 for atom 2\n",
    "all_atoms = []\n",
    "nsteps=20\n",
    "positions=np.zeros((2,3))\n",
    "atomtype = [\"Na\",\"I\"]\n",
    "dr=(6-2)/nsteps\n",
    "all_distances = np.zeros((nsteps,1))\n",
    "for i in range(nsteps):\n",
    "    positions[1,2]=2+i*dr\n",
    "    all_distances[i]=2+i*dr\n",
    "    atoms = ase.atoms.Atoms(atomtype,positions)\n",
    "    all_atoms.append(atoms)\n",
    "#print(all_atoms[1].positions,all_atoms[2].positions)\n"
   ]
  },
  {
   "cell_type": "code",
   "execution_count": 11,
   "id": "seventh-priority",
   "metadata": {},
   "outputs": [],
   "source": [
    "psi4.core.clean_options()\n",
    "n_states = 3\n",
    "psi4.set_memory('2 GB')\n",
    "psi4.set_options({\n",
    "    'basis': 'sto-3g',\n",
    "    'reference': 'rhf',\n",
    "    'scf_type':'pk',\n",
    "    'roots_per_irrep': [n_states],\n",
    "    'maxiter': 150\n",
    "})\n",
    "energies_cc = []# np.zeros((nsteps,n_states)) \n",
    "for step in range(nsteps):\n",
    "    geom_input = geom_ase_to_psi4(all_atoms[step], charge=0, multiplicity=1)\n",
    "    psi4.core.set_output_file(\"NaI%i_CC.out\"%step)\n",
    "\n",
    "    #initiate Psi4 molecule object\n",
    "    nai = psi4.geometry(geom_input)\n",
    "    if step == 0:\n",
    "        energy,wfn=psi4.energy(\"eom-ccsd\",return_wfn=True)\n",
    "    else:\n",
    "        energy,wfn=psi4.energy(\"eom-ccsd\",return_wfn=True)#,wfn_guess=wfn)\n",
    "    energy_cc = grep(\"EOM State\",\"NaI%i_CC.out\"%step,6)\n",
    "    energies_cc.append(energy_cc)\n",
    "    \n"
   ]
  },
  {
   "cell_type": "code",
   "execution_count": 12,
   "id": "raising-wilderness",
   "metadata": {},
   "outputs": [
    {
     "data": {
      "text/plain": [
       "<matplotlib.legend.Legend at 0x2af38c587850>"
      ]
     },
     "execution_count": 12,
     "metadata": {},
     "output_type": "execute_result"
    },
    {
     "data": {
      "image/png": "[encoded data removed]",
      "text/plain": [
       "<Figure size 432x288 with 1 Axes>"
      ]
     },
     "metadata": {
      "needs_background": "light"
     },
     "output_type": "display_data"
    }
   ],
   "source": [
    "energies_cc=np.array(energies_cc)\n",
    "for i in range(3):\n",
    "    plt.scatter(all_distances,energies_cc[:,i],label=\"CCSD State %i\"%i,linewidth=3,linestyle=\"--\")\n",
    "plt.legend()\n",
    "plt.legend()"
   ]
  },
  {
   "cell_type": "markdown",
   "id": "numerical-missile",
   "metadata": {},
   "source": [
    "This is also a very nice example of a calculation that fails.\n",
    "Such jumps in the potential energy curves are very common in excited-state simulations and complicate any fitting process that might be powerful for ground-state problems and systems with little correlation."
   ]
  },
  {
   "cell_type": "markdown",
   "id": "chief-beauty",
   "metadata": {},
   "source": [
    "### TASK\n",
    "\n",
    "Play around and try to find settings that give qualitatively correct results.\n",
    "You can either alter the active space or convergence criteria in CASSCF, change the basis set (see here for basis sets for iodine: https://psicode.org/psi4manual/master/basissets_byelement.html#apdx-basiselement), change settings in CCSD or try different methods, such as TDDFT.\n",
    "\n",
    "<b> How would you perform a doublet, triplet, etc. state calculation instead of singlet excited state calculation? What do you need to change in your input? <b>"
   ]
  },
  {
   "cell_type": "markdown",
   "id": "placed-robertson",
   "metadata": {},
   "source": [
    "## References\n",
    "1. [[Szabo:1996](http://store.doverpublications.com/0486691861.html)] A. Szabo and N. S. Ostlund, *Modern Quantum Chemistry*, Introduction to Advanced Electronic Structure Theory. Courier Corporation, 1996.\n",
    "2. [[Levine:2000](https://books.google.com/books?id=80RpQgAACAAJ&dq=levine%20quantum%20chemistry%205th%20edition&source=gbs_book_other_versions)] I. N. Levine, *Quantum Chemistry*. Prentice-Hall, New Jersey, 5th edition, 2000.\n",
    "3. [[Helgaker:2000](https://books.google.com/books?id=lNVLBAAAQBAJ&pg=PT1067&dq=helgaker+molecular+electronic+structure+theory&hl=en&sa=X&ved=0ahUKEwj37I7MkofUAhWG5SYKHaoPAAkQ6AEIKDAA#v=onepage&q=helgaker%20molecular%20electronic%20structure%20theory&f=false)] T. Helgaker, P. Jorgensen, and J. Olsen, *Molecular Electronic Structure Theory*, John Wiley & Sons Inc, 2000.\n",
    "4. J. Chem. Phys. 91, 7415 (1989), doi: 10.1063/1.457266"
   ]
  },
  {
   "cell_type": "code",
   "execution_count": null,
   "id": "leading-collar",
   "metadata": {},
   "outputs": [],
   "source": []
  }
 ],
 "metadata": {
  "kernelspec": {
   "display_name": "Python 3",
   "language": "python",
   "name": "python3"
  },
  "language_info": {
   "codemirror_mode": {
    "name": "ipython",
    "version": 3
   },
   "file_extension": ".py",
   "mimetype": "text/x-python",
   "name": "python",
   "nbconvert_exporter": "python",
   "pygments_lexer": "ipython3",
   "version": "3.7.8"
  }
 },
 "nbformat": 4,
 "nbformat_minor": 5
}
