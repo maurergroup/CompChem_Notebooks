{
 "cells": [
  {
   "cell_type": "markdown",
   "metadata": {},
   "source": [
    "## Sucesses and Failures of Hartree-Fock\n"
   ]
  },
  {
   "cell_type": "markdown",
   "metadata": {},
   "source": [
    "In this example, we will quantify the different sources for error of the Hartree Fock method on the example of the H$_2$ molecule."
   ]
  },
  {
   "cell_type": "code",
   "execution_count": 1,
   "metadata": {},
   "outputs": [],
   "source": [
    "from ase.build import molecule\n",
    "from ase.atoms import Atoms\n",
    "import numpy as np\n",
    "import matplotlib.pyplot as plt\n",
    "import psi4\n",
    "from psi4_helper import geom_ase_to_psi4\n",
    "\n",
    "diatomic = 'C2'"
   ]
  },
  {
   "cell_type": "code",
   "execution_count": null,
   "metadata": {},
   "outputs": [],
   "source": [
    "print('.', end='')\n",
    "atoms = Atoms(diatomic)\n",
    "atoms.positions[1,2] = 1.5\n",
    "geom_input = geom_ase_to_psi4(atoms, charge=0, multiplicity=1)\n",
    "  #initiate Psi4 molecule object\n",
    "h2 = psi4.geometry(geom_input)\n",
    "\n",
    "  # Set computation options\n",
    "psi4.set_options({'basis': '3-21G',\n",
    "                  'reference': 'rhf',\n",
    "                  'scf_type':'pk',\n",
    "                  #'frozen_docc': [0],\n",
    "                  #'active':[4],\n",
    "                  #'frozen_uocc': [0],\n",
    "                  'e_convergence': 1e-8})\n",
    "E,wfn = psi4.energy('scf',return_wfn=True)\n",
    "psi4.molden(wfn,'c2.molden')"
   ]
  },
  {
   "cell_type": "code",
   "execution_count": 4,
   "metadata": {},
   "outputs": [
    {
     "name": "stdout",
     "output_type": "stream",
     "text": [
      ". 0.4 -66.84414714958633 0\n",
      ". 0.6 -72.16352508075667 0\n",
      ". 0.7 -73.3640305088472 0\n",
      ". 0.8 -74.1145656053884 0\n",
      ". 0.9 -74.36058272141038 0\n",
      ". 1.0 -74.68254386670876 0\n",
      ". 1.1 -74.90594474340683 0\n",
      ". 1.2 -74.94481910775252 0\n",
      ". 1.4 -74.98506898837397 0\n",
      ". 1.8 -74.90922754407586 0\n",
      ". 2.2 -74.80553148039115 0\n",
      ". 3.0 -74.63762210102273 0\n",
      ". 3.5 -74.78140482776837 0\n",
      ". 4.5 -74.49490079173465 0\n",
      ". 6 -74.45590823843044 0\n",
      ". 10.0 -74.78273158707306 0\n",
      "calculations finished!\n"
     ]
    }
   ],
   "source": [
    "psi4.core.clean()\n",
    "psi4.core.set_output_file('output.dat', False)\n",
    "psi4.set_memory('6000 MB')\n",
    "\n",
    "distances = [0.4,0.6,0.7,0.8,0.9,1.0,1.1,1.2,1.4,1.8,2.2,3.0,3.5,4.5,6,10.]\n",
    "\n",
    "E_HF = []\n",
    "E_exact = []\n",
    "\n",
    "for i in distances:\n",
    "  print('. ', end='')\n",
    "  atoms = Atoms(diatomic)\n",
    "  atoms.positions[1,2] = i\n",
    "  geom_input = geom_ase_to_psi4(atoms, charge=0, multiplicity=1)\n",
    "  #initiate Psi4 molecule object\n",
    "  h2 = psi4.geometry(geom_input)\n",
    "\n",
    "  # Set computation options\n",
    "  psi4.set_options({'basis': '3-21G',\n",
    "                  'reference': 'rhf',\n",
    "                  'scf_type':'direct',\n",
    "                  'frozen_docc': [2],\n",
    "                  'active':[14],\n",
    "                  'frozen_uocc': [2],\n",
    "                  'ci_maxiter': 100,\n",
    "                  'e_convergence': 1e-8})\n",
    "\n",
    "  E_HF.append(psi4.energy('scf',return_wfn=False))\n",
    "  #E_exact.append(psi4.energy('fci',return_wfn=False))\n",
    "  E_exact.append(0)\n",
    "  print (i, E_HF[-1], E_exact[-1])\n",
    "\n",
    "print('calculations finished!')\n",
    "#for x, i,j in zip(distances,E_HF, E_exact):\n",
    "#    print(x, i,j)"
   ]
  },
  {
   "cell_type": "code",
   "execution_count": null,
   "metadata": {},
   "outputs": [],
   "source": [
    "%matplotlib notebook\n",
    "plt.plot(distances, E_HF,'b',label='HF')\n",
    "plt.plot(distances, E_exact,'r',label='exact')\n",
    "plt.legend()\n",
    "plt.xlabel('H-H distance in Angstrom $\\AA$')\n",
    "plt.ylabel('energy in Hartree [$E_H$]')"
   ]
  },
  {
   "cell_type": "markdown",
   "metadata": {},
   "source": [
    "The exact solution includes all possible Slater determinants and correctly describes bond breaking. This is, however, in almost all cases impossible to calculate.\n",
    "\n",
    "We can find a solution to the correlation problem in two steps:\n",
    "* first we account for static correlation in the bond breaking limit. This will treat all H-H distances equally\n",
    "* Then we can include dynamic correlation"
   ]
  },
  {
   "cell_type": "code",
   "execution_count": 5,
   "metadata": {},
   "outputs": [
    {
     "name": "stdout",
     "output_type": "stream",
     "text": [
      ". 0.4 -66.87320040165278\n",
      ". 0.6 -72.2669107049573\n",
      ". 0.7 -73.52363948583401\n",
      ". 0.8 -74.3080355683953\n",
      ". 0.9 -74.76345382177082\n",
      ". 1.0 -75.00723797334713\n",
      ". 1.1 -75.12576799662014\n",
      ". 1.2 -75.17115169050629\n",
      ". 1.4 -75.15747304399395\n",
      ". 1.8 -75.04873846714926\n",
      ". 2.2 -75.0007399833979\n",
      ". 3.0 -74.97229116739274\n",
      ". 3.5 -74.96835668920913\n",
      ". 4.5 -74.96610368675915\n",
      ". 6 -74.96591375733942\n",
      ". "
     ]
    },
    {
     "ename": "RuntimeError",
     "evalue": "\nFatal Error: Iterations did not converge.\nError occurred in file: /scratch/psilocaluser/conda-builds/psi4_1495014881710/work/psi4/src/psi4/libparallel/process.cc on line: 194\nThe most recent 5 function calls were:\n\npsi::PsiException::PsiException(std::__cxx11::basic_string<char, std::char_traits<char>, std::allocator<char> >, char const*, int)\npsi::die_if_not_converged()\npsi::scf::HF::finalize_E()\npsi::scf::HF::compute_energy()\n",
     "output_type": "error",
     "traceback": [
      "\u001b[0;31m---------------------------------------------------------------------------\u001b[0m",
      "\u001b[0;31mRuntimeError\u001b[0m                              Traceback (most recent call last)",
      "\u001b[0;32m<ipython-input-5-bff16caa027d>\u001b[0m in \u001b[0;36m<module>\u001b[0;34m()\u001b[0m\n\u001b[1;32m     34\u001b[0m                    })\n\u001b[1;32m     35\u001b[0m \u001b[0;34m\u001b[0m\u001b[0m\n\u001b[0;32m---> 36\u001b[0;31m   \u001b[0mE\u001b[0m \u001b[0;34m=\u001b[0m \u001b[0mpsi4\u001b[0m\u001b[0;34m.\u001b[0m\u001b[0menergy\u001b[0m\u001b[0;34m(\u001b[0m\u001b[0;34m'casscf'\u001b[0m\u001b[0;34m)\u001b[0m\u001b[0;31m#,ref_wfn=cisd_wfn)\u001b[0m\u001b[0;34m\u001b[0m\u001b[0m\n\u001b[0m\u001b[1;32m     37\u001b[0m   \u001b[0mprint\u001b[0m\u001b[0;34m(\u001b[0m\u001b[0mi\u001b[0m\u001b[0;34m,\u001b[0m \u001b[0mE\u001b[0m\u001b[0;34m)\u001b[0m\u001b[0;34m\u001b[0m\u001b[0m\n\u001b[1;32m     38\u001b[0m   \u001b[0mE_CASSCF\u001b[0m\u001b[0;34m.\u001b[0m\u001b[0mappend\u001b[0m\u001b[0;34m(\u001b[0m\u001b[0mE\u001b[0m\u001b[0;34m)\u001b[0m\u001b[0;34m\u001b[0m\u001b[0m\n",
      "\u001b[0;32m~/psi4conda/lib/python3.6/site-packages/psi4/driver/driver.py\u001b[0m in \u001b[0;36menergy\u001b[0;34m(name, **kwargs)\u001b[0m\n\u001b[1;32m    458\u001b[0m             \u001b[0mshutil\u001b[0m\u001b[0;34m.\u001b[0m\u001b[0mcopy\u001b[0m\u001b[0;34m(\u001b[0m\u001b[0mitem\u001b[0m\u001b[0;34m,\u001b[0m \u001b[0mtargetfile\u001b[0m\u001b[0;34m)\u001b[0m\u001b[0;34m\u001b[0m\u001b[0m\n\u001b[1;32m    459\u001b[0m \u001b[0;34m\u001b[0m\u001b[0m\n\u001b[0;32m--> 460\u001b[0;31m     \u001b[0mwfn\u001b[0m \u001b[0;34m=\u001b[0m \u001b[0mprocedures\u001b[0m\u001b[0;34m[\u001b[0m\u001b[0;34m'energy'\u001b[0m\u001b[0;34m]\u001b[0m\u001b[0;34m[\u001b[0m\u001b[0mlowername\u001b[0m\u001b[0;34m]\u001b[0m\u001b[0;34m(\u001b[0m\u001b[0mlowername\u001b[0m\u001b[0;34m,\u001b[0m \u001b[0mmolecule\u001b[0m\u001b[0;34m=\u001b[0m\u001b[0mmolecule\u001b[0m\u001b[0;34m,\u001b[0m \u001b[0;34m**\u001b[0m\u001b[0mkwargs\u001b[0m\u001b[0;34m)\u001b[0m\u001b[0;34m\u001b[0m\u001b[0m\n\u001b[0m\u001b[1;32m    461\u001b[0m \u001b[0;34m\u001b[0m\u001b[0m\n\u001b[1;32m    462\u001b[0m     \u001b[0;32mfor\u001b[0m \u001b[0mpostcallback\u001b[0m \u001b[0;32min\u001b[0m \u001b[0mhooks\u001b[0m\u001b[0;34m[\u001b[0m\u001b[0;34m'energy'\u001b[0m\u001b[0;34m]\u001b[0m\u001b[0;34m[\u001b[0m\u001b[0;34m'post'\u001b[0m\u001b[0;34m]\u001b[0m\u001b[0;34m:\u001b[0m\u001b[0;34m\u001b[0m\u001b[0m\n",
      "\u001b[0;32m~/psi4conda/lib/python3.6/site-packages/psi4/driver/procrouting/proc.py\u001b[0m in \u001b[0;36mrun_detcas\u001b[0;34m(name, **kwargs)\u001b[0m\n\u001b[1;32m   4023\u001b[0m             \u001b[0mref_wfn\u001b[0m \u001b[0;34m=\u001b[0m \u001b[0mrun_dfmp2_gradient\u001b[0m\u001b[0;34m(\u001b[0m\u001b[0mname\u001b[0m\u001b[0;34m,\u001b[0m \u001b[0;34m**\u001b[0m\u001b[0mkwargs\u001b[0m\u001b[0;34m)\u001b[0m\u001b[0;34m\u001b[0m\u001b[0m\n\u001b[1;32m   4024\u001b[0m         \u001b[0;32melse\u001b[0m\u001b[0;34m:\u001b[0m\u001b[0;34m\u001b[0m\u001b[0m\n\u001b[0;32m-> 4025\u001b[0;31m             \u001b[0mref_wfn\u001b[0m \u001b[0;34m=\u001b[0m \u001b[0mscf_helper\u001b[0m\u001b[0;34m(\u001b[0m\u001b[0mname\u001b[0m\u001b[0;34m,\u001b[0m \u001b[0;34m**\u001b[0m\u001b[0mkwargs\u001b[0m\u001b[0;34m)\u001b[0m\u001b[0;34m\u001b[0m\u001b[0m\n\u001b[0m\u001b[1;32m   4026\u001b[0m \u001b[0;34m\u001b[0m\u001b[0m\n\u001b[1;32m   4027\u001b[0m         \u001b[0;31m# Ensure IWL files have been written\u001b[0m\u001b[0;34m\u001b[0m\u001b[0;34m\u001b[0m\u001b[0m\n",
      "\u001b[0;32m~/psi4conda/lib/python3.6/site-packages/psi4/driver/procrouting/proc.py\u001b[0m in \u001b[0;36mscf_helper\u001b[0;34m(name, **kwargs)\u001b[0m\n\u001b[1;32m   1328\u001b[0m         \u001b[0mscf_wfn\u001b[0m\u001b[0;34m.\u001b[0m\u001b[0mset_variable\u001b[0m\u001b[0;34m(\u001b[0m\u001b[0;34m\"-D Energy\"\u001b[0m\u001b[0;34m,\u001b[0m \u001b[0mdisp_energy\u001b[0m\u001b[0;34m)\u001b[0m\u001b[0;34m\u001b[0m\u001b[0m\n\u001b[1;32m   1329\u001b[0m \u001b[0;34m\u001b[0m\u001b[0m\n\u001b[0;32m-> 1330\u001b[0;31m     \u001b[0me_scf\u001b[0m \u001b[0;34m=\u001b[0m \u001b[0mscf_wfn\u001b[0m\u001b[0;34m.\u001b[0m\u001b[0mcompute_energy\u001b[0m\u001b[0;34m(\u001b[0m\u001b[0;34m)\u001b[0m\u001b[0;34m\u001b[0m\u001b[0m\n\u001b[0m\u001b[1;32m   1331\u001b[0m     \u001b[0mcore\u001b[0m\u001b[0;34m.\u001b[0m\u001b[0mset_variable\u001b[0m\u001b[0;34m(\u001b[0m\u001b[0;34m\"SCF TOTAL ENERGY\"\u001b[0m\u001b[0;34m,\u001b[0m \u001b[0me_scf\u001b[0m\u001b[0;34m)\u001b[0m\u001b[0;34m\u001b[0m\u001b[0m\n\u001b[1;32m   1332\u001b[0m     \u001b[0mcore\u001b[0m\u001b[0;34m.\u001b[0m\u001b[0mset_variable\u001b[0m\u001b[0;34m(\u001b[0m\u001b[0;34m\"CURRENT ENERGY\"\u001b[0m\u001b[0;34m,\u001b[0m \u001b[0me_scf\u001b[0m\u001b[0;34m)\u001b[0m\u001b[0;34m\u001b[0m\u001b[0m\n",
      "\u001b[0;31mRuntimeError\u001b[0m: \nFatal Error: Iterations did not converge.\nError occurred in file: /scratch/psilocaluser/conda-builds/psi4_1495014881710/work/psi4/src/psi4/libparallel/process.cc on line: 194\nThe most recent 5 function calls were:\n\npsi::PsiException::PsiException(std::__cxx11::basic_string<char, std::char_traits<char>, std::allocator<char> >, char const*, int)\npsi::die_if_not_converged()\npsi::scf::HF::finalize_E()\npsi::scf::HF::compute_energy()\n"
     ]
    }
   ],
   "source": [
    "E_CASSCF = []\n",
    "\n",
    "psi4.core.set_output_file('output.dat', True)\n",
    "distances = [0.4,0.6,0.7,0.8,0.9,1.0,1.1,1.2,1.4,1.8,2.2,3.0,3.5,4.5,6,10.]\n",
    "\n",
    "for i in distances:\n",
    "  psi4.core.clean()\n",
    "  print('. ', end='')\n",
    "  atoms = Atoms(diatomic)\n",
    "  atoms.positions[1,2] = i\n",
    "  geom_input = geom_ase_to_psi4(atoms, charge=0, multiplicity=1)\n",
    "  #initiate Psi4 molecule object\n",
    "  h2 = psi4.geometry(geom_input)\n",
    "\n",
    "  # Set computation options\n",
    "  psi4.set_options({'basis': '3-21G',\n",
    "                  'reference': 'rhf',\n",
    "                  'scf_type': 'pk',\n",
    "                  'mcscf_algorithm':'ah',\n",
    "                  'qc_module': 'detci',\n",
    "                  'ci_maxiter': 100,    \n",
    "                    'mcscf_maxiter': 300,\n",
    "                  'e_convergence': 1.e-8,\n",
    "                  'num_roots':1,\n",
    "                   })\n",
    "\n",
    "  #cisd_energy, cisd_wfn = psi4.energy(\"cisd\", return_wfn=True)\n",
    "  #4 orbitals [sigma, sigma*, and two more), The first 2 of them should be active\n",
    "  #That means that CASSCF should build the possible determinants from those two\n",
    "  psi4.set_options({\n",
    "      'restricted_docc': [3],\n",
    "      'active': [7],\n",
    "      'restricted_uocc':[8],\n",
    "                   })\n",
    "    \n",
    "  E = psi4.energy('casscf')#,ref_wfn=cisd_wfn)\n",
    "  print(i, E)\n",
    "  E_CASSCF.append(E) \n",
    "\n",
    "print('calculations finished!')\n",
    "for x, i in zip(distances,E_CASSCF):\n",
    "    print(x, i)\n"
   ]
  },
  {
   "cell_type": "code",
   "execution_count": null,
   "metadata": {},
   "outputs": [],
   "source": [
    "%matplotlib notebook\n",
    "plt.plot(distances, E_HF,'b',label='HF')\n",
    "plt.plot(distances, E_CASSCF, 'g', label='CASSCF')\n",
    "plt.plot(distances, E_exact,'r',label='exact')\n",
    "plt.legend()\n",
    "plt.xlabel('H-H distance in Angstrom $\\AA$')\n",
    "plt.ylabel('energy in Hartree [$E_H$]')"
   ]
  },
  {
   "cell_type": "code",
   "execution_count": null,
   "metadata": {
    "collapsed": true
   },
   "outputs": [],
   "source": []
  }
 ],
 "metadata": {
  "kernelspec": {
   "display_name": "Python 3",
   "language": "python",
   "name": "python3"
  },
  "language_info": {
   "codemirror_mode": {
    "name": "ipython",
    "version": 3
   },
   "file_extension": ".py",
   "mimetype": "text/x-python",
   "name": "python",
   "nbconvert_exporter": "python",
   "pygments_lexer": "ipython3",
   "version": "3.6.1"
  }
 },
 "nbformat": 4,
 "nbformat_minor": 2
}
