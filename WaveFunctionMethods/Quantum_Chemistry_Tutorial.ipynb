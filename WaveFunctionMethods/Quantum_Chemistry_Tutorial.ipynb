{
 "cells": [
  {
   "cell_type": "markdown",
   "metadata": {},
   "source": [
    "# Quantum Chemistry Tutorial\n",
    "\n",
    "<p> by <p> \n",
    "\n",
    "<h3> Reinhard J. Maurer</h3>"
   ]
  },
  {
   "cell_type": "code",
   "execution_count": 2,
   "metadata": {},
   "outputs": [
    {
     "name": "stdout",
     "output_type": "stream",
     "text": [
      "env: ASE_NWCHEM_COMMAND=\"/home/reini/Software/nwchem-6.8/bin/LINUX64/nwchem PREFIX.nw > PREFIX.out\"\n"
     ]
    }
   ],
   "source": [
    "%env ASE_NWCHEM_COMMAND=\"/home/reini/Software/nwchem-6.8/bin/LINUX64/nwchem PREFIX.nw > PREFIX.out\"\n",
    "\n",
    "from ase.build import molecule\n",
    "from ase.atoms import Atoms\n"
   ]
  },
  {
   "cell_type": "markdown",
   "metadata": {},
   "source": [
    "# Visualization"
   ]
  },
  {
   "cell_type": "code",
   "execution_count": 10,
   "metadata": {
    "collapsed": true
   },
   "outputs": [],
   "source": [
    "from ase.visualize import view\n",
    "from ase.visualize.plot import plot_atoms\n",
    "import matplotlib.pyplot as plt"
   ]
  },
  {
   "cell_type": "code",
   "execution_count": 11,
   "metadata": {},
   "outputs": [
    {
     "data": {
      "text/plain": [
       "array([[ 0.      ,  0.      ,  0.119262],\n",
       "       [ 0.      ,  0.763239, -0.477047],\n",
       "       [ 0.      , -0.763239, -0.477047]])"
      ]
     },
     "execution_count": 11,
     "metadata": {},
     "output_type": "execute_result"
    }
   ],
   "source": [
    "atoms = molecule('H2O')\n",
    "atoms.positions\n",
    "\n",
    "##A more general way to define a molecule\n",
    "#atoms = Atoms('H2O')\n",
    "#atoms.set_positions([\n",
    "#    [0.,     0.,  0.119262], #H\n",
    "#    [0.,  0.763, -0.477047], #H\n",
    "#    [0., -0.763, -0.477047], #O\n",
    "#])"
   ]
  },
  {
   "cell_type": "code",
   "execution_count": 12,
   "metadata": {},
   "outputs": [
    {
     "data": {
      "text/html": [
       "<html>\n",
       " <head>\n",
       "  <title>ASE atomic visualization</title>\n",
       "  <link rel=\"stylesheet\" type=\"text/css\"\n",
       "   href=\"https://www.x3dom.org/x3dom/release/x3dom.css\">\n",
       "  </link>\n",
       "  <script type=\"text/javascript\"\n",
       "   src=\"https://www.x3dom.org/x3dom/release/x3dom.js\">\n",
       "  </script>\n",
       " </head>\n",
       " <body>\n",
       "  <X3D style=\"margin:0; padding:0; width:100%; height:100%; border:none;\">\n",
       "   <Scene>\n",
       "    <Transform translation=\"0.00 0.00 0.12\">\n",
       "     <Shape>\n",
       "      <Appearance>\n",
       "       <Material diffuseColor=\"1.000 0.051 0.051\" specularColor=\"0.5 0.5 0.5\">\n",
       "       </Material>\n",
       "      </Appearance>\n",
       "      <Sphere radius=\"0.66\">\n",
       "      </Sphere>\n",
       "     </Shape>\n",
       "    </Transform>\n",
       "    <Transform translation=\"0.00 0.76 -0.48\">\n",
       "     <Shape>\n",
       "      <Appearance>\n",
       "       <Material diffuseColor=\"1.000 1.000 1.000\" specularColor=\"0.5 0.5 0.5\">\n",
       "       </Material>\n",
       "      </Appearance>\n",
       "      <Sphere radius=\"0.31\">\n",
       "      </Sphere>\n",
       "     </Shape>\n",
       "    </Transform>\n",
       "    <Transform translation=\"0.00 -0.76 -0.48\">\n",
       "     <Shape>\n",
       "      <Appearance>\n",
       "       <Material diffuseColor=\"1.000 1.000 1.000\" specularColor=\"0.5 0.5 0.5\">\n",
       "       </Material>\n",
       "      </Appearance>\n",
       "      <Sphere radius=\"0.31\">\n",
       "      </Sphere>\n",
       "     </Shape>\n",
       "    </Transform>\n",
       "   </Scene>\n",
       "  </X3D>\n",
       " </body>\n",
       "</html>\n"
      ],
      "text/plain": [
       "<IPython.core.display.HTML object>"
      ]
     },
     "execution_count": 12,
     "metadata": {},
     "output_type": "execute_result"
    }
   ],
   "source": [
    "view(atoms,viewer='x3d') #x3d or ngl"
   ]
  },
  {
   "cell_type": "markdown",
   "metadata": {},
   "source": [
    "# A simple ASE/NWChem calculation"
   ]
  },
  {
   "cell_type": "code",
   "execution_count": 14,
   "metadata": {},
   "outputs": [
    {
     "data": {
      "text/html": [
       "<html>\n",
       " <head>\n",
       "  <title>ASE atomic visualization</title>\n",
       "  <link rel=\"stylesheet\" type=\"text/css\"\n",
       "   href=\"https://www.x3dom.org/x3dom/release/x3dom.css\">\n",
       "  </link>\n",
       "  <script type=\"text/javascript\"\n",
       "   src=\"https://www.x3dom.org/x3dom/release/x3dom.js\">\n",
       "  </script>\n",
       " </head>\n",
       " <body>\n",
       "  <X3D style=\"margin:0; padding:0; width:100%; height:100%; border:none;\">\n",
       "   <Scene>\n",
       "    <Transform translation=\"1.21 -0.35 0.00\">\n",
       "     <Shape>\n",
       "      <Appearance>\n",
       "       <Material diffuseColor=\"0.565 0.565 0.565\" specularColor=\"0.5 0.5 0.5\">\n",
       "       </Material>\n",
       "      </Appearance>\n",
       "      <Sphere radius=\"0.76\">\n",
       "      </Sphere>\n",
       "     </Shape>\n",
       "    </Transform>\n",
       "    <Transform translation=\"0.00 0.58 0.00\">\n",
       "     <Shape>\n",
       "      <Appearance>\n",
       "       <Material diffuseColor=\"0.565 0.565 0.565\" specularColor=\"0.5 0.5 0.5\">\n",
       "       </Material>\n",
       "      </Appearance>\n",
       "      <Sphere radius=\"0.76\">\n",
       "      </Sphere>\n",
       "     </Shape>\n",
       "    </Transform>\n",
       "    <Transform translation=\"-1.31 -0.09 0.00\">\n",
       "     <Shape>\n",
       "      <Appearance>\n",
       "       <Material diffuseColor=\"0.188 0.314 0.973\" specularColor=\"0.5 0.5 0.5\">\n",
       "       </Material>\n",
       "      </Appearance>\n",
       "      <Sphere radius=\"0.71\">\n",
       "      </Sphere>\n",
       "     </Shape>\n",
       "    </Transform>\n",
       "    <Transform translation=\"2.15 0.21 0.00\">\n",
       "     <Shape>\n",
       "      <Appearance>\n",
       "       <Material diffuseColor=\"1.000 1.000 1.000\" specularColor=\"0.5 0.5 0.5\">\n",
       "       </Material>\n",
       "      </Appearance>\n",
       "      <Sphere radius=\"0.31\">\n",
       "      </Sphere>\n",
       "     </Shape>\n",
       "    </Transform>\n",
       "    <Transform translation=\"1.20 -1.00 0.88\">\n",
       "     <Shape>\n",
       "      <Appearance>\n",
       "       <Material diffuseColor=\"1.000 1.000 1.000\" specularColor=\"0.5 0.5 0.5\">\n",
       "       </Material>\n",
       "      </Appearance>\n",
       "      <Sphere radius=\"0.31\">\n",
       "      </Sphere>\n",
       "     </Shape>\n",
       "    </Transform>\n",
       "    <Transform translation=\"1.20 -1.00 -0.88\">\n",
       "     <Shape>\n",
       "      <Appearance>\n",
       "       <Material diffuseColor=\"1.000 1.000 1.000\" specularColor=\"0.5 0.5 0.5\">\n",
       "       </Material>\n",
       "      </Appearance>\n",
       "      <Sphere radius=\"0.31\">\n",
       "      </Sphere>\n",
       "     </Shape>\n",
       "    </Transform>\n",
       "    <Transform translation=\"0.03 1.23 -0.88\">\n",
       "     <Shape>\n",
       "      <Appearance>\n",
       "       <Material diffuseColor=\"1.000 1.000 1.000\" specularColor=\"0.5 0.5 0.5\">\n",
       "       </Material>\n",
       "      </Appearance>\n",
       "      <Sphere radius=\"0.31\">\n",
       "      </Sphere>\n",
       "     </Shape>\n",
       "    </Transform>\n",
       "    <Transform translation=\"0.03 1.23 0.88\">\n",
       "     <Shape>\n",
       "      <Appearance>\n",
       "       <Material diffuseColor=\"1.000 1.000 1.000\" specularColor=\"0.5 0.5 0.5\">\n",
       "       </Material>\n",
       "      </Appearance>\n",
       "      <Sphere radius=\"0.31\">\n",
       "      </Sphere>\n",
       "     </Shape>\n",
       "    </Transform>\n",
       "    <Transform translation=\"-1.37 -0.70 0.81\">\n",
       "     <Shape>\n",
       "      <Appearance>\n",
       "       <Material diffuseColor=\"1.000 1.000 1.000\" specularColor=\"0.5 0.5 0.5\">\n",
       "       </Material>\n",
       "      </Appearance>\n",
       "      <Sphere radius=\"0.31\">\n",
       "      </Sphere>\n",
       "     </Shape>\n",
       "    </Transform>\n",
       "    <Transform translation=\"-1.37 -0.70 -0.81\">\n",
       "     <Shape>\n",
       "      <Appearance>\n",
       "       <Material diffuseColor=\"1.000 1.000 1.000\" specularColor=\"0.5 0.5 0.5\">\n",
       "       </Material>\n",
       "      </Appearance>\n",
       "      <Sphere radius=\"0.31\">\n",
       "      </Sphere>\n",
       "     </Shape>\n",
       "    </Transform>\n",
       "   </Scene>\n",
       "  </X3D>\n",
       " </body>\n",
       "</html>\n"
      ],
      "text/plain": [
       "<IPython.core.display.HTML object>"
      ]
     },
     "execution_count": 14,
     "metadata": {},
     "output_type": "execute_result"
    },
    {
     "ename": "RuntimeError",
     "evalue": "nwchem in calc returned an error: 127",
     "output_type": "error",
     "traceback": [
      "\u001b[0;31m---------------------------------------------------------------------------\u001b[0m",
      "\u001b[0;31mRuntimeError\u001b[0m                              Traceback (most recent call last)",
      "\u001b[0;32m<ipython-input-14-260e8bfe2112>\u001b[0m in \u001b[0;36m<module>\u001b[0;34m()\u001b[0m\n\u001b[1;32m     14\u001b[0m \u001b[0mview\u001b[0m\u001b[0;34m(\u001b[0m\u001b[0matoms\u001b[0m\u001b[0;34m,\u001b[0m\u001b[0mviewer\u001b[0m\u001b[0;34m=\u001b[0m\u001b[0;34m'x3d'\u001b[0m\u001b[0;34m)\u001b[0m\u001b[0;34m\u001b[0m\u001b[0m\n\u001b[1;32m     15\u001b[0m \u001b[0;34m\u001b[0m\u001b[0m\n\u001b[0;32m---> 16\u001b[0;31m \u001b[0mprint\u001b[0m\u001b[0;34m(\u001b[0m\u001b[0matoms\u001b[0m\u001b[0;34m.\u001b[0m\u001b[0mget_potential_energy\u001b[0m\u001b[0;34m(\u001b[0m\u001b[0;34m)\u001b[0m\u001b[0;34m)\u001b[0m\u001b[0;34m\u001b[0m\u001b[0m\n\u001b[0m",
      "\u001b[0;32m~/anaconda3/envs/py36/lib/python3.6/site-packages/ase/atoms.py\u001b[0m in \u001b[0;36mget_potential_energy\u001b[0;34m(self, force_consistent, apply_constraint)\u001b[0m\n\u001b[1;32m    682\u001b[0m                 self, force_consistent=force_consistent)\n\u001b[1;32m    683\u001b[0m         \u001b[0;32melse\u001b[0m\u001b[0;34m:\u001b[0m\u001b[0;34m\u001b[0m\u001b[0m\n\u001b[0;32m--> 684\u001b[0;31m             \u001b[0menergy\u001b[0m \u001b[0;34m=\u001b[0m \u001b[0mself\u001b[0m\u001b[0;34m.\u001b[0m\u001b[0m_calc\u001b[0m\u001b[0;34m.\u001b[0m\u001b[0mget_potential_energy\u001b[0m\u001b[0;34m(\u001b[0m\u001b[0mself\u001b[0m\u001b[0;34m)\u001b[0m\u001b[0;34m\u001b[0m\u001b[0m\n\u001b[0m\u001b[1;32m    685\u001b[0m         \u001b[0;32mif\u001b[0m \u001b[0mapply_constraint\u001b[0m\u001b[0;34m:\u001b[0m\u001b[0;34m\u001b[0m\u001b[0m\n\u001b[1;32m    686\u001b[0m             \u001b[0;32mfor\u001b[0m \u001b[0mconstraint\u001b[0m \u001b[0;32min\u001b[0m \u001b[0mself\u001b[0m\u001b[0;34m.\u001b[0m\u001b[0mconstraints\u001b[0m\u001b[0;34m:\u001b[0m\u001b[0;34m\u001b[0m\u001b[0m\n",
      "\u001b[0;32m~/anaconda3/envs/py36/lib/python3.6/site-packages/ase/calculators/calculator.py\u001b[0m in \u001b[0;36mget_potential_energy\u001b[0;34m(self, atoms, force_consistent)\u001b[0m\n\u001b[1;32m    439\u001b[0m \u001b[0;34m\u001b[0m\u001b[0m\n\u001b[1;32m    440\u001b[0m     \u001b[0;32mdef\u001b[0m \u001b[0mget_potential_energy\u001b[0m\u001b[0;34m(\u001b[0m\u001b[0mself\u001b[0m\u001b[0;34m,\u001b[0m \u001b[0matoms\u001b[0m\u001b[0;34m=\u001b[0m\u001b[0;32mNone\u001b[0m\u001b[0;34m,\u001b[0m \u001b[0mforce_consistent\u001b[0m\u001b[0;34m=\u001b[0m\u001b[0;32mFalse\u001b[0m\u001b[0;34m)\u001b[0m\u001b[0;34m:\u001b[0m\u001b[0;34m\u001b[0m\u001b[0m\n\u001b[0;32m--> 441\u001b[0;31m         \u001b[0menergy\u001b[0m \u001b[0;34m=\u001b[0m \u001b[0mself\u001b[0m\u001b[0;34m.\u001b[0m\u001b[0mget_property\u001b[0m\u001b[0;34m(\u001b[0m\u001b[0;34m'energy'\u001b[0m\u001b[0;34m,\u001b[0m \u001b[0matoms\u001b[0m\u001b[0;34m)\u001b[0m\u001b[0;34m\u001b[0m\u001b[0m\n\u001b[0m\u001b[1;32m    442\u001b[0m         \u001b[0;32mif\u001b[0m \u001b[0mforce_consistent\u001b[0m\u001b[0;34m:\u001b[0m\u001b[0;34m\u001b[0m\u001b[0m\n\u001b[1;32m    443\u001b[0m             \u001b[0;32mif\u001b[0m \u001b[0;34m'free_energy'\u001b[0m \u001b[0;32mnot\u001b[0m \u001b[0;32min\u001b[0m \u001b[0mself\u001b[0m\u001b[0;34m.\u001b[0m\u001b[0mresults\u001b[0m\u001b[0;34m:\u001b[0m\u001b[0;34m\u001b[0m\u001b[0m\n",
      "\u001b[0;32m~/anaconda3/envs/py36/lib/python3.6/site-packages/ase/calculators/calculator.py\u001b[0m in \u001b[0;36mget_property\u001b[0;34m(self, name, atoms, allow_calculation)\u001b[0m\n\u001b[1;32m    484\u001b[0m             \u001b[0;32mif\u001b[0m \u001b[0;32mnot\u001b[0m \u001b[0mallow_calculation\u001b[0m\u001b[0;34m:\u001b[0m\u001b[0;34m\u001b[0m\u001b[0m\n\u001b[1;32m    485\u001b[0m                 \u001b[0;32mreturn\u001b[0m \u001b[0;32mNone\u001b[0m\u001b[0;34m\u001b[0m\u001b[0m\n\u001b[0;32m--> 486\u001b[0;31m             \u001b[0mself\u001b[0m\u001b[0;34m.\u001b[0m\u001b[0mcalculate\u001b[0m\u001b[0;34m(\u001b[0m\u001b[0matoms\u001b[0m\u001b[0;34m,\u001b[0m \u001b[0;34m[\u001b[0m\u001b[0mname\u001b[0m\u001b[0;34m]\u001b[0m\u001b[0;34m,\u001b[0m \u001b[0msystem_changes\u001b[0m\u001b[0;34m)\u001b[0m\u001b[0;34m\u001b[0m\u001b[0m\n\u001b[0m\u001b[1;32m    487\u001b[0m \u001b[0;34m\u001b[0m\u001b[0m\n\u001b[1;32m    488\u001b[0m         \u001b[0;32mif\u001b[0m \u001b[0mname\u001b[0m \u001b[0;34m==\u001b[0m \u001b[0;34m'magmom'\u001b[0m \u001b[0;32mand\u001b[0m \u001b[0;34m'magmom'\u001b[0m \u001b[0;32mnot\u001b[0m \u001b[0;32min\u001b[0m \u001b[0mself\u001b[0m\u001b[0;34m.\u001b[0m\u001b[0mresults\u001b[0m\u001b[0;34m:\u001b[0m\u001b[0;34m\u001b[0m\u001b[0m\n",
      "\u001b[0;32m~/anaconda3/envs/py36/lib/python3.6/site-packages/ase/calculators/calculator.py\u001b[0m in \u001b[0;36mcalculate\u001b[0;34m(self, atoms, properties, system_changes)\u001b[0m\n\u001b[1;32m    647\u001b[0m         \u001b[0;32mif\u001b[0m \u001b[0merrorcode\u001b[0m\u001b[0;34m:\u001b[0m\u001b[0;34m\u001b[0m\u001b[0m\n\u001b[1;32m    648\u001b[0m             raise RuntimeError('{} in {} returned an error: {}'\n\u001b[0;32m--> 649\u001b[0;31m                                .format(self.name, self.directory, errorcode))\n\u001b[0m\u001b[1;32m    650\u001b[0m         \u001b[0mself\u001b[0m\u001b[0;34m.\u001b[0m\u001b[0mread_results\u001b[0m\u001b[0;34m(\u001b[0m\u001b[0;34m)\u001b[0m\u001b[0;34m\u001b[0m\u001b[0m\n\u001b[1;32m    651\u001b[0m \u001b[0;34m\u001b[0m\u001b[0m\n",
      "\u001b[0;31mRuntimeError\u001b[0m: nwchem in calc returned an error: 127"
     ]
    }
   ],
   "source": [
    "from ase.calculators.nwchem import NWChem\n",
    "\n",
    "calc = NWChem(\n",
    "    label = 'calc/nwchem',\n",
    "    maxiter=2000,\n",
    "    xc='PBE',\n",
    "    basis='6-31+G*',\n",
    ")\n",
    "\n",
    "atoms = molecule('CH3CH2NH2')\n",
    "\n",
    "atoms.set_calculator(calc)\n",
    "\n",
    "view(atoms,viewer='x3d')\n",
    "\n",
    "print(atoms.get_potential_energy())"
   ]
  },
  {
   "cell_type": "markdown",
   "metadata": {},
   "source": [
    "# Structure optimization"
   ]
  },
  {
   "cell_type": "code",
   "execution_count": null,
   "metadata": {
    "collapsed": true
   },
   "outputs": [],
   "source": []
  }
 ],
 "metadata": {
  "kernelspec": {
   "display_name": "Python 3",
   "language": "python",
   "name": "python3"
  },
  "language_info": {
   "codemirror_mode": {
    "name": "ipython",
    "version": 3
   },
   "file_extension": ".py",
   "mimetype": "text/x-python",
   "name": "python",
   "nbconvert_exporter": "python",
   "pygments_lexer": "ipython3",
   "version": "3.6.1"
  }
 },
 "nbformat": 4,
 "nbformat_minor": 2
}
