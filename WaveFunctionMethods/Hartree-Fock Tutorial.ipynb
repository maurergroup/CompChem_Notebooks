{
 "cells": [
  {
   "cell_type": "code",
   "execution_count": 1,
   "metadata": {
    "slideshow": {
     "slide_type": "skip"
    }
   },
   "outputs": [
    {
     "data": {
      "text/plain": [
       "{'height': 768, 'width': 1024}"
      ]
     },
     "execution_count": 1,
     "metadata": {},
     "output_type": "execute_result"
    }
   ],
   "source": [
    "from notebook.services.config import ConfigManager\n",
    "cm = ConfigManager()\n",
    "cm.update('livereveal', {\n",
    "          'width': 1024,\n",
    "          'height': 768,\n",
    "#          #'width': 3840,\n",
    "#          #'height': 2160,    \n",
    "#          #'width': 1200,\n",
    "#          #'height': 600,    \n",
    "})"
   ]
  },
  {
   "cell_type": "markdown",
   "metadata": {
    "slideshow": {
     "slide_type": "slide"
    }
   },
   "source": [
    "# The Hartree Fock method"
   ]
  },
  {
   "cell_type": "markdown",
   "metadata": {
    "slideshow": {
     "slide_type": "-"
    }
   },
   "source": [
    "<div class=\"col-md-10\">\n",
    "<p> In this tutorial we use a the Python scripting language and an interactive Jupyter notebook to run a Hartree-Fock calculation using the Python-based quantum chemistry code Psi4. </p>\n",
    "\n",
    "\n",
    "<p> You can install this setup on your own Windows/Mac computer following the instructions on the github mainpage.</p>\n",
    "</div>\n",
    "<div class=\"col-md-2\">\n",
    "<img src=\"http://www.psicode.org/psi4manual/master/_static/psi4square.png\" alt=\"Psi4 code\" style=\"width: 100px;\"/>\n",
    "</div>\n",
    "\n",
    "You will see lot's of Python statements that import packages or access functions, such as the following:\n"
   ]
  },
  {
   "cell_type": "markdown",
   "metadata": {
    "slideshow": {
     "slide_type": "slide"
    }
   },
   "source": [
    "Here we load important packages, such as a visualization programm and the Psi4 software package and then we do a little arithmetics. We also define a little helper function. \n",
    "You can execute the cell below by either pushing the play putton above or by clicking into the cell and pressing \"Shift+Enter\". You have to do this for all following cells."
   ]
  },
  {
   "cell_type": "code",
   "execution_count": 5,
   "metadata": {
    "slideshow": {
     "slide_type": "-"
    }
   },
   "outputs": [
    {
     "name": "stdout",
     "output_type": "stream",
     "text": [
      "2\n"
     ]
    }
   ],
   "source": [
    "import numpy as np\n",
    "import matplotlib.pyplot as plt\n",
    "import psi4\n",
    "from ase.build import molecule\n",
    "from ase.atoms import Atoms\n",
    "from ase.visualize import view\n",
    "from ase.visualize.plot import plot_atoms\n",
    "\n",
    "print(1+1)"
   ]
  },
  {
   "cell_type": "code",
   "execution_count": 3,
   "metadata": {
    "slideshow": {
     "slide_type": "skip"
    }
   },
   "outputs": [],
   "source": [
    "def geom_ase_to_psi4(atoms, charge=0, multiplicity=1, symmetry='c1' ):\n",
    "    \"\"\"\n",
    "    takes an ase atoms object and build a Psi4 geometry string\n",
    "    \"\"\"\n",
    "    species = atoms.get_chemical_symbols()\n",
    "    pos = atoms.get_positions()\n",
    "    string = \"unit angstrom \\n\"\n",
    "    string += \"symmetry c1 \\n\"\n",
    "    string += \"{0} {1} \\n\".format(charge, multiplicity) \n",
    "    for i,(spec,p) in enumerate(zip(species, pos)):\n",
    "        string += \"{0} {1:14.8f} {2:14.8f} {3:14.8f}\\n\".format(spec, p[0], p[1], p[2])\n",
    "        \n",
    "    return string"
   ]
  },
  {
   "cell_type": "code",
   "execution_count": 2,
   "metadata": {},
   "outputs": [
    {
     "name": "stdout",
     "output_type": "stream",
     "text": [
      "# packages in environment at /home/reini/psi4conda:\n",
      "#\n",
      "anaconda-client           1.6.3                    py36_0  \n",
      "ase                       3.15.0                   py36_3    conda-forge\n",
      "asn1crypto                0.22.0                   py36_0  \n",
      "beautifulsoup4            4.6.0                    py36_0  \n",
      "bkcharts                  0.2                      py36_0  \n",
      "bleach                    1.5.0                    py36_0  \n",
      "bokeh                     0.12.7                   py36_0  \n",
      "cffi                      1.10.0                   py36_0  \n",
      "chardet                   3.0.4                    py36_0  \n",
      "chemps2                   1.8.3                         5  \n",
      "click                     6.7                        py_1    conda-forge\n",
      "cloog                     0.18.0                        0  \n",
      "clyent                    1.2.2                    py36_0  \n",
      "conda                     4.3.30           py36h5d9f9f4_0  \n",
      "conda-build               3.0.19           py36h2b1262d_0  \n",
      "conda-env                 2.6.0                         0  \n",
      "conda-verify              2.0.0                    py36_0  \n",
      "cryptography              1.8.1                    py36_0  \n",
      "cycler                    0.10.0                   py36_0    conda-forge\n",
      "dbus                      1.10.20                       0  \n",
      "decorator                 4.1.2                    py36_0  \n",
      "dftd3                     3.2.0                         7  \n",
      "dkh                       1.2                           0  \n",
      "entrypoints               0.2.3                    py36_0  \n",
      "erd                       3.0.6                         0  \n",
      "expat                     2.1.0                         0  \n",
      "filelock                  2.0.7                    py36_0  \n",
      "flask                     0.12.2                   py36_0    conda-forge\n",
      "fontconfig                2.12.1                        3  \n",
      "freetype                  2.5.5                         2  \n",
      "gcc-5                     5.2.0                         1  \n",
      "gcc-5-mp                  5.2.0                         0  \n",
      "gcp                       2.0.1                         0  \n",
      "gdma                      2.2.6                         2  \n",
      "glib                      2.50.2                        1  \n",
      "glob2                     0.5                      py36_0  \n",
      "gmp                       6.1.0                         0  \n",
      "gst-plugins-base          1.8.0                         0  \n",
      "gstreamer                 1.8.0                         0  \n",
      "hdf5                      1.8.17                        1  \n",
      "html5lib                  0.9999999                py36_0  \n",
      "icu                       54.1                          0  \n",
      "idna                      2.5                      py36_0  \n",
      "ipykernel                 4.6.1                    py36_0  \n",
      "ipython                   6.1.0                    py36_0  \n",
      "ipython_genutils          0.2.0                    py36_0  \n",
      "ipywidgets                7.1.2                    py36_0    conda-forge\n",
      "isl                       0.12.2                        0  \n",
      "itsdangerous              0.24                       py_2    conda-forge\n",
      "jedi                      0.10.2                   py36_2  \n",
      "jinja2                    2.9.6                    py36_0  \n",
      "jpeg                      9b                            0  \n",
      "jsonschema                2.6.0                    py36_0  \n",
      "jupyter                   1.0.0                    py36_3  \n",
      "jupyter_client            5.2.2                    py36_0    conda-forge\n",
      "jupyter_console           5.2.0                    py36_0  \n",
      "jupyter_core              4.4.0                      py_0    conda-forge\n",
      "jupyterlab                0.31.10                  py36_1    conda-forge\n",
      "jupyterlab_launcher       0.10.5                   py36_0    conda-forge\n",
      "libefp                    1.4.2                         0  \n",
      "libffi                    3.2.1                         1  \n",
      "libgcc                    5.2.0                         0  \n",
      "libgfortran               3.0.0                         1  \n",
      "libiconv                  1.14                          0  \n",
      "libint                    1.2.1                         0  \n",
      "libpng                    1.6.30                        1  \n",
      "libsodium                 1.0.10                        0  \n",
      "libxc                     3.0.0                         3  \n",
      "libxcb                    1.12                          1  \n",
      "libxml2                   2.9.4                         0  \n",
      "markupsafe                1.0                      py36_0  \n",
      "matplotlib                2.0.2               np112py36_0  \n",
      "mistune                   0.7.4                    py36_0  \n",
      "mkl                       2017.0.1                      0  \n",
      "mpc                       1.0.1                         0  \n",
      "mpfr                      3.1.2                         0  \n",
      "nbconvert                 5.2.1                    py36_0  \n",
      "nbformat                  4.4.0                    py36_0  \n",
      "nglview                   1.0                      py36_2    conda-forge\n",
      "notebook                  5.4.0                    py36_0    conda-forge\n",
      "numpy                     1.12.1                   py36_0  \n",
      "openssl                   1.0.2k                        2  \n",
      "packaging                 16.8                     py36_0  \n",
      "pandocfilters             1.4.2                    py36_0  \n",
      "patchelf                  0.9                           0  \n",
      "path.py                   10.3.1                   py36_0  \n",
      "pcmsolver                 1.1.10                   py36_0  \n",
      "pcre                      8.39                          1  \n",
      "pexpect                   4.2.1                    py36_0  \n",
      "pickleshare               0.7.4                    py36_0  \n",
      "pip                       9.0.1                    py36_1  \n",
      "pkginfo                   1.4.1                    py36_0  \n",
      "prompt_toolkit            1.0.15                   py36_0  \n",
      "psi4                      1.1+add49b9              py36_0    psi4/label/dev\n",
      "psi4-lt-mp                1.1                      py36_0  \n",
      "psi4-rt                   1.1                      py36_0  \n",
      "ptyprocess                0.5.2                    py36_0  \n",
      "py                        1.4.33                   py36_0  \n",
      "pycosat                   0.6.2                    py36_0  \n",
      "pycparser                 2.17                     py36_0  \n",
      "pygments                  2.2.0                    py36_0  \n",
      "pyopenssl                 17.0.0                   py36_0  \n",
      "pyparsing                 2.1.4                    py36_0  \n",
      "pyqt                      5.6.0                    py36_2  \n",
      "pytest                    3.0.7                    py36_0  \n",
      "python                    3.6.1                         2  \n",
      "python-dateutil           2.6.1                    py36_0  \n",
      "pytz                      2018.3                     py_0    conda-forge\n",
      "pyyaml                    3.12                     py36_0  \n",
      "pyzmq                     16.0.2                   py36_0  \n",
      "qt                        5.6.2                         5  \n",
      "qtconsole                 4.3.1                    py36_0  \n",
      "readline                  6.2                           2  \n",
      "requests                  2.14.2                   py36_0  \n",
      "rise                      5.2.0                    py36_0    damianavila82\n",
      "ruamel_yaml               0.11.14                  py36_1  \n",
      "scipy                     0.19.1              np112py36_0  \n",
      "send2trash                1.5.0                      py_0    conda-forge\n",
      "setuptools                27.2.0                   py36_0  \n",
      "simint                    0.7                           0  \n",
      "simplegeneric             0.8.1                    py36_1  \n",
      "sip                       4.18                     py36_0  \n",
      "six                       1.10.0                   py36_0  \n",
      "sqlite                    3.13.0                        0  \n",
      "terminado                 0.8.1                    py36_0    conda-forge\n",
      "testpath                  0.3.1                    py36_0  \n",
      "tk                        8.5.18                        0  \n",
      "tornado                   4.5.2                    py36_0  \n",
      "traitlets                 4.3.2                    py36_0  \n",
      "v2rdm_casscf              0.3                      py36_1  \n",
      "wcwidth                   0.1.7                    py36_0  \n",
      "werkzeug                  0.14.1                     py_0    conda-forge\n",
      "wheel                     0.29.0                   py36_0  \n",
      "widgetsnbextension        3.1.4                    py36_0    conda-forge\n",
      "xz                        5.2.2                         1  \n",
      "yaml                      0.1.6                         0  \n",
      "zeromq                    4.1.5                         0  \n",
      "zlib                      1.2.8                         3  \n"
     ]
    }
   ],
   "source": [
    "!conda list"
   ]
  },
  {
   "cell_type": "code",
   "execution_count": 3,
   "metadata": {},
   "outputs": [
    {
     "name": "stdout",
     "output_type": "stream",
     "text": [
      "Listing... Done\n",
      "\u001b[32maccountsservice\u001b[0m/xenial-updates,now 0.6.40-2ubuntu11.3 amd64 [installed]\n",
      "\u001b[32macl\u001b[0m/xenial,now 2.2.52-3 amd64 [installed]\n",
      "\u001b[32macpid\u001b[0m/xenial,now 1:2.0.26-1ubuntu2 amd64 [installed]\n",
      "\u001b[32madduser\u001b[0m/xenial,now 3.113+nmu3ubuntu4 all [installed]\n",
      "\u001b[32mapparmor\u001b[0m/xenial-updates,now 2.10.95-0ubuntu2.8 amd64 [installed]\n",
      "\u001b[32mapport\u001b[0m/xenial-updates,xenial-security,now 2.20.1-0ubuntu2.15 all [installed]\n",
      "\u001b[32mapport-symptoms\u001b[0m/xenial,now 0.20 all [installed]\n",
      "\u001b[32mapt\u001b[0m/now 1.2.24 amd64 [installed,upgradable to: 1.2.25]\n",
      "\u001b[32mapt-transport-https\u001b[0m/now 1.2.24 amd64 [installed,upgradable to: 1.2.25]\n",
      "\u001b[32mapt-utils\u001b[0m/now 1.2.24 amd64 [installed,upgradable to: 1.2.25]\n",
      "\u001b[32maptitude\u001b[0m/xenial,now 0.7.4-2ubuntu2 amd64 [installed]\n",
      "\u001b[32maptitude-common\u001b[0m/xenial,now 0.7.4-2ubuntu2 all [installed,automatic]\n",
      "\u001b[32mat\u001b[0m/xenial,now 3.1.18-2ubuntu1 amd64 [installed]\n",
      "\u001b[32mbase-files\u001b[0m/now 9.4ubuntu4.5 amd64 [installed,upgradable to: 9.4ubuntu4.6]\n",
      "\u001b[32mbase-passwd\u001b[0m/xenial,now 3.5.39 amd64 [installed]\n",
      "\u001b[32mbash\u001b[0m/xenial-updates,xenial-security,now 4.3-14ubuntu1.2 amd64 [installed]\n",
      "\u001b[32mbash-completion\u001b[0m/xenial-updates,now 1:2.1-4.2ubuntu1.1 all [installed]\n",
      "\u001b[32mbcache-tools\u001b[0m/xenial,now 1.0.8-2 amd64 [installed]\n",
      "\u001b[32mbind9-host\u001b[0m/xenial-updates,xenial-security,now 1:9.10.3.dfsg.P4-8ubuntu1.10 amd64 [installed]\n",
      "\u001b[32mbinutils\u001b[0m/xenial-updates,xenial-security,now 2.26.1-1ubuntu1~16.04.6 amd64 [installed,automatic]\n",
      "\u001b[32mbsdmainutils\u001b[0m/xenial,now 9.0.6ubuntu3 amd64 [installed]\n",
      "\u001b[32mbsdutils\u001b[0m/now 1:2.27.1-6ubuntu3.3 amd64 [installed,upgradable to: 1:2.27.1-6ubuntu3.4]\n",
      "\u001b[32mbtrfs-tools\u001b[0m/xenial-updates,now 4.4-1ubuntu1 amd64 [installed]\n",
      "\u001b[32mbuild-essential\u001b[0m/xenial,now 12.1ubuntu2 amd64 [installed]\n",
      "\u001b[32mbusybox-initramfs\u001b[0m/xenial,now 1:1.22.0-15ubuntu1 amd64 [installed]\n",
      "\u001b[32mbusybox-static\u001b[0m/xenial,now 1:1.22.0-15ubuntu1 amd64 [installed]\n",
      "\u001b[32mbyobu\u001b[0m/xenial,now 5.106-0ubuntu1 all [installed]\n",
      "\u001b[32mbzip2\u001b[0m/xenial,now 1.0.6-8 amd64 [installed]\n",
      "\u001b[32mca-certificates\u001b[0m/xenial-updates,xenial-security,now 20170717~16.04.1 all [installed]\n",
      "\u001b[32mcloud-guest-utils\u001b[0m/xenial-updates,now 0.27-0ubuntu25 all [installed]\n",
      "\u001b[32mcloud-init\u001b[0m/xenial-updates,now 17.1-46-g7acc9e68-0ubuntu1~16.04.1 all [installed]\n",
      "\u001b[32mcloud-initramfs-copymods\u001b[0m/xenial-updates,now 0.27ubuntu1.5 all [installed]\n",
      "\u001b[32mcloud-initramfs-dyn-netconf\u001b[0m/xenial-updates,now 0.27ubuntu1.5 all [installed]\n",
      "\u001b[32mcmake\u001b[0m/xenial-updates,now 3.5.1-1ubuntu3 amd64 [installed]\n",
      "\u001b[32mcmake-data\u001b[0m/xenial-updates,now 3.5.1-1ubuntu3 all [installed,automatic]\n",
      "\u001b[32mcommand-not-found\u001b[0m/xenial-updates,now 0.3ubuntu16.04.2 all [installed]\n",
      "\u001b[32mcommand-not-found-data\u001b[0m/xenial-updates,now 0.3ubuntu16.04.2 amd64 [installed]\n",
      "\u001b[32mconsole-setup\u001b[0m/xenial-updates,now 1.108ubuntu15.3 all [installed]\n",
      "\u001b[32mconsole-setup-linux\u001b[0m/xenial-updates,now 1.108ubuntu15.3 all [installed]\n",
      "\u001b[32mcoreutils\u001b[0m/xenial-updates,now 8.25-2ubuntu3~16.04 amd64 [installed]\n",
      "\u001b[32mcpio\u001b[0m/xenial,now 2.11+dfsg-5ubuntu1 amd64 [installed]\n",
      "\u001b[32mcpp\u001b[0m/xenial,now 4:5.3.1-1ubuntu1 amd64 [installed,automatic]\n",
      "\u001b[32mcpp-5\u001b[0m/now 5.4.0-6ubuntu1~16.04.6 amd64 [installed,upgradable to: 5.4.0-6ubuntu1~16.04.9]\n",
      "\u001b[32mcron\u001b[0m/xenial,now 3.0pl1-128ubuntu2 amd64 [installed]\n",
      "\u001b[32mcryptsetup\u001b[0m/xenial-updates,now 2:1.6.6-5ubuntu2.1 amd64 [installed]\n",
      "\u001b[32mcryptsetup-bin\u001b[0m/xenial-updates,now 2:1.6.6-5ubuntu2.1 amd64 [installed]\n",
      "\u001b[32mcurl\u001b[0m/xenial-updates,xenial-security,now 7.47.0-1ubuntu2.6 amd64 [installed]\n",
      "\u001b[32mdash\u001b[0m/xenial,now 0.5.8-2.1ubuntu2 amd64 [installed]\n",
      "\u001b[32mdbus\u001b[0m/xenial-updates,now 1.10.6-1ubuntu3.3 amd64 [installed]\n",
      "\u001b[32mdebconf\u001b[0m/xenial,now 1.5.58ubuntu1 all [installed]\n",
      "\u001b[32mdebconf-i18n\u001b[0m/xenial,now 1.5.58ubuntu1 all [installed]\n",
      "\u001b[32mdebianutils\u001b[0m/xenial,now 4.7 amd64 [installed]\n",
      "\u001b[32mdh-python\u001b[0m/xenial-updates,now 2.20151103ubuntu1.1 all [installed]\n",
      "\u001b[32mdiffutils\u001b[0m/xenial,now 1:3.3-3 amd64 [installed]\n",
      "\u001b[32mdistro-info-data\u001b[0m/xenial-updates,now 0.28ubuntu0.7 all [installed]\n",
      "\u001b[32mdmeventd\u001b[0m/xenial,now 2:1.02.110-1ubuntu10 amd64 [installed]\n",
      "\u001b[32mdmidecode\u001b[0m/xenial-updates,now 3.0-2ubuntu0.1 amd64 [installed]\n",
      "\u001b[32mdmsetup\u001b[0m/xenial,now 2:1.02.110-1ubuntu10 amd64 [installed]\n",
      "\u001b[32mdns-root-data\u001b[0m/xenial,now 2015052300+h+1 all [installed]\n",
      "\u001b[32mdnsmasq-base\u001b[0m/xenial-updates,now 2.75-1ubuntu0.16.04.4 amd64 [installed]\n",
      "\u001b[32mdnsutils\u001b[0m/xenial-updates,xenial-security,now 1:9.10.3.dfsg.P4-8ubuntu1.10 amd64 [installed]\n",
      "\u001b[32mdosfstools\u001b[0m/xenial-updates,xenial-security,now 3.0.28-2ubuntu0.1 amd64 [installed]\n",
      "\u001b[32mdpkg\u001b[0m/xenial-updates,now 1.18.4ubuntu1.3 amd64 [installed]\n",
      "\u001b[32mdpkg-dev\u001b[0m/xenial-updates,now 1.18.4ubuntu1.3 all [installed,automatic]\n",
      "\u001b[32me2fslibs\u001b[0m/xenial,now 1.42.13-1ubuntu1 amd64 [installed]\n",
      "\u001b[32me2fsprogs\u001b[0m/xenial,now 1.42.13-1ubuntu1 amd64 [installed]\n",
      "\u001b[32meatmydata\u001b[0m/xenial,now 105-3 all [installed]\n",
      "\u001b[32med\u001b[0m/xenial,now 1.10-2 amd64 [installed]\n",
      "\u001b[32meject\u001b[0m/xenial-updates,xenial-security,now 2.1.5+deb1+cvs20081104-13.1ubuntu0.16.04.1 amd64 [installed]\n",
      "\u001b[32methtool\u001b[0m/xenial,now 1:4.5-1 amd64 [installed]\n",
      "\u001b[32mfakeroot\u001b[0m/xenial,now 1.20.2-1ubuntu1 amd64 [installed,automatic]\n",
      "\u001b[32mfile\u001b[0m/xenial,now 1:5.25-2ubuntu1 amd64 [installed]\n",
      "\u001b[32mfindutils\u001b[0m/xenial,now 4.6.0+git+20160126-2 amd64 [installed]\n",
      "\u001b[32mfonts-ubuntu-font-family-console\u001b[0m/xenial,now 1:0.83-0ubuntu2 all [installed]\n",
      "\u001b[32mfriendly-recovery\u001b[0m/xenial,now 0.2.31 all [installed]\n",
      "\u001b[32mftp\u001b[0m/xenial,now 0.17-33 amd64 [installed]\n",
      "\u001b[32mfuse\u001b[0m/xenial-updates,now 2.9.4-1ubuntu3.1 amd64 [installed]\n",
      "\u001b[32mg++\u001b[0m/xenial,now 4:5.3.1-1ubuntu1 amd64 [installed,automatic]\n",
      "\u001b[32mg++-5\u001b[0m/now 5.4.0-6ubuntu1~16.04.6 amd64 [installed,upgradable to: 5.4.0-6ubuntu1~16.04.9]\n",
      "\u001b[32mgawk\u001b[0m/xenial,now 1:4.1.3+dfsg-0.1 amd64 [installed]\n",
      "\u001b[32mgcc\u001b[0m/xenial,now 4:5.3.1-1ubuntu1 amd64 [installed,automatic]\n",
      "\u001b[32mgcc-5\u001b[0m/now 5.4.0-6ubuntu1~16.04.6 amd64 [installed,upgradable to: 5.4.0-6ubuntu1~16.04.9]\n",
      "\u001b[32mgcc-5-base\u001b[0m/now 5.4.0-6ubuntu1~16.04.6 amd64 [installed,upgradable to: 5.4.0-6ubuntu1~16.04.9]\n",
      "\u001b[32mgcc-6-base\u001b[0m/xenial,now 6.0.1-0ubuntu1 amd64 [installed]\n",
      "\u001b[32mgdisk\u001b[0m/xenial,now 1.0.1-1build1 amd64 [installed]\n",
      "\u001b[32mgeoip-database\u001b[0m/xenial,now 20160408-1 all [installed]\n",
      "\u001b[32mgettext-base\u001b[0m/xenial,now 0.19.7-2ubuntu3 amd64 [installed]\n",
      "\u001b[32mgir1.2-glib-2.0\u001b[0m/xenial,now 1.46.0-3ubuntu1 amd64 [installed]\n",
      "\u001b[32mgit\u001b[0m/xenial-updates,xenial-security,now 1:2.7.4-0ubuntu1.3 amd64 [installed]\n",
      "\u001b[32mgit-man\u001b[0m/xenial-updates,xenial-security,now 1:2.7.4-0ubuntu1.3 all [installed]\n",
      "\u001b[32mgnupg\u001b[0m/xenial-updates,xenial-security,now 1.4.20-1ubuntu3.1 amd64 [installed]\n",
      "\u001b[32mgpgv\u001b[0m/xenial-updates,xenial-security,now 1.4.20-1ubuntu3.1 amd64 [installed]\n",
      "\u001b[32mgrep\u001b[0m/xenial-updates,now 2.25-1~16.04.1 amd64 [installed]\n",
      "\u001b[32mgroff-base\u001b[0m/xenial,now 1.22.3-7 amd64 [installed]\n",
      "\u001b[32mgzip\u001b[0m/xenial,now 1.6-4ubuntu1 amd64 [installed]\n",
      "\u001b[32mhdparm\u001b[0m/xenial,now 9.48+ds-1 amd64 [installed]\n",
      "\u001b[32mhostname\u001b[0m/xenial,now 3.16ubuntu2 amd64 [installed]\n",
      "\u001b[32mifenslave\u001b[0m/xenial,now 2.7ubuntu1 all [installed]\n",
      "\u001b[32mifupdown\u001b[0m/xenial-updates,now 0.8.10ubuntu1.2 amd64 [installed]\n",
      "\u001b[32minfo\u001b[0m/xenial,now 6.1.0.dfsg.1-5 amd64 [installed]\n",
      "\u001b[32minit\u001b[0m/xenial-updates,now 1.29ubuntu4 amd64 [installed]\n",
      "\u001b[32minit-system-helpers\u001b[0m/xenial-updates,now 1.29ubuntu4 all [installed]\n",
      "\u001b[32minitramfs-tools\u001b[0m/xenial-updates,now 0.122ubuntu8.10 all [installed]\n",
      "\u001b[32minitramfs-tools-bin\u001b[0m/xenial-updates,now 0.122ubuntu8.10 amd64 [installed]\n",
      "\u001b[32minitramfs-tools-core\u001b[0m/xenial-updates,now 0.122ubuntu8.10 all [installed]\n",
      "\u001b[32minitscripts\u001b[0m/xenial,now 2.88dsf-59.3ubuntu2 amd64 [installed]\n",
      "\u001b[32minsserv\u001b[0m/xenial,now 1.14.0-5ubuntu3 amd64 [installed]\n",
      "\u001b[32minstall-info\u001b[0m/xenial,now 6.1.0.dfsg.1-5 amd64 [installed]\n",
      "\u001b[32miproute2\u001b[0m/xenial-updates,now 4.3.0-1ubuntu3.16.04.3 amd64 [installed]\n",
      "\u001b[32miptables\u001b[0m/xenial,now 1.6.0-2ubuntu3 amd64 [installed]\n",
      "\u001b[32miputils-ping\u001b[0m/xenial,now 3:20121221-5ubuntu2 amd64 [installed]\n",
      "\u001b[32miputils-tracepath\u001b[0m/xenial,now 3:20121221-5ubuntu2 amd64 [installed]\n",
      "\u001b[32mirqbalance\u001b[0m/xenial,now 1.1.0-2ubuntu1 amd64 [installed]\n",
      "\u001b[32misc-dhcp-client\u001b[0m/xenial-updates,now 4.3.3-5ubuntu12.7 amd64 [installed]\n",
      "\u001b[32misc-dhcp-common\u001b[0m/xenial-updates,now 4.3.3-5ubuntu12.7 amd64 [installed]\n",
      "\u001b[32miso-codes\u001b[0m/xenial,now 3.65-1 all [installed]\n",
      "\u001b[32mkbd\u001b[0m/xenial-updates,now 1.15.5-1ubuntu5 amd64 [installed]\n",
      "\u001b[32mkeyboard-configuration\u001b[0m/xenial-updates,now 1.108ubuntu15.3 all [installed]\n",
      "\u001b[32mklibc-utils\u001b[0m/xenial-updates,now 2.0.4-8ubuntu1.16.04.4 amd64 [installed]\n",
      "\u001b[32mkmod\u001b[0m/xenial-updates,now 22-1ubuntu5 amd64 [installed]\n",
      "\u001b[32mkrb5-locales\u001b[0m/xenial-updates,now 1.13.2+dfsg-5ubuntu2 all [installed]\n",
      "\u001b[32mlanguage-selector-common\u001b[0m/xenial-updates,now 0.165.4 all [installed]\n",
      "\u001b[32mless\u001b[0m/xenial-updates,now 481-2.1ubuntu0.2 amd64 [installed]\n",
      "\u001b[32mlibaccountsservice0\u001b[0m/xenial-updates,now 0.6.40-2ubuntu11.3 amd64 [installed]\n",
      "\u001b[32mlibacl1\u001b[0m/xenial,now 2.2.52-3 amd64 [installed]\n",
      "\u001b[32mlibalgorithm-diff-perl\u001b[0m/xenial,now 1.19.03-1 all [installed,automatic]\n",
      "\u001b[32mlibalgorithm-diff-xs-perl\u001b[0m/xenial,now 0.04-4build1 amd64 [installed,automatic]\n",
      "\u001b[32mlibalgorithm-merge-perl\u001b[0m/xenial,now 0.08-3 all [installed,automatic]\n",
      "\u001b[32mlibapparmor-perl\u001b[0m/xenial-updates,now 2.10.95-0ubuntu2.8 amd64 [installed]\n",
      "\u001b[32mlibapparmor1\u001b[0m/xenial-updates,now 2.10.95-0ubuntu2.8 amd64 [installed]\n",
      "\u001b[32mlibapt-inst2.0\u001b[0m/now 1.2.24 amd64 [installed,upgradable to: 1.2.25]\n",
      "\u001b[32mlibapt-pkg5.0\u001b[0m/now 1.2.24 amd64 [installed,upgradable to: 1.2.25]\n",
      "\u001b[32mlibarchive13\u001b[0m/xenial-updates,xenial-security,now 3.1.2-11ubuntu0.16.04.3 amd64 [installed,automatic]\n",
      "\u001b[32mlibasan2\u001b[0m/now 5.4.0-6ubuntu1~16.04.6 amd64 [installed,upgradable to: 5.4.0-6ubuntu1~16.04.9]\n",
      "\u001b[32mlibasn1-8-heimdal\u001b[0m/xenial-updates,xenial-security,now 1.7~git20150920+dfsg-4ubuntu1.16.04.1 amd64 [installed]\n",
      "\u001b[32mlibasprintf0v5\u001b[0m/xenial,now 0.19.7-2ubuntu3 amd64 [installed]\n",
      "\u001b[32mlibatm1\u001b[0m/xenial,now 1:2.5.1-1.5 amd64 [installed]\n",
      "\u001b[32mlibatomic1\u001b[0m/now 5.4.0-6ubuntu1~16.04.6 amd64 [installed,upgradable to: 5.4.0-6ubuntu1~16.04.9]\n",
      "\u001b[32mlibattr1\u001b[0m/xenial,now 1:2.4.47-2 amd64 [installed]\n",
      "\u001b[32mlibaudit-common\u001b[0m/xenial,now 1:2.4.5-1ubuntu2 all [installed,upgradable to: 1:2.4.5-1ubuntu2.1]\n",
      "\u001b[32mlibaudit1\u001b[0m/xenial,now 1:2.4.5-1ubuntu2 amd64 [installed,upgradable to: 1:2.4.5-1ubuntu2.1]\n",
      "\u001b[32mlibbind9-140\u001b[0m/xenial-updates,xenial-security,now 1:9.10.3.dfsg.P4-8ubuntu1.10 amd64 [installed]\n",
      "\u001b[32mlibblkid1\u001b[0m/now 2.27.1-6ubuntu3.3 amd64 [installed,upgradable to: 2.27.1-6ubuntu3.4]\n",
      "\u001b[32mlibboost-iostreams1.58.0\u001b[0m/xenial-updates,now 1.58.0+dfsg-5ubuntu3.1 amd64 [installed,automatic]\n",
      "\u001b[32mlibbsd0\u001b[0m/xenial,now 0.8.2-1 amd64 [installed]\n",
      "\u001b[32mlibbz2-1.0\u001b[0m/xenial,now 1.0.6-8 amd64 [installed]\n",
      "\u001b[32mlibc-bin\u001b[0m/xenial-updates,xenial-security,now 2.23-0ubuntu10 amd64 [installed]\n",
      "\u001b[32mlibc-dev-bin\u001b[0m/xenial-updates,xenial-security,now 2.23-0ubuntu10 amd64 [installed,automatic]\n",
      "\u001b[32mlibc6\u001b[0m/xenial-updates,xenial-security,now 2.23-0ubuntu10 amd64 [installed]\n",
      "\u001b[32mlibc6-dev\u001b[0m/xenial-updates,xenial-security,now 2.23-0ubuntu10 amd64 [installed]\n",
      "\u001b[32mlibcap-ng0\u001b[0m/xenial,now 0.7.7-1 amd64 [installed]\n",
      "\u001b[32mlibcap2\u001b[0m/xenial,now 1:2.24-12 amd64 [installed]\n",
      "\u001b[32mlibcap2-bin\u001b[0m/xenial,now 1:2.24-12 amd64 [installed]\n",
      "\u001b[32mlibcc1-0\u001b[0m/now 5.4.0-6ubuntu1~16.04.6 amd64 [installed,upgradable to: 5.4.0-6ubuntu1~16.04.9]\n",
      "\u001b[32mlibcgi-fast-perl\u001b[0m/xenial,now 1:2.10-1 all [installed,automatic]\n",
      "\u001b[32mlibcgi-pm-perl\u001b[0m/xenial,now 4.26-1 all [installed,automatic]\n",
      "\u001b[32mlibcilkrts5\u001b[0m/now 5.4.0-6ubuntu1~16.04.6 amd64 [installed,upgradable to: 5.4.0-6ubuntu1~16.04.9]\n",
      "\u001b[32mlibclass-accessor-perl\u001b[0m/xenial,now 0.34-1 all [installed,automatic]\n",
      "\u001b[32mlibcomerr2\u001b[0m/xenial,now 1.42.13-1ubuntu1 amd64 [installed]\n",
      "\u001b[32mlibcryptsetup4\u001b[0m/xenial-updates,now 2:1.6.6-5ubuntu2.1 amd64 [installed]\n",
      "\u001b[32mlibcurl3\u001b[0m/xenial-updates,xenial-security,now 7.47.0-1ubuntu2.6 amd64 [installed,automatic]\n",
      "\u001b[32mlibcurl3-gnutls\u001b[0m/xenial-updates,xenial-security,now 7.47.0-1ubuntu2.6 amd64 [installed]\n",
      "\u001b[32mlibcwidget3v5\u001b[0m/xenial,now 0.5.17-4ubuntu2 amd64 [installed,automatic]\n",
      "\u001b[32mlibdb5.3\u001b[0m/xenial-updates,xenial-security,now 5.3.28-11ubuntu0.1 amd64 [installed]\n",
      "\u001b[32mlibdbus-1-3\u001b[0m/xenial-updates,now 1.10.6-1ubuntu3.3 amd64 [installed]\n",
      "\u001b[32mlibdbus-glib-1-2\u001b[0m/xenial,now 0.106-1 amd64 [installed]\n",
      "\u001b[32mlibdebconfclient0\u001b[0m/xenial,now 0.198ubuntu1 amd64 [installed]\n",
      "\u001b[32mlibdevmapper-event1.02.1\u001b[0m/xenial,now 2:1.02.110-1ubuntu10 amd64 [installed]\n",
      "\u001b[32mlibdevmapper1.02.1\u001b[0m/xenial,now 2:1.02.110-1ubuntu10 amd64 [installed]\n",
      "\u001b[32mlibdns-export162\u001b[0m/xenial-updates,xenial-security,now 1:9.10.3.dfsg.P4-8ubuntu1.10 amd64 [installed]\n",
      "\u001b[32mlibdns162\u001b[0m/xenial-updates,xenial-security,now 1:9.10.3.dfsg.P4-8ubuntu1.10 amd64 [installed]\n",
      "\u001b[32mlibdpkg-perl\u001b[0m/xenial-updates,now 1.18.4ubuntu1.3 all [installed,automatic]\n",
      "\u001b[32mlibdrm2\u001b[0m/now 2.4.76-1~ubuntu16.04.1 amd64 [installed,upgradable to: 2.4.83-1~16.04.1]\n",
      "\u001b[32mlibdumbnet1\u001b[0m/xenial,now 1.12-7 amd64 [installed]\n",
      "\u001b[32mlibeatmydata1\u001b[0m/xenial,now 105-3 amd64 [installed]\n",
      "\u001b[32mlibedit2\u001b[0m/xenial,now 3.1-20150325-1ubuntu2 amd64 [installed]\n",
      "\u001b[32mlibelf1\u001b[0m/xenial,now 0.165-3ubuntu1 amd64 [installed]\n",
      "\u001b[32mlibencode-locale-perl\u001b[0m/xenial,now 1.05-1 all [installed,automatic]\n",
      "\u001b[32mliberror-perl\u001b[0m/xenial,now 0.17-1.2 all [installed]\n",
      "\u001b[32mlibestr0\u001b[0m/xenial,now 0.1.10-1 amd64 [installed]\n",
      "\u001b[32mlibevent-2.0-5\u001b[0m/xenial-updates,xenial-security,now 2.0.21-stable-2ubuntu0.16.04.1 amd64 [installed]\n",
      "\u001b[32mlibexpat1\u001b[0m/xenial-updates,xenial-security,now 2.1.0-7ubuntu0.16.04.3 amd64 [installed]\n",
      "\u001b[32mlibfakeroot\u001b[0m/xenial,now 1.20.2-1ubuntu1 amd64 [installed,automatic]\n",
      "\u001b[32mlibfcgi-perl\u001b[0m/xenial,now 0.77-1build1 amd64 [installed,automatic]\n",
      "\u001b[32mlibfdisk1\u001b[0m/now 2.27.1-6ubuntu3.3 amd64 [installed,upgradable to: 2.27.1-6ubuntu3.4]\n",
      "\u001b[32mlibffi6\u001b[0m/xenial,now 3.2.1-4 amd64 [installed]\n",
      "\u001b[32mlibfile-fcntllock-perl\u001b[0m/xenial,now 0.22-3 amd64 [installed,automatic]\n",
      "\u001b[32mlibfreetype6\u001b[0m/xenial-updates,xenial-security,now 2.6.1-0.1ubuntu2.3 amd64 [installed]\n",
      "\u001b[32mlibfribidi0\u001b[0m/xenial,now 0.19.7-1 amd64 [installed]\n",
      "\u001b[32mlibfuse2\u001b[0m/xenial-updates,now 2.9.4-1ubuntu3.1 amd64 [installed]\n",
      "\u001b[32mlibgcc-5-dev\u001b[0m/now 5.4.0-6ubuntu1~16.04.6 amd64 [installed,upgradable to: 5.4.0-6ubuntu1~16.04.9]\n",
      "\u001b[32mlibgcc1\u001b[0m/xenial,now 1:6.0.1-0ubuntu1 amd64 [installed]\n",
      "\u001b[32mlibgcrypt20\u001b[0m/xenial-updates,xenial-security,now 1.6.5-2ubuntu0.3 amd64 [installed]\n",
      "\u001b[32mlibgdbm3\u001b[0m/xenial,now 1.8.3-13.1 amd64 [installed]\n",
      "\u001b[32mlibgeoip1\u001b[0m/xenial,now 1.6.9-1 amd64 [installed]\n",
      "\u001b[32mlibgirepository-1.0-1\u001b[0m/xenial,now 1.46.0-3ubuntu1 amd64 [installed]\n",
      "\u001b[32mlibglib2.0-0\u001b[0m/xenial-updates,now 2.48.2-0ubuntu1 amd64 [installed]\n",
      "\u001b[32mlibglib2.0-data\u001b[0m/xenial-updates,now 2.48.2-0ubuntu1 all [installed]\n",
      "\u001b[32mlibgmp10\u001b[0m/xenial,now 2:6.1.0+dfsg-2 amd64 [installed]\n",
      "\u001b[32mlibgnutls-openssl27\u001b[0m/xenial-updates,now 3.4.10-4ubuntu1.4 amd64 [installed]\n",
      "\u001b[32mlibgnutls30\u001b[0m/xenial-updates,now 3.4.10-4ubuntu1.4 amd64 [installed]\n",
      "\u001b[32mlibgomp1\u001b[0m/now 5.4.0-6ubuntu1~16.04.6 amd64 [installed,upgradable to: 5.4.0-6ubuntu1~16.04.9]\n",
      "\u001b[32mlibgpg-error0\u001b[0m/xenial,now 1.21-2ubuntu1 amd64 [installed]\n",
      "\u001b[32mlibgpm2\u001b[0m/xenial,now 1.20.4-6.1 amd64 [installed]\n",
      "\u001b[32mlibgssapi-krb5-2\u001b[0m/xenial-updates,now 1.13.2+dfsg-5ubuntu2 amd64 [installed]\n",
      "\u001b[32mlibgssapi3-heimdal\u001b[0m/xenial-updates,xenial-security,now 1.7~git20150920+dfsg-4ubuntu1.16.04.1 amd64 [installed]\n",
      "\u001b[32mlibhcrypto4-heimdal\u001b[0m/xenial-updates,xenial-security,now 1.7~git20150920+dfsg-4ubuntu1.16.04.1 amd64 [installed]\n",
      "\u001b[32mlibheimbase1-heimdal\u001b[0m/xenial-updates,xenial-security,now 1.7~git20150920+dfsg-4ubuntu1.16.04.1 amd64 [installed]\n",
      "\u001b[32mlibheimntlm0-heimdal\u001b[0m/xenial-updates,xenial-security,now 1.7~git20150920+dfsg-4ubuntu1.16.04.1 amd64 [installed]\n",
      "\u001b[32mlibhogweed4\u001b[0m/xenial-updates,xenial-security,now 3.2-1ubuntu0.16.04.1 amd64 [installed]\n",
      "\u001b[32mlibhtml-parser-perl\u001b[0m/xenial,now 3.72-1 amd64 [installed,automatic]\n",
      "\u001b[32mlibhtml-tagset-perl\u001b[0m/xenial,now 3.20-2 all [installed,automatic]\n",
      "\u001b[32mlibhttp-date-perl\u001b[0m/xenial,now 6.02-1 all [installed,automatic]\n",
      "\u001b[32mlibhttp-message-perl\u001b[0m/xenial,now 6.11-1 all [installed,automatic]\n",
      "\u001b[32mlibhx509-5-heimdal\u001b[0m/xenial-updates,xenial-security,now 1.7~git20150920+dfsg-4ubuntu1.16.04.1 amd64 [installed]\n",
      "\u001b[32mlibicu55\u001b[0m/xenial-updates,xenial-security,now 55.1-7ubuntu0.3 amd64 [installed]\n",
      "\u001b[32mlibidn11\u001b[0m/xenial-updates,xenial-security,now 1.32-3ubuntu1.2 amd64 [installed]\n",
      "\u001b[32mlibio-html-perl\u001b[0m/xenial,now 1.001-1 all [installed,automatic]\n",
      "\u001b[32mlibio-string-perl\u001b[0m/xenial,now 1.08-3 all [installed,automatic]\n",
      "\u001b[32mlibisc-export160\u001b[0m/xenial-updates,xenial-security,now 1:9.10.3.dfsg.P4-8ubuntu1.10 amd64 [installed]\n",
      "\u001b[32mlibisc160\u001b[0m/xenial-updates,xenial-security,now 1:9.10.3.dfsg.P4-8ubuntu1.10 amd64 [installed]\n",
      "\u001b[32mlibisccc140\u001b[0m/xenial-updates,xenial-security,now 1:9.10.3.dfsg.P4-8ubuntu1.10 amd64 [installed]\n",
      "\u001b[32mlibisccfg140\u001b[0m/xenial-updates,xenial-security,now 1:9.10.3.dfsg.P4-8ubuntu1.10 amd64 [installed]\n",
      "\u001b[32mlibisl15\u001b[0m/xenial,now 0.16.1-1 amd64 [installed,automatic]\n",
      "\u001b[32mlibitm1\u001b[0m/now 5.4.0-6ubuntu1~16.04.6 amd64 [installed,upgradable to: 5.4.0-6ubuntu1~16.04.9]\n",
      "\u001b[32mlibjson-c2\u001b[0m/xenial,now 0.11-4ubuntu2 amd64 [installed]\n",
      "\u001b[32mlibjsoncpp1\u001b[0m/xenial,now 1.7.2-1 amd64 [installed,automatic]\n",
      "\u001b[32mlibk5crypto3\u001b[0m/xenial-updates,now 1.13.2+dfsg-5ubuntu2 amd64 [installed]\n",
      "\u001b[32mlibkeyutils1\u001b[0m/xenial,now 1.5.9-8ubuntu1 amd64 [installed]\n",
      "\u001b[32mlibklibc\u001b[0m/xenial-updates,now 2.0.4-8ubuntu1.16.04.4 amd64 [installed]\n",
      "\u001b[32mlibkmod2\u001b[0m/xenial-updates,now 22-1ubuntu5 amd64 [installed]\n",
      "\u001b[32mlibkrb5-26-heimdal\u001b[0m/xenial-updates,xenial-security,now 1.7~git20150920+dfsg-4ubuntu1.16.04.1 amd64 [installed]\n",
      "\u001b[32mlibkrb5-3\u001b[0m/xenial-updates,now 1.13.2+dfsg-5ubuntu2 amd64 [installed]\n",
      "\u001b[32mlibkrb5support0\u001b[0m/xenial-updates,now 1.13.2+dfsg-5ubuntu2 amd64 [installed]\n",
      "\u001b[32mlibldap-2.4-2\u001b[0m/xenial-updates,xenial-security,now 2.4.42+dfsg-2ubuntu3.2 amd64 [installed]\n",
      "\u001b[32mliblocale-gettext-perl\u001b[0m/xenial,now 1.07-1build1 amd64 [installed]\n",
      "\u001b[32mliblsan0\u001b[0m/now 5.4.0-6ubuntu1~16.04.6 amd64 [installed,upgradable to: 5.4.0-6ubuntu1~16.04.9]\n",
      "\u001b[32mliblvm2app2.2\u001b[0m/xenial,now 2.02.133-1ubuntu10 amd64 [installed]\n",
      "\u001b[32mliblvm2cmd2.02\u001b[0m/xenial,now 2.02.133-1ubuntu10 amd64 [installed]\n",
      "\u001b[32mliblwp-mediatypes-perl\u001b[0m/xenial,now 6.02-1 all [installed,automatic]\n",
      "\u001b[32mliblwres141\u001b[0m/xenial-updates,xenial-security,now 1:9.10.3.dfsg.P4-8ubuntu1.10 amd64 [installed]\n",
      "\u001b[32mliblxc1\u001b[0m/xenial-updates,now 2.0.8-0ubuntu1~16.04.2 amd64 [installed]\n",
      "\u001b[32mliblz4-1\u001b[0m/xenial,now 0.0~r131-2ubuntu2 amd64 [installed]\n",
      "\u001b[32mliblzma5\u001b[0m/xenial,now 5.1.1alpha+20120614-2ubuntu2 amd64 [installed]\n",
      "\u001b[32mliblzo2-2\u001b[0m/xenial,now 2.08-1.2 amd64 [installed]\n",
      "\u001b[32mlibmagic1\u001b[0m/xenial,now 1:5.25-2ubuntu1 amd64 [installed]\n",
      "\u001b[32mlibmnl0\u001b[0m/xenial,now 1.0.3-5 amd64 [installed]\n",
      "\u001b[32mlibmount1\u001b[0m/now 2.27.1-6ubuntu3.3 amd64 [installed,upgradable to: 2.27.1-6ubuntu3.4]\n",
      "\u001b[32mlibmpc3\u001b[0m/xenial,now 1.0.3-1 amd64 [installed,automatic]\n",
      "\u001b[32mlibmpdec2\u001b[0m/xenial,now 2.4.2-1 amd64 [installed]\n",
      "\u001b[32mlibmpfr4\u001b[0m/xenial,now 3.1.4-1 amd64 [installed]\n",
      "\u001b[32mlibmpx0\u001b[0m/now 5.4.0-6ubuntu1~16.04.6 amd64 [installed,upgradable to: 5.4.0-6ubuntu1~16.04.9]\n",
      "\u001b[32mlibmspack0\u001b[0m/xenial-updates,xenial-security,now 0.5-1ubuntu0.16.04.1 amd64 [installed]\n",
      "\u001b[32mlibncurses5\u001b[0m/xenial,now 6.0+20160213-1ubuntu1 amd64 [installed]\n",
      "\u001b[32mlibncursesw5\u001b[0m/xenial,now 6.0+20160213-1ubuntu1 amd64 [installed]\n",
      "\u001b[32mlibnetfilter-conntrack3\u001b[0m/xenial,now 1.0.5-1 amd64 [installed]\n",
      "\u001b[32mlibnettle6\u001b[0m/xenial-updates,xenial-security,now 3.2-1ubuntu0.16.04.1 amd64 [installed]\n",
      "\u001b[32mlibnewt0.52\u001b[0m/xenial,now 0.52.18-1ubuntu2 amd64 [installed]\n",
      "\u001b[32mlibnfnetlink0\u001b[0m/xenial,now 1.0.1-3 amd64 [installed]\n",
      "\u001b[32mlibnih1\u001b[0m/xenial,now 1.0.3-4.3ubuntu1 amd64 [installed]\n",
      "\u001b[32mlibnuma1\u001b[0m/xenial,now 2.0.11-1ubuntu1 amd64 [installed,upgradable to: 2.0.11-1ubuntu1.1]\n",
      "\u001b[32mlibp11-kit0\u001b[0m/xenial-updates,now 0.23.2-5~ubuntu16.04.1 amd64 [installed]\n",
      "\u001b[32mlibpam-modules\u001b[0m/xenial,now 1.1.8-3.2ubuntu2 amd64 [installed]\n",
      "\u001b[32mlibpam-modules-bin\u001b[0m/xenial,now 1.1.8-3.2ubuntu2 amd64 [installed]\n",
      "\u001b[32mlibpam-runtime\u001b[0m/xenial,now 1.1.8-3.2ubuntu2 all [installed]\n",
      "\u001b[32mlibpam-systemd\u001b[0m/xenial-updates,xenial-security,now 229-4ubuntu21.1 amd64 [installed]\n",
      "\u001b[32mlibpam0g\u001b[0m/xenial,now 1.1.8-3.2ubuntu2 amd64 [installed]\n",
      "\u001b[32mlibparse-debianchangelog-perl\u001b[0m/xenial,now 1.2.0-8 all [installed,automatic]\n",
      "\u001b[32mlibparted2\u001b[0m/xenial-updates,now 3.2-15ubuntu0.1 amd64 [installed]\n",
      "\u001b[32mlibpcap0.8\u001b[0m/xenial,now 1.7.4-2 amd64 [installed]\n",
      "\u001b[32mlibpci3\u001b[0m/xenial-updates,now 1:3.3.1-1.1ubuntu1.1 amd64 [installed]\n",
      "\u001b[32mlibpcre3\u001b[0m/xenial,now 2:8.38-3.1 amd64 [installed]\n",
      "\u001b[32mlibperl5.22\u001b[0m/xenial-updates,xenial-security,now 5.22.1-9ubuntu0.2 amd64 [installed]\n",
      "\u001b[32mlibpipeline1\u001b[0m/xenial,now 1.4.1-2 amd64 [installed]\n",
      "\u001b[32mlibplymouth4\u001b[0m/xenial-updates,now 0.9.2-3ubuntu13.2 amd64 [installed]\n",
      "\u001b[32mlibpng12-0\u001b[0m/xenial,now 1.2.54-1ubuntu1 amd64 [installed]\n",
      "\u001b[32mlibpolkit-agent-1-0\u001b[0m/xenial,now 0.105-14.1 amd64 [installed]\n",
      "\u001b[32mlibpolkit-backend-1-0\u001b[0m/xenial,now 0.105-14.1 amd64 [installed]\n",
      "\u001b[32mlibpolkit-gobject-1-0\u001b[0m/xenial,now 0.105-14.1 amd64 [installed]\n",
      "\u001b[32mlibpopt0\u001b[0m/xenial,now 1.16-10 amd64 [installed]\n",
      "\u001b[32mlibprocps4\u001b[0m/xenial-updates,now 2:3.3.10-4ubuntu2.3 amd64 [installed]\n",
      "\u001b[32mlibpython3-stdlib\u001b[0m/xenial,now 3.5.1-3 amd64 [installed]\n",
      "\u001b[32mlibpython3.5\u001b[0m/xenial-updates,xenial-security,now 3.5.2-2ubuntu0~16.04.4 amd64 [installed,automatic]\n",
      "\u001b[32mlibpython3.5-minimal\u001b[0m/xenial-updates,xenial-security,now 3.5.2-2ubuntu0~16.04.4 amd64 [installed]\n",
      "\u001b[32mlibpython3.5-stdlib\u001b[0m/xenial-updates,xenial-security,now 3.5.2-2ubuntu0~16.04.4 amd64 [installed]\n",
      "\u001b[32mlibquadmath0\u001b[0m/now 5.4.0-6ubuntu1~16.04.6 amd64 [installed,upgradable to: 5.4.0-6ubuntu1~16.04.9]\n",
      "\u001b[32mlibreadline5\u001b[0m/xenial,now 5.2+dfsg-3build1 amd64 [installed]\n",
      "\u001b[32mlibreadline6\u001b[0m/xenial,now 6.3-8ubuntu2 amd64 [installed]\n",
      "\u001b[32mlibroken18-heimdal\u001b[0m/xenial-updates,xenial-security,now 1.7~git20150920+dfsg-4ubuntu1.16.04.1 amd64 [installed]\n",
      "\u001b[32mlibrtmp1\u001b[0m/xenial-updates,xenial-security,now 2.4+20151223.gitfa8646d-1ubuntu0.1 amd64 [installed]\n",
      "\u001b[32mlibsasl2-2\u001b[0m/xenial,now 2.1.26.dfsg1-14build1 amd64 [installed]\n",
      "\u001b[32mlibsasl2-modules\u001b[0m/xenial,now 2.1.26.dfsg1-14build1 amd64 [installed]\n",
      "\u001b[32mlibsasl2-modules-db\u001b[0m/xenial,now 2.1.26.dfsg1-14build1 amd64 [installed]\n",
      "\u001b[32mlibseccomp2\u001b[0m/xenial-updates,now 2.3.1-2.1ubuntu2~16.04.1 amd64 [installed]\n",
      "\u001b[32mlibselinux1\u001b[0m/xenial,now 2.4-3build2 amd64 [installed]\n",
      "\u001b[32mlibsemanage-common\u001b[0m/xenial,now 2.3-1build3 all [installed]\n",
      "\u001b[32mlibsemanage1\u001b[0m/xenial,now 2.3-1build3 amd64 [installed]\n",
      "\u001b[32mlibsepol1\u001b[0m/xenial,now 2.4-2 amd64 [installed]\n",
      "\u001b[32mlibsigc++-2.0-0v5\u001b[0m/xenial,now 2.6.2-1 amd64 [installed,automatic]\n",
      "\u001b[32mlibsigsegv2\u001b[0m/xenial,now 2.10-4 amd64 [installed]\n",
      "\u001b[32mlibslang2\u001b[0m/xenial,now 2.3.0-2ubuntu1 amd64 [installed]\n",
      "\u001b[32mlibsmartcols1\u001b[0m/now 2.27.1-6ubuntu3.3 amd64 [installed,upgradable to: 2.27.1-6ubuntu3.4]\n",
      "\u001b[32mlibsqlite3-0\u001b[0m/xenial,now 3.11.0-1ubuntu1 amd64 [installed]\n",
      "\u001b[32mlibss2\u001b[0m/xenial,now 1.42.13-1ubuntu1 amd64 [installed]\n",
      "\u001b[32mlibssl1.0.0\u001b[0m/xenial-updates,xenial-security,now 1.0.2g-1ubuntu4.10 amd64 [installed]\n",
      "\u001b[32mlibstdc++-5-dev\u001b[0m/now 5.4.0-6ubuntu1~16.04.6 amd64 [installed,upgradable to: 5.4.0-6ubuntu1~16.04.9]\n",
      "\u001b[32mlibstdc++6\u001b[0m/now 5.4.0-6ubuntu1~16.04.6 amd64 [installed,upgradable to: 5.4.0-6ubuntu1~16.04.9]\n",
      "\u001b[32mlibsub-name-perl\u001b[0m/xenial,now 0.14-1build1 amd64 [installed,automatic]\n",
      "\u001b[32mlibsystemd0\u001b[0m/xenial-updates,xenial-security,now 229-4ubuntu21.1 amd64 [installed]\n",
      "\u001b[32mlibtasn1-6\u001b[0m/xenial-updates,xenial-security,now 4.7-3ubuntu0.16.04.3 amd64 [installed]\n",
      "\u001b[32mlibtext-charwidth-perl\u001b[0m/xenial,now 0.04-7build5 amd64 [installed]\n",
      "\u001b[32mlibtext-iconv-perl\u001b[0m/xenial,now 1.7-5build4 amd64 [installed]\n",
      "\u001b[32mlibtext-wrapi18n-perl\u001b[0m/xenial,now 0.06-7.1 all [installed]\n",
      "\u001b[32mlibtimedate-perl\u001b[0m/xenial,now 2.3000-2 all [installed,automatic]\n",
      "\u001b[32mlibtinfo5\u001b[0m/xenial,now 6.0+20160213-1ubuntu1 amd64 [installed]\n",
      "\u001b[32mlibtsan0\u001b[0m/now 5.4.0-6ubuntu1~16.04.6 amd64 [installed,upgradable to: 5.4.0-6ubuntu1~16.04.9]\n",
      "\u001b[32mlibubsan0\u001b[0m/now 5.4.0-6ubuntu1~16.04.6 amd64 [installed,upgradable to: 5.4.0-6ubuntu1~16.04.9]\n",
      "\u001b[32mlibudev1\u001b[0m/xenial-updates,xenial-security,now 229-4ubuntu21.1 amd64 [installed]\n",
      "\u001b[32mliburi-perl\u001b[0m/xenial,now 1.71-1 all [installed,automatic]\n",
      "\u001b[32mlibusb-0.1-4\u001b[0m/xenial,now 2:0.1.12-28 amd64 [installed]\n",
      "\u001b[32mlibusb-1.0-0\u001b[0m/xenial,now 2:1.0.20-1 amd64 [installed]\n",
      "\u001b[32mlibustr-1.0-1\u001b[0m/xenial,now 1.0.4-5 amd64 [installed]\n",
      "\u001b[32mlibutempter0\u001b[0m/xenial,now 1.1.6-3 amd64 [installed]\n",
      "\u001b[32mlibuuid1\u001b[0m/now 2.27.1-6ubuntu3.3 amd64 [installed,upgradable to: 2.27.1-6ubuntu3.4]\n",
      "\u001b[32mlibwind0-heimdal\u001b[0m/xenial-updates,xenial-security,now 1.7~git20150920+dfsg-4ubuntu1.16.04.1 amd64 [installed]\n",
      "\u001b[32mlibwrap0\u001b[0m/xenial,now 7.6.q-25 amd64 [installed]\n",
      "\u001b[32mlibx11-6\u001b[0m/xenial,now 2:1.6.3-1ubuntu2 amd64 [installed]\n",
      "\u001b[32mlibx11-data\u001b[0m/xenial,now 2:1.6.3-1ubuntu2 all [installed]\n",
      "\u001b[32mlibxapian22v5\u001b[0m/xenial,now 1.2.22-2 amd64 [installed,automatic]\n",
      "\u001b[32mlibxau6\u001b[0m/xenial,now 1:1.0.8-1 amd64 [installed]\n",
      "\u001b[32mlibxcb1\u001b[0m/xenial,now 1.11.1-1ubuntu1 amd64 [installed]\n",
      "\u001b[32mlibxdmcp6\u001b[0m/xenial,now 1:1.1.2-1.1 amd64 [installed]\n",
      "\u001b[32mlibxext6\u001b[0m/xenial,now 2:1.3.3-1 amd64 [installed]\n",
      "\u001b[32mlibxml2\u001b[0m/xenial-updates,xenial-security,now 2.9.3+dfsg1-1ubuntu0.5 amd64 [installed]\n",
      "\u001b[32mlibxmuu1\u001b[0m/xenial,now 2:1.1.2-2 amd64 [installed]\n",
      "\u001b[32mlibxtables11\u001b[0m/xenial,now 1.6.0-2ubuntu3 amd64 [installed]\n",
      "\u001b[32mlibyaml-0-2\u001b[0m/xenial,now 0.1.6-3 amd64 [installed]\n",
      "\u001b[32mlinux-base\u001b[0m/xenial,now 4.0ubuntu1 all [installed]\n",
      "\u001b[32mlinux-libc-dev\u001b[0m/now 4.4.0-112.135 amd64 [installed,upgradable to: 4.4.0-116.140]\n",
      "\u001b[32mlocales\u001b[0m/xenial-updates,xenial-security,now 2.23-0ubuntu10 all [installed]\n",
      "\u001b[32mlogin\u001b[0m/xenial-updates,xenial-security,now 1:4.2-3.1ubuntu5.3 amd64 [installed]\n",
      "\u001b[32mlogrotate\u001b[0m/xenial-updates,now 3.8.7-2ubuntu2.16.04.2 amd64 [installed]\n",
      "\u001b[32mlsb-base\u001b[0m/xenial-updates,now 9.20160110ubuntu0.2 all [installed]\n",
      "\u001b[32mlsb-release\u001b[0m/xenial-updates,now 9.20160110ubuntu0.2 all [installed]\n",
      "\u001b[32mlshw\u001b[0m/xenial-updates,now 02.17-1.1ubuntu3.4 amd64 [installed]\n",
      "\u001b[32mlsof\u001b[0m/xenial,now 4.89+dfsg-0.1 amd64 [installed]\n",
      "\u001b[32mltrace\u001b[0m/xenial,now 0.7.3-5.1ubuntu4 amd64 [installed]\n",
      "\u001b[32mlvm2\u001b[0m/xenial,now 2.02.133-1ubuntu10 amd64 [installed]\n",
      "\u001b[32mlxc-common\u001b[0m/xenial-updates,now 2.0.8-0ubuntu1~16.04.2 amd64 [installed]\n",
      "\u001b[32mlxcfs\u001b[0m/xenial-updates,now 2.0.8-0ubuntu1~16.04.2 amd64 [installed]\n",
      "\u001b[32mlxd\u001b[0m/xenial-updates,now 2.0.11-0ubuntu1~16.04.4 amd64 [installed]\n",
      "\u001b[32mlxd-client\u001b[0m/xenial-updates,now 2.0.11-0ubuntu1~16.04.4 amd64 [installed]\n",
      "\u001b[32mmake\u001b[0m/xenial,now 4.1-6 amd64 [installed,automatic]\n",
      "\u001b[32mmakedev\u001b[0m/xenial-updates,now 2.3.1-93ubuntu2~ubuntu16.04.1 all [installed]\n",
      "\u001b[32mman-db\u001b[0m/xenial,now 2.7.5-1 amd64 [installed]\n",
      "\u001b[32mmanpages\u001b[0m/xenial,now 4.04-2 all [installed]\n",
      "\u001b[32mmanpages-dev\u001b[0m/xenial,now 4.04-2 all [installed,automatic]\n",
      "\u001b[32mmawk\u001b[0m/xenial,now 1.3.3-17ubuntu2 amd64 [installed]\n",
      "\u001b[32mmdadm\u001b[0m/xenial-updates,now 3.3-2ubuntu7.6 amd64 [installed]\n",
      "\u001b[32mmime-support\u001b[0m/xenial,now 3.59ubuntu1 all [installed]\n",
      "\u001b[32mmlocate\u001b[0m/xenial,now 0.26-1ubuntu2 amd64 [installed]\n",
      "\u001b[32mmount\u001b[0m/now 2.27.1-6ubuntu3.3 amd64 [installed,upgradable to: 2.27.1-6ubuntu3.4]\n",
      "\u001b[32mmtr-tiny\u001b[0m/xenial-updates,now 0.86-1ubuntu0.1 amd64 [installed]\n",
      "\u001b[32mmultiarch-support\u001b[0m/xenial-updates,xenial-security,now 2.23-0ubuntu10 amd64 [installed]\n",
      "\u001b[32mnano\u001b[0m/xenial-updates,now 2.5.3-2ubuntu2 amd64 [installed]\n",
      "\u001b[32mncurses-base\u001b[0m/xenial,now 6.0+20160213-1ubuntu1 all [installed]\n",
      "\u001b[32mncurses-bin\u001b[0m/xenial,now 6.0+20160213-1ubuntu1 amd64 [installed]\n",
      "\u001b[32mncurses-term\u001b[0m/xenial,now 6.0+20160213-1ubuntu1 all [installed]\n",
      "\u001b[32mnet-tools\u001b[0m/xenial,now 1.60-26ubuntu1 amd64 [installed]\n",
      "\u001b[32mnetbase\u001b[0m/xenial,now 5.3 all [installed]\n",
      "\u001b[32mnetcat-openbsd\u001b[0m/xenial,now 1.105-7ubuntu1 amd64 [installed]\n",
      "\u001b[32mntfs-3g\u001b[0m/xenial-updates,xenial-security,now 1:2015.3.14AR.1-1ubuntu0.1 amd64 [installed]\n",
      "\u001b[32mopen-iscsi\u001b[0m/xenial-updates,now 2.0.873+git0.3b4b4500-14ubuntu3.4 amd64 [installed]\n",
      "\u001b[32mopen-vm-tools\u001b[0m/now 2:10.0.7-3227872-5ubuntu1~16.04.1 amd64 [installed,upgradable to: 2:10.0.7-3227872-5ubuntu1~16.04.2]\n",
      "\u001b[32mopenssh-client\u001b[0m/xenial-updates,xenial-security,now 1:7.2p2-4ubuntu2.4 amd64 [installed]\n",
      "\u001b[32mopenssh-server\u001b[0m/xenial-updates,xenial-security,now 1:7.2p2-4ubuntu2.4 amd64 [installed]\n",
      "\u001b[32mopenssh-sftp-server\u001b[0m/xenial-updates,xenial-security,now 1:7.2p2-4ubuntu2.4 amd64 [installed]\n",
      "\u001b[32mopenssl\u001b[0m/xenial-updates,xenial-security,now 1.0.2g-1ubuntu4.10 amd64 [installed]\n",
      "\u001b[32moverlayroot\u001b[0m/xenial-updates,now 0.27ubuntu1.5 all [installed]\n",
      "\u001b[32mparted\u001b[0m/xenial-updates,now 3.2-15ubuntu0.1 amd64 [installed]\n",
      "\u001b[32mpasswd\u001b[0m/xenial-updates,xenial-security,now 1:4.2-3.1ubuntu5.3 amd64 [installed]\n",
      "\u001b[32mpastebinit\u001b[0m/xenial,now 1.5-1 all [installed]\n",
      "\u001b[32mpatch\u001b[0m/xenial,now 2.7.5-1 amd64 [installed]\n",
      "\u001b[32mpciutils\u001b[0m/xenial-updates,now 1:3.3.1-1.1ubuntu1.1 amd64 [installed]\n",
      "\u001b[32mperl\u001b[0m/xenial-updates,xenial-security,now 5.22.1-9ubuntu0.2 amd64 [installed]\n",
      "\u001b[32mperl-base\u001b[0m/xenial-updates,xenial-security,now 5.22.1-9ubuntu0.2 amd64 [installed]\n",
      "\u001b[32mperl-modules-5.22\u001b[0m/xenial-updates,xenial-security,now 5.22.1-9ubuntu0.2 all [installed]\n",
      "\u001b[32mplymouth\u001b[0m/xenial-updates,now 0.9.2-3ubuntu13.2 amd64 [installed]\n",
      "\u001b[32mplymouth-theme-ubuntu-text\u001b[0m/xenial-updates,now 0.9.2-3ubuntu13.2 amd64 [installed]\n",
      "\u001b[32mpolicykit-1\u001b[0m/xenial,now 0.105-14.1 amd64 [installed]\n",
      "\u001b[32mpollinate\u001b[0m/xenial-updates,now 4.25-0ubuntu1~16.04.1 all [installed]\n",
      "\u001b[32mpopularity-contest\u001b[0m/xenial,now 1.64ubuntu2 all [installed]\n",
      "\u001b[32mpowermgmt-base\u001b[0m/xenial,now 1.31+nmu1 all [installed]\n",
      "\u001b[32mprocps\u001b[0m/xenial-updates,now 2:3.3.10-4ubuntu2.3 amd64 [installed]\n",
      "\u001b[32mpsmisc\u001b[0m/xenial,now 22.21-2.1build1 amd64 [installed]\n",
      "\u001b[32mpython-apt-common\u001b[0m/xenial,now 1.1.0~beta1build1 all [installed,upgradable to: 1.1.0~beta1ubuntu0.16.04.1]\n",
      "\u001b[32mpython3\u001b[0m/xenial,now 3.5.1-3 amd64 [installed]\n",
      "\u001b[32mpython3-apport\u001b[0m/xenial-updates,xenial-security,now 2.20.1-0ubuntu2.15 all [installed]\n",
      "\u001b[32mpython3-apt\u001b[0m/xenial,now 1.1.0~beta1build1 amd64 [installed,upgradable to: 1.1.0~beta1ubuntu0.16.04.1]\n",
      "\u001b[32mpython3-blinker\u001b[0m/xenial,now 1.3.dfsg2-1build1 all [installed]\n",
      "\u001b[32mpython3-cffi-backend\u001b[0m/xenial,now 1.5.2-1ubuntu1 amd64 [installed]\n",
      "\u001b[32mpython3-chardet\u001b[0m/xenial,now 2.3.0-2 all [installed]\n",
      "\u001b[32mpython3-commandnotfound\u001b[0m/xenial-updates,now 0.3ubuntu16.04.2 all [installed]\n",
      "\u001b[32mpython3-configobj\u001b[0m/xenial,now 5.0.6-2 all [installed]\n",
      "\u001b[32mpython3-cryptography\u001b[0m/xenial-updates,xenial-security,now 1.2.3-1ubuntu0.1 amd64 [installed]\n",
      "\u001b[32mpython3-dbus\u001b[0m/xenial,now 1.2.0-3 amd64 [installed]\n",
      "\u001b[32mpython3-debian\u001b[0m/xenial,now 0.1.27ubuntu2 all [installed]\n",
      "\u001b[32mpython3-distupgrade\u001b[0m/now 1:16.04.23 all [installed,upgradable to: 1:16.04.24]\n",
      "\u001b[32mpython3-gdbm\u001b[0m/xenial,now 3.5.1-1 amd64 [installed]\n",
      "\u001b[32mpython3-gi\u001b[0m/xenial,now 3.20.0-0ubuntu1 amd64 [installed]\n",
      "\u001b[32mpython3-idna\u001b[0m/xenial,now 2.0-3 all [installed]\n",
      "\u001b[32mpython3-jinja2\u001b[0m/xenial,now 2.8-1 all [installed]\n",
      "\u001b[32mpython3-json-pointer\u001b[0m/xenial,now 1.9-3 all [installed]\n",
      "\u001b[32mpython3-jsonpatch\u001b[0m/xenial,now 1.19-3 all [installed]\n",
      "\u001b[32mpython3-jwt\u001b[0m/xenial-updates,xenial-security,now 1.3.0-1ubuntu0.1 all [installed]\n",
      "\u001b[32mpython3-markupsafe\u001b[0m/xenial,now 0.23-2build2 amd64 [installed]\n",
      "\u001b[32mpython3-minimal\u001b[0m/xenial,now 3.5.1-3 amd64 [installed]\n",
      "\u001b[32mpython3-newt\u001b[0m/xenial,now 0.52.18-1ubuntu2 amd64 [installed]\n",
      "\u001b[32mpython3-oauthlib\u001b[0m/xenial,now 1.0.3-1 all [installed]\n",
      "\u001b[32mpython3-pkg-resources\u001b[0m/xenial,now 20.7.0-1 all [installed]\n",
      "\u001b[32mpython3-prettytable\u001b[0m/xenial,now 0.7.2-3 all [installed]\n",
      "\u001b[32mpython3-problem-report\u001b[0m/xenial-updates,xenial-security,now 2.20.1-0ubuntu2.15 all [installed]\n",
      "\u001b[32mpython3-pyasn1\u001b[0m/xenial,now 0.1.9-1 all [installed]\n",
      "\u001b[32mpython3-pycurl\u001b[0m/xenial,now 7.43.0-1ubuntu1 amd64 [installed]\n",
      "\u001b[32mpython3-requests\u001b[0m/xenial,now 2.9.1-3 all [installed]\n",
      "\u001b[32mpython3-serial\u001b[0m/xenial,now 3.0.1-1 all [installed]\n",
      "\u001b[32mpython3-six\u001b[0m/xenial,now 1.10.0-3 all [installed]\n",
      "\u001b[32mpython3-software-properties\u001b[0m/xenial-updates,now 0.96.20.7 all [installed]\n",
      "\u001b[32mpython3-systemd\u001b[0m/xenial,now 231-2build1 amd64 [installed]\n",
      "\u001b[32mpython3-update-manager\u001b[0m/xenial-updates,xenial-security,now 1:16.04.12 all [installed]\n",
      "\u001b[32mpython3-urllib3\u001b[0m/xenial-updates,now 1.13.1-2ubuntu0.16.04.1 all [installed]\n",
      "\u001b[32mpython3-yaml\u001b[0m/xenial,now 3.11-3build1 amd64 [installed]\n",
      "\u001b[32mpython3.5\u001b[0m/xenial-updates,xenial-security,now 3.5.2-2ubuntu0~16.04.4 amd64 [installed]\n",
      "\u001b[32mpython3.5-minimal\u001b[0m/xenial-updates,xenial-security,now 3.5.2-2ubuntu0~16.04.4 amd64 [installed]\n",
      "\u001b[32mreadline-common\u001b[0m/xenial,now 6.3-8ubuntu2 all [installed]\n",
      "\u001b[32mrename\u001b[0m/xenial,now 0.20-4 all [installed]\n",
      "\u001b[32mresolvconf\u001b[0m/xenial-updates,now 1.78ubuntu6 all [installed]\n",
      "\u001b[32mrsync\u001b[0m/xenial-updates,xenial-security,now 3.1.1-3ubuntu1.2 amd64 [installed]\n",
      "\u001b[32mrsyslog\u001b[0m/xenial,now 8.16.0-1ubuntu3 amd64 [installed]\n",
      "\u001b[32mrun-one\u001b[0m/xenial,now 1.17-0ubuntu1 all [installed]\n",
      "\u001b[32mscreen\u001b[0m/xenial,now 4.3.1-2build1 amd64 [installed]\n",
      "\u001b[32msed\u001b[0m/xenial,now 4.2.2-7 amd64 [installed]\n",
      "\u001b[32msensible-utils\u001b[0m/xenial,now 0.0.9 all [installed]\n",
      "\u001b[32msgml-base\u001b[0m/xenial,now 1.26+nmu4ubuntu1 all [installed]\n",
      "\u001b[32mshared-mime-info\u001b[0m/xenial-updates,now 1.5-2ubuntu0.1 amd64 [installed]\n",
      "\u001b[32msnapd\u001b[0m/xenial-updates,now 2.29.4.2 amd64 [installed]\n",
      "\u001b[32msoftware-properties-common\u001b[0m/xenial-updates,now 0.96.20.7 all [installed]\n",
      "\u001b[32msosreport\u001b[0m/xenial-updates,now 3.5-1~ubuntu16.04.2 amd64 [installed]\n",
      "\u001b[32msquashfs-tools\u001b[0m/xenial-updates,now 1:4.3-3ubuntu2.16.04.1 amd64 [installed]\n",
      "\u001b[32mssh-import-id\u001b[0m/xenial,now 5.5-0ubuntu1 all [installed]\n",
      "\u001b[32mstrace\u001b[0m/xenial,now 4.11-1ubuntu3 amd64 [installed]\n",
      "\u001b[32msudo\u001b[0m/xenial-updates,now 1.8.16-0ubuntu1.5 amd64 [installed]\n",
      "\u001b[32msystemd\u001b[0m/xenial-updates,xenial-security,now 229-4ubuntu21.1 amd64 [installed]\n",
      "\u001b[32msystemd-sysv\u001b[0m/xenial-updates,xenial-security,now 229-4ubuntu21.1 amd64 [installed]\n",
      "\u001b[32msysv-rc\u001b[0m/xenial,now 2.88dsf-59.3ubuntu2 all [installed]\n",
      "\u001b[32msysvinit-utils\u001b[0m/xenial,now 2.88dsf-59.3ubuntu2 amd64 [installed]\n",
      "\u001b[32mtar\u001b[0m/xenial-updates,xenial-security,now 1.28-2.1ubuntu0.1 amd64 [installed]\n",
      "\u001b[32mtcpd\u001b[0m/xenial,now 7.6.q-25 amd64 [installed]\n",
      "\u001b[32mtcpdump\u001b[0m/xenial-updates,xenial-security,now 4.9.2-0ubuntu0.16.04.1 amd64 [installed]\n",
      "\u001b[32mtelnet\u001b[0m/xenial,now 0.17-40 amd64 [installed]\n",
      "\u001b[32mtime\u001b[0m/xenial,now 1.7-25.1 amd64 [installed]\n",
      "\u001b[32mtmux\u001b[0m/xenial,now 2.1-3build1 amd64 [installed]\n",
      "\u001b[32mtzdata\u001b[0m/xenial-updates,xenial-security,now 2017c-0ubuntu0.16.04 all [installed]\n",
      "\u001b[32mubuntu-cloudimage-keyring\u001b[0m/xenial,now 2013.11.11 all [installed]\n",
      "\u001b[32mubuntu-core-launcher\u001b[0m/xenial-updates,now 2.29.4.2 amd64 [installed]\n",
      "\u001b[32mubuntu-keyring\u001b[0m/xenial,now 2012.05.19 all [installed]\n",
      "\u001b[32mubuntu-minimal\u001b[0m/xenial-updates,now 1.361.1 amd64 [installed]\n",
      "\u001b[32mubuntu-release-upgrader-core\u001b[0m/now 1:16.04.23 all [installed,upgradable to: 1:16.04.24]\n",
      "\u001b[32mubuntu-standard\u001b[0m/xenial-updates,now 1.361.1 amd64 [installed]\n",
      "\u001b[32mucf\u001b[0m/xenial,now 3.0036 all [installed]\n",
      "\u001b[32mudev\u001b[0m/xenial-updates,xenial-security,now 229-4ubuntu21.1 amd64 [installed]\n",
      "\u001b[32mufw\u001b[0m/xenial,now 0.35-0ubuntu2 all [installed]\n",
      "\u001b[32muidmap\u001b[0m/xenial-updates,xenial-security,now 1:4.2-3.1ubuntu5.3 amd64 [installed]\n",
      "\u001b[32munattended-upgrades\u001b[0m/xenial-updates,now 0.90ubuntu0.9 all [installed]\n",
      "\u001b[32mupdate-manager-core\u001b[0m/xenial-updates,xenial-security,now 1:16.04.12 all [installed]\n",
      "\u001b[32mupdate-notifier-common\u001b[0m/xenial-updates,xenial-security,now 3.168.7 all [installed]\n",
      "\u001b[32mureadahead\u001b[0m/xenial,now 0.100.0-19 amd64 [installed]\n",
      "\u001b[32musbutils\u001b[0m/xenial,now 1:007-4 amd64 [installed]\n",
      "\u001b[32mutil-linux\u001b[0m/now 2.27.1-6ubuntu3.3 amd64 [installed,upgradable to: 2.27.1-6ubuntu3.4]\n",
      "\u001b[32muuid-runtime\u001b[0m/now 2.27.1-6ubuntu3.3 amd64 [installed,upgradable to: 2.27.1-6ubuntu3.4]\n",
      "\u001b[32mvim\u001b[0m/xenial-updates,xenial-security,now 2:7.4.1689-3ubuntu1.2 amd64 [installed]\n",
      "\u001b[32mvim-common\u001b[0m/xenial-updates,xenial-security,now 2:7.4.1689-3ubuntu1.2 amd64 [installed]\n",
      "\u001b[32mvim-runtime\u001b[0m/xenial-updates,xenial-security,now 2:7.4.1689-3ubuntu1.2 all [installed]\n",
      "\u001b[32mvim-tiny\u001b[0m/xenial-updates,xenial-security,now 2:7.4.1689-3ubuntu1.2 amd64 [installed]\n",
      "\u001b[32mvlan\u001b[0m/xenial-updates,now 1.9-3.2ubuntu1.16.04.4 amd64 [installed]\n",
      "\u001b[32mwget\u001b[0m/xenial-updates,xenial-security,now 1.17.1-1ubuntu1.3 amd64 [installed]\n",
      "\u001b[32mwhiptail\u001b[0m/xenial,now 0.52.18-1ubuntu2 amd64 [installed]\n",
      "\u001b[32mxauth\u001b[0m/xenial,now 1:1.0.9-1ubuntu2 amd64 [installed]\n",
      "\u001b[32mxdg-user-dirs\u001b[0m/xenial,now 0.15-2ubuntu6 amd64 [installed]\n",
      "\u001b[32mxfsprogs\u001b[0m/xenial-updates,now 4.3.0+nmu1ubuntu1.1 amd64 [installed]\n",
      "\u001b[32mxkb-data\u001b[0m/xenial,now 2.16-1ubuntu1 all [installed]\n",
      "\u001b[32mxml-core\u001b[0m/xenial,now 0.13+nmu2 all [installed]\n",
      "\u001b[32mxz-utils\u001b[0m/xenial,now 5.1.1alpha+20120614-2ubuntu2 amd64 [installed]\n",
      "\u001b[32mzerofree\u001b[0m/xenial,now 1.0.3-1 amd64 [installed]\n",
      "\u001b[32mzlib1g\u001b[0m/xenial-updates,now 1:1.2.8.dfsg-2ubuntu4.1 amd64 [installed]\n"
     ]
    }
   ],
   "source": [
    "!apt list --installed"
   ]
  },
  {
   "cell_type": "markdown",
   "metadata": {
    "slideshow": {
     "slide_type": "slide"
    }
   },
   "source": [
    "## Part 1: Theory and Method"
   ]
  },
  {
   "cell_type": "markdown",
   "metadata": {
    "slideshow": {
     "slide_type": "-"
    }
   },
   "source": [
    "Hartree-Fock Self-Consistent Field Theory (HF-SCF) with restricted orbitals and closed-shell systems (RHF) solves the so-called Rothaan-Hall equation, which is a generalized eigenvalue matrix equation:\n",
    "\n",
    "\\begin{equation}\n",
    "\\mathbf{FC}=\\mathbf{ S C \\epsilon}\n",
    "\\end{equation}"
   ]
  },
  {
   "cell_type": "markdown",
   "metadata": {
    "collapsed": true,
    "slideshow": {
     "slide_type": "-"
    }
   },
   "source": [
    "The Fock matrix, $\\mathbf{F}$, has elements $F_{\\mu\\nu}$ given as\n",
    "\\begin{equation}\n",
    "F_{ab} = H_{ab} + \\left[ \\langle \\phi_a|\\hat{J}|\\phi_b  \\rangle - \\langle \\phi_a|\\hat{K}|\\phi_b \\rangle \\right]\n",
    "\\end{equation}\n",
    "The overlap matrix is defined as\n",
    "\\begin{equation}\n",
    "S_{ab} = \\langle \\phi_a|\\phi_b \\rangle\n",
    "\\end{equation}\n",
    "\n",
    "The orbital coefficient matrix $\\mathbf{C}$ is a $N\\times M$ matrix, where $N$ is the number of atomic basis functions and $M$ ($\\phi$) is the number of molecular orbitals ($\\psi$). This matrix describes the contribution of each basis function $\\phi$ to the molecular orbital $\\psi$."
   ]
  },
  {
   "cell_type": "markdown",
   "metadata": {
    "slideshow": {
     "slide_type": "slide"
    }
   },
   "source": [
    "## Part 2: A simple Hartree-Fock calculation"
   ]
  },
  {
   "cell_type": "markdown",
   "metadata": {
    "slideshow": {
     "slide_type": "-"
    }
   },
   "source": [
    "### Step 1: Setting up the molecular coordinates\n",
    "___________\n",
    "\n",
    "This is the first step of every calculation. We need to define the molecular coordinates. \n",
    "The `ase` package contains a lot of handy tools to define molecules with preset geometries.\n",
    "\n",
    "In the following, we use the function `molecules` from `ase.build` to build a water molecule."
   ]
  },
  {
   "cell_type": "code",
   "execution_count": 4,
   "metadata": {
    "slideshow": {
     "slide_type": "-"
    }
   },
   "outputs": [
    {
     "name": "stdout",
     "output_type": "stream",
     "text": [
      "[[ 0.        0.        0.119262]\n",
      " [ 0.        0.763239 -0.477047]\n",
      " [ 0.       -0.763239 -0.477047]]\n"
     ]
    }
   ],
   "source": [
    "#for water, type H2O\n",
    "#for ammonia, type NH3\n",
    "#for di-amino-benzene, type BDA,\n",
    "#for the buckminster-fullerene, type C60\n",
    "atoms = molecule('H2O')\n",
    "print(atoms.positions)"
   ]
  },
  {
   "cell_type": "markdown",
   "metadata": {
    "slideshow": {
     "slide_type": "slide"
    }
   },
   "source": [
    "Let's visualize the molecule on the screen using `ase.visualize.view`\n",
    "There are two possible viewers. 'x3d' is the standard one. 'ngl' or nglview has to be installed separately (see handout) but has a lot more features. Try to replace \n",
    "\n",
    "`view(atoms, viewer='x3d')` with `view(atoms, viewer='ngl')`"
   ]
  },
  {
   "cell_type": "code",
   "execution_count": 11,
   "metadata": {
    "slideshow": {
     "slide_type": "-"
    }
   },
   "outputs": [
    {
     "data": {
      "text/html": [
       "<html>\n",
       "\n",
       " <head>\n",
       "\n",
       "  <title>ASE atomic visualization</title>\n",
       "\n",
       "  <link rel=\"stylesheet\" type=\"text/css\"\n",
       "\n",
       "   href=\"https://www.x3dom.org/x3dom/release/x3dom.css\">\n",
       "\n",
       "  </link>\n",
       "\n",
       "  <script type=\"text/javascript\"\n",
       "\n",
       "   src=\"https://www.x3dom.org/x3dom/release/x3dom.js\">\n",
       "\n",
       "  </script>\n",
       "\n",
       " </head>\n",
       "\n",
       " <body>\n",
       "\n",
       "  <X3D style=\"margin:0; padding:0; width:100%; height:100%; border:none;\">\n",
       "\n",
       "   <Scene>\n",
       "\n",
       "    <Transform translation=\"0.00 0.00 0.12\">\n",
       "\n",
       "     <Shape>\n",
       "\n",
       "      <Appearance>\n",
       "\n",
       "       <Material diffuseColor=\"1.000 0.051 0.051\" specularColor=\"0.5 0.5 0.5\">\n",
       "\n",
       "       </Material>\n",
       "\n",
       "      </Appearance>\n",
       "\n",
       "      <Sphere radius=\"0.66\">\n",
       "\n",
       "      </Sphere>\n",
       "\n",
       "     </Shape>\n",
       "\n",
       "    </Transform>\n",
       "\n",
       "    <Transform translation=\"0.00 0.76 -0.48\">\n",
       "\n",
       "     <Shape>\n",
       "\n",
       "      <Appearance>\n",
       "\n",
       "       <Material diffuseColor=\"1.000 1.000 1.000\" specularColor=\"0.5 0.5 0.5\">\n",
       "\n",
       "       </Material>\n",
       "\n",
       "      </Appearance>\n",
       "\n",
       "      <Sphere radius=\"0.31\">\n",
       "\n",
       "      </Sphere>\n",
       "\n",
       "     </Shape>\n",
       "\n",
       "    </Transform>\n",
       "\n",
       "    <Transform translation=\"0.00 -0.76 -0.48\">\n",
       "\n",
       "     <Shape>\n",
       "\n",
       "      <Appearance>\n",
       "\n",
       "       <Material diffuseColor=\"1.000 1.000 1.000\" specularColor=\"0.5 0.5 0.5\">\n",
       "\n",
       "       </Material>\n",
       "\n",
       "      </Appearance>\n",
       "\n",
       "      <Sphere radius=\"0.31\">\n",
       "\n",
       "      </Sphere>\n",
       "\n",
       "     </Shape>\n",
       "\n",
       "    </Transform>\n",
       "\n",
       "   </Scene>\n",
       "\n",
       "  </X3D>\n",
       "\n",
       " </body>\n",
       "\n",
       "</html>\n",
       "\n"
      ],
      "text/plain": [
       "<IPython.core.display.HTML object>"
      ]
     },
     "execution_count": 11,
     "metadata": {},
     "output_type": "execute_result"
    }
   ],
   "source": [
    "view(atoms,viewer='x3d') #x3d or ngl"
   ]
  },
  {
   "cell_type": "markdown",
   "metadata": {
    "slideshow": {
     "slide_type": "slide"
    }
   },
   "source": [
    "### Step 2: Performing the calculation\n",
    "___________\n",
    "To calculate the HF energy, we use the Psi4 package. In the following,\n",
    "\n",
    "* we set the RAM memory, which we allocate to Psi4, \n",
    "* we pass the geometry from our `ase.atoms` object to `psi4.geometry`\n",
    "* we initiate the HF (also called scf) calculation using a split-valence 3-21G* Pople basis set\n",
    "* we perform the HF energy calculation using `psi4.energy`"
   ]
  },
  {
   "cell_type": "code",
   "execution_count": 5,
   "metadata": {
    "scrolled": true,
    "slideshow": {
     "slide_type": "slide"
    }
   },
   "outputs": [
    {
     "name": "stdout",
     "output_type": "stream",
     "text": [
      "Total HF energy is -75.58555599788606 Hartree \n",
      " \n"
     ]
    }
   ],
   "source": [
    "psi4.core.clean()\n",
    "#psi4.core.reopen_outfile()\n",
    "psi4.core.set_output_file('output.dat', False)\n",
    "psi4.set_memory('1000 MB')\n",
    "\n",
    "##set geometry\n",
    "#transform ase geometries to Psi4 input string\n",
    "geom_input = geom_ase_to_psi4(atoms, charge=0, multiplicity=1)\n",
    "#initiate Psi4 molecule object\n",
    "nh3 = psi4.geometry(geom_input)\n",
    "\n",
    "# Set computation options\n",
    "psi4.set_options({'basis': '3-21G',\n",
    "                  'reference': 'rhf',\n",
    "                  'scf_type':'direct',\n",
    "                  'e_convergence': 1e-8})\n",
    "\n",
    "E, wvf = psi4.energy('scf',return_wfn=True)\n",
    "print('Total HF energy is {0} Hartree \\n '.format(E))\n"
   ]
  },
  {
   "cell_type": "markdown",
   "metadata": {
    "slideshow": {
     "slide_type": "-"
    }
   },
   "source": [
    "We have successfully calculated the HF energy and wave function. Let's take a closer look at the detailed output statements written in `output.dat`."
   ]
  },
  {
   "cell_type": "code",
   "execution_count": 6,
   "metadata": {
    "slideshow": {
     "slide_type": "slide"
    }
   },
   "outputs": [],
   "source": [
    "%less output.dat"
   ]
  },
  {
   "cell_type": "markdown",
   "metadata": {
    "slideshow": {
     "slide_type": "slide"
    }
   },
   "source": [
    "We can also analyze the results further by looking at the MO energies, the occupations, and the coefficients."
   ]
  },
  {
   "cell_type": "code",
   "execution_count": 7,
   "metadata": {
    "slideshow": {
     "slide_type": "-"
    }
   },
   "outputs": [
    {
     "name": "stdout",
     "output_type": "stream",
     "text": [
      "Molecular Orbital 0, occupation: 2.00, energy:  -20.431\n",
      "Molecular Orbital 1, occupation: 2.00, energy:   -1.324\n",
      "Molecular Orbital 2, occupation: 2.00, energy:   -0.679\n",
      "Molecular Orbital 3, occupation: 2.00, energy:   -0.537\n",
      "Molecular Orbital 4, occupation: 2.00, energy:   -0.479\n",
      "Molecular Orbital 5, occupation: 0.00, energy:    0.260\n",
      "Molecular Orbital 6, occupation: 0.00, energy:    0.358\n",
      "Molecular Orbital 7, occupation: 0.00, energy:    1.185\n",
      "Molecular Orbital 8, occupation: 0.00, energy:    1.297\n",
      "Molecular Orbital 9, occupation: 0.00, energy:    1.782\n",
      "Molecular Orbital 10, occupation: 0.00, energy:    1.871\n",
      "Molecular Orbital 11, occupation: 0.00, energy:    2.015\n",
      "Molecular Orbital 12, occupation: 0.00, energy:    3.108\n",
      "\n",
      " The wave function matrix has dimensions: (13, 13)\n",
      "\n",
      " Wave function coefficients for the HOMO orbital:\n",
      "  0.00\n",
      " -0.00\n",
      "  0.52\n",
      "  0.00\n",
      " -0.00\n",
      " -0.00\n",
      "  0.63\n",
      "  0.00\n",
      " -0.00\n",
      "  0.00\n",
      "  0.00\n",
      "  0.00\n",
      "  0.00\n"
     ]
    }
   ],
   "source": [
    "#Let's look at orbital coefficients, MO energies and occupations\n",
    "coeffs = wvf.Ca().to_array()\n",
    "epsilons = wvf.epsilon_a().to_array()\n",
    "occs = wvf.occupation_a().to_array()\n",
    "for i,(o,e) in enumerate(zip(occs, epsilons)):\n",
    "    print ('Molecular Orbital {0}, occupation: {1:4.2f}, energy: {2:8.3f}'\n",
    "           .format(i,o*2,e))\n",
    "print('\\n The wave function matrix has dimensions:', coeffs.shape)\n",
    "print('\\n Wave function coefficients for the HOMO orbital:')\n",
    "for i in coeffs[:,4]:\n",
    "    print('{0:6.2f}'.format(i))    "
   ]
  },
  {
   "cell_type": "markdown",
   "metadata": {
    "slideshow": {
     "slide_type": "notes"
    }
   },
   "source": [
    "From the above, we learn that the molecule has 13 AO basis functions, which define 13 Molecular Orbitals. Of these 13 orbitals, 5 are occupied. (These are spatial orbitals, each of which has 2 electrons. That makes 10 electrons in H$_2$O).\n",
    "\n",
    "The coefficients of the HOMO orbital tell us that it is only comprised of 2 different AOs. "
   ]
  },
  {
   "cell_type": "markdown",
   "metadata": {
    "slideshow": {
     "slide_type": "slide"
    }
   },
   "source": [
    "The last function here prints a so-called molden file, with which we can visualize the molecular orbitals in Avogadro.\n",
    "We can use [Avogadro](https://avogadro.cc/) to figure out which ones."
   ]
  },
  {
   "cell_type": "code",
   "execution_count": 8,
   "metadata": {
    "slideshow": {
     "slide_type": "-"
    }
   },
   "outputs": [],
   "source": [
    "#Write wave functions to molden file format, can be visualized in Avogadro\n",
    "psi4.molden(wvf, 'h2o.molden')"
   ]
  },
  {
   "cell_type": "markdown",
   "metadata": {
    "slideshow": {
     "slide_type": "slide"
    }
   },
   "source": [
    "## Want to learn more about the inner workings of Hartree Fock?\n",
    "\n",
    "Check out the psi4numpy tutorial on Hartree-Fock\n",
    "\n",
    "https://github.com/psi4/psi4numpy/blob/master/Tutorials/03_Hartree-Fock/3a_restricted-hartree-fock.ipynb"
   ]
  }
 ],
 "metadata": {
  "celltoolbar": "Slideshow",
  "kernelspec": {
   "display_name": "Python 3",
   "language": "python",
   "name": "python3"
  },
  "language_info": {
   "codemirror_mode": {
    "name": "ipython",
    "version": 3
   },
   "file_extension": ".py",
   "mimetype": "text/x-python",
   "name": "python",
   "nbconvert_exporter": "python",
   "pygments_lexer": "ipython3",
   "version": "3.6.1"
  }
 },
 "nbformat": 4,
 "nbformat_minor": 2
}
