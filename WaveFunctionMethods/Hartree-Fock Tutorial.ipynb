{
 "cells": [
  {
   "cell_type": "code",
   "execution_count": 1,
   "metadata": {
    "slideshow": {
     "slide_type": "skip"
    }
   },
   "outputs": [
    {
     "data": {
      "text/plain": [
       "{'height': 768, 'width': 1024}"
      ]
     },
     "execution_count": 1,
     "metadata": {},
     "output_type": "execute_result"
    }
   ],
   "source": [
    "from notebook.services.config import ConfigManager\n",
    "cm = ConfigManager()\n",
    "cm.update('livereveal', {\n",
    "          'width': 1024,\n",
    "          'height': 768,\n",
    "#          #'width': 3840,\n",
    "#          #'height': 2160,    \n",
    "#          #'width': 1200,\n",
    "#          #'height': 600,    \n",
    "})"
   ]
  },
  {
   "cell_type": "markdown",
   "metadata": {
    "slideshow": {
     "slide_type": "slide"
    }
   },
   "source": [
    "# The Hartree Fock method"
   ]
  },
  {
   "cell_type": "markdown",
   "metadata": {
    "slideshow": {
     "slide_type": "-"
    }
   },
   "source": [
    "<div class=\"col-md-10\">\n",
    "<p> In this tutorial we use a the Python scripting language and an interactive Jupyter notebook to run a Hartree-Fock calculation using the Python-based quantum chemistry code Psi4. </p>\n",
    "\n",
    "\n",
    "<p> You can install this setup on your own Windows/Mac computer following the instructions on the github mainpage.</p>\n",
    "</div>\n",
    "<div class=\"col-md-2\">\n",
    "<img src=\"http://www.psicode.org/psi4manual/master/_static/psi4square.png\" alt=\"Psi4 code\" style=\"width: 100px;\"/>\n",
    "</div>\n",
    "\n",
    "You will see lot's of Python statements that import packages or access functions, such as the following:\n"
   ]
  },
  {
   "cell_type": "markdown",
   "metadata": {
    "slideshow": {
     "slide_type": "slide"
    }
   },
   "source": [
    "Here we load important packages, such as a visualization programm and the Psi4 software package and then we do a little arithmetics. We also define a little helper function. \n",
    "You can execute the cell below by either pushing the play putton above or by clicking into the cell and pressing \"Shift+Enter\". You have to do this for all following cells."
   ]
  },
  {
   "cell_type": "code",
   "execution_count": 2,
   "metadata": {
    "slideshow": {
     "slide_type": "-"
    }
   },
   "outputs": [
    {
     "name": "stdout",
     "output_type": "stream",
     "text": [
      "2\n"
     ]
    }
   ],
   "source": [
    "import numpy as np\n",
    "import matplotlib.pyplot as plt\n",
    "import psi4\n",
    "from ase.build import molecule\n",
    "from ase.atoms import Atoms\n",
    "from ase.visualize import view\n",
    "from ase.visualize.plot import plot_atoms\n",
    "\n",
    "print(1+1)"
   ]
  },
  {
   "cell_type": "code",
   "execution_count": 3,
   "metadata": {
    "slideshow": {
     "slide_type": "skip"
    }
   },
   "outputs": [],
   "source": [
    "def geom_ase_to_psi4(atoms, charge=0, multiplicity=1, symmetry='c1' ):\n",
    "    \"\"\"\n",
    "    takes an ase atoms object and build a Psi4 geometry string\n",
    "    \"\"\"\n",
    "    species = atoms.get_chemical_symbols()\n",
    "    pos = atoms.get_positions()\n",
    "    string = \"unit angstrom \\n\"\n",
    "    string += \"symmetry c1 \\n\"\n",
    "    string += \"{0} {1} \\n\".format(charge, multiplicity) \n",
    "    for i,(spec,p) in enumerate(zip(species, pos)):\n",
    "        string += \"{0} {1:14.8f} {2:14.8f} {3:14.8f}\\n\".format(spec, p[0], p[1], p[2])\n",
    "        \n",
    "    return string"
   ]
  },
  {
   "cell_type": "markdown",
   "metadata": {
    "slideshow": {
     "slide_type": "slide"
    }
   },
   "source": [
    "## Part 1: Theory and Method"
   ]
  },
  {
   "cell_type": "markdown",
   "metadata": {
    "slideshow": {
     "slide_type": "-"
    }
   },
   "source": [
    "Hartree-Fock Self-Consistent Field Theory (HF-SCF) with restricted orbitals and closed-shell systems (RHF) solves the so-called Rothaan-Hall equation, which is a generalized eigenvalue matrix equation:\n",
    "\n",
    "\\begin{equation}\n",
    "\\mathbf{FC}=\\mathbf{ S C \\epsilon}\n",
    "\\end{equation}"
   ]
  },
  {
   "cell_type": "markdown",
   "metadata": {
    "collapsed": true,
    "slideshow": {
     "slide_type": "-"
    }
   },
   "source": [
    "The Fock matrix, $\\mathbf{F}$, has elements $F_{\\mu\\nu}$ given as\n",
    "\\begin{equation}\n",
    "F_{ab} = H_{ab} + \\left[ \\langle \\phi_a|\\hat{J}|\\phi_b  \\rangle - \\langle \\phi_a|\\hat{K}|\\phi_b \\rangle \\right]\n",
    "\\end{equation}\n",
    "The overlap matrix is defined as\n",
    "\\begin{equation}\n",
    "S_{ab} = \\langle \\phi_a|\\phi_b \\rangle\n",
    "\\end{equation}\n",
    "\n",
    "The orbital coefficient matrix $\\mathbf{C}$ is a $N\\times M$ matrix, where $N$ is the number of atomic basis functions and $M$ ($\\phi$) is the number of molecular orbitals ($\\psi$). This matrix describes the contribution of each basis function $\\phi$ to the molecular orbital $\\psi$."
   ]
  },
  {
   "cell_type": "markdown",
   "metadata": {
    "slideshow": {
     "slide_type": "slide"
    }
   },
   "source": [
    "## Part 2: A simple Hartree-Fock calculation"
   ]
  },
  {
   "cell_type": "markdown",
   "metadata": {
    "slideshow": {
     "slide_type": "-"
    }
   },
   "source": [
    "### Step 1: Setting up the molecular coordinates\n",
    "___________\n",
    "\n",
    "This is the first step of every calculation. We need to define the molecular coordinates. \n",
    "The `ase` package contains a lot of handy tools to define molecules with preset geometries.\n",
    "\n",
    "In the following, we use the function `molecules` from `ase.build` to build a water molecule."
   ]
  },
  {
   "cell_type": "code",
   "execution_count": 4,
   "metadata": {
    "slideshow": {
     "slide_type": "-"
    }
   },
   "outputs": [
    {
     "name": "stdout",
     "output_type": "stream",
     "text": [
      "[[ 0.        0.        0.119262]\n",
      " [ 0.        0.763239 -0.477047]\n",
      " [ 0.       -0.763239 -0.477047]]\n"
     ]
    }
   ],
   "source": [
    "#for water, type H2O\n",
    "#for ammonia, type NH3\n",
    "#for di-amino-benzene, type BDA,\n",
    "#for the buckminster-fullerene, type C60\n",
    "atoms = molecule('H2O')\n",
    "print(atoms.positions)"
   ]
  },
  {
   "cell_type": "markdown",
   "metadata": {
    "slideshow": {
     "slide_type": "slide"
    }
   },
   "source": [
    "Let's visualize the molecule on the screen using `ase.visualize.view`\n",
    "There are two possible viewers. 'x3d' is the standard one. 'ngl' or nglview has to be installed separately (see handout) but has a lot more features. Try to replace \n",
    "\n",
    "`view(atoms, viewer='x3d')` with `view(atoms, viewer='ngl')`"
   ]
  },
  {
   "cell_type": "code",
   "execution_count": 11,
   "metadata": {
    "slideshow": {
     "slide_type": "-"
    }
   },
   "outputs": [
    {
     "data": {
      "text/html": [
       "<html>\n",
       "\n",
       " <head>\n",
       "\n",
       "  <title>ASE atomic visualization</title>\n",
       "\n",
       "  <link rel=\"stylesheet\" type=\"text/css\"\n",
       "\n",
       "   href=\"https://www.x3dom.org/x3dom/release/x3dom.css\">\n",
       "\n",
       "  </link>\n",
       "\n",
       "  <script type=\"text/javascript\"\n",
       "\n",
       "   src=\"https://www.x3dom.org/x3dom/release/x3dom.js\">\n",
       "\n",
       "  </script>\n",
       "\n",
       " </head>\n",
       "\n",
       " <body>\n",
       "\n",
       "  <X3D style=\"margin:0; padding:0; width:100%; height:100%; border:none;\">\n",
       "\n",
       "   <Scene>\n",
       "\n",
       "    <Transform translation=\"0.00 0.00 0.12\">\n",
       "\n",
       "     <Shape>\n",
       "\n",
       "      <Appearance>\n",
       "\n",
       "       <Material diffuseColor=\"1.000 0.051 0.051\" specularColor=\"0.5 0.5 0.5\">\n",
       "\n",
       "       </Material>\n",
       "\n",
       "      </Appearance>\n",
       "\n",
       "      <Sphere radius=\"0.66\">\n",
       "\n",
       "      </Sphere>\n",
       "\n",
       "     </Shape>\n",
       "\n",
       "    </Transform>\n",
       "\n",
       "    <Transform translation=\"0.00 0.76 -0.48\">\n",
       "\n",
       "     <Shape>\n",
       "\n",
       "      <Appearance>\n",
       "\n",
       "       <Material diffuseColor=\"1.000 1.000 1.000\" specularColor=\"0.5 0.5 0.5\">\n",
       "\n",
       "       </Material>\n",
       "\n",
       "      </Appearance>\n",
       "\n",
       "      <Sphere radius=\"0.31\">\n",
       "\n",
       "      </Sphere>\n",
       "\n",
       "     </Shape>\n",
       "\n",
       "    </Transform>\n",
       "\n",
       "    <Transform translation=\"0.00 -0.76 -0.48\">\n",
       "\n",
       "     <Shape>\n",
       "\n",
       "      <Appearance>\n",
       "\n",
       "       <Material diffuseColor=\"1.000 1.000 1.000\" specularColor=\"0.5 0.5 0.5\">\n",
       "\n",
       "       </Material>\n",
       "\n",
       "      </Appearance>\n",
       "\n",
       "      <Sphere radius=\"0.31\">\n",
       "\n",
       "      </Sphere>\n",
       "\n",
       "     </Shape>\n",
       "\n",
       "    </Transform>\n",
       "\n",
       "   </Scene>\n",
       "\n",
       "  </X3D>\n",
       "\n",
       " </body>\n",
       "\n",
       "</html>\n",
       "\n"
      ],
      "text/plain": [
       "<IPython.core.display.HTML object>"
      ]
     },
     "execution_count": 11,
     "metadata": {},
     "output_type": "execute_result"
    }
   ],
   "source": [
    "view(atoms,viewer='x3d') #x3d or ngl"
   ]
  },
  {
   "cell_type": "markdown",
   "metadata": {
    "slideshow": {
     "slide_type": "slide"
    }
   },
   "source": [
    "### Step 2: Performing the calculation\n",
    "___________\n",
    "To calculate the HF energy, we use the Psi4 package. In the following,\n",
    "\n",
    "* we set the RAM memory, which we allocate to Psi4, \n",
    "* we pass the geometry from our `ase.atoms` object to `psi4.geometry`\n",
    "* we initiate the HF (also called scf) calculation using a split-valence 3-21G* Pople basis set\n",
    "* we perform the HF energy calculation using `psi4.energy`"
   ]
  },
  {
   "cell_type": "code",
   "execution_count": 5,
   "metadata": {
    "scrolled": true,
    "slideshow": {
     "slide_type": "slide"
    }
   },
   "outputs": [
    {
     "name": "stdout",
     "output_type": "stream",
     "text": [
      "Total HF energy is -75.58555599788606 Hartree \n",
      " \n"
     ]
    }
   ],
   "source": [
    "psi4.core.clean()\n",
    "#psi4.core.reopen_outfile()\n",
    "psi4.core.set_output_file('output.dat', False)\n",
    "psi4.set_memory('1000 MB')\n",
    "\n",
    "##set geometry\n",
    "#transform ase geometries to Psi4 input string\n",
    "geom_input = geom_ase_to_psi4(atoms, charge=0, multiplicity=1)\n",
    "#initiate Psi4 molecule object\n",
    "nh3 = psi4.geometry(geom_input)\n",
    "\n",
    "# Set computation options\n",
    "psi4.set_options({'basis': '3-21G',\n",
    "                  'reference': 'rhf',\n",
    "                  'scf_type':'direct',\n",
    "                  'e_convergence': 1e-8})\n",
    "\n",
    "E, wvf = psi4.energy('scf',return_wfn=True)\n",
    "print('Total HF energy is {0} Hartree \\n '.format(E))\n"
   ]
  },
  {
   "cell_type": "markdown",
   "metadata": {
    "slideshow": {
     "slide_type": "-"
    }
   },
   "source": [
    "We have successfully calculated the HF energy and wave function. Let's take a closer look at the detailed output statements written in `output.dat`."
   ]
  },
  {
   "cell_type": "code",
   "execution_count": 6,
   "metadata": {
    "slideshow": {
     "slide_type": "slide"
    }
   },
   "outputs": [],
   "source": [
    "%less output.dat"
   ]
  },
  {
   "cell_type": "markdown",
   "metadata": {
    "slideshow": {
     "slide_type": "slide"
    }
   },
   "source": [
    "We can also analyze the results further by looking at the MO energies, the occupations, and the coefficients."
   ]
  },
  {
   "cell_type": "code",
   "execution_count": 7,
   "metadata": {
    "slideshow": {
     "slide_type": "-"
    }
   },
   "outputs": [
    {
     "name": "stdout",
     "output_type": "stream",
     "text": [
      "Molecular Orbital 0, occupation: 2.00, energy:  -20.431\n",
      "Molecular Orbital 1, occupation: 2.00, energy:   -1.324\n",
      "Molecular Orbital 2, occupation: 2.00, energy:   -0.679\n",
      "Molecular Orbital 3, occupation: 2.00, energy:   -0.537\n",
      "Molecular Orbital 4, occupation: 2.00, energy:   -0.479\n",
      "Molecular Orbital 5, occupation: 0.00, energy:    0.260\n",
      "Molecular Orbital 6, occupation: 0.00, energy:    0.358\n",
      "Molecular Orbital 7, occupation: 0.00, energy:    1.185\n",
      "Molecular Orbital 8, occupation: 0.00, energy:    1.297\n",
      "Molecular Orbital 9, occupation: 0.00, energy:    1.782\n",
      "Molecular Orbital 10, occupation: 0.00, energy:    1.871\n",
      "Molecular Orbital 11, occupation: 0.00, energy:    2.015\n",
      "Molecular Orbital 12, occupation: 0.00, energy:    3.108\n",
      "\n",
      " The wave function matrix has dimensions: (13, 13)\n",
      "\n",
      " Wave function coefficients for the HOMO orbital:\n",
      "  0.00\n",
      " -0.00\n",
      "  0.52\n",
      "  0.00\n",
      " -0.00\n",
      " -0.00\n",
      "  0.63\n",
      "  0.00\n",
      " -0.00\n",
      "  0.00\n",
      "  0.00\n",
      "  0.00\n",
      "  0.00\n"
     ]
    }
   ],
   "source": [
    "#Let's look at orbital coefficients, MO energies and occupations\n",
    "coeffs = wvf.Ca().to_array()\n",
    "epsilons = wvf.epsilon_a().to_array()\n",
    "occs = wvf.occupation_a().to_array()\n",
    "for i,(o,e) in enumerate(zip(occs, epsilons)):\n",
    "    print ('Molecular Orbital {0}, occupation: {1:4.2f}, energy: {2:8.3f}'\n",
    "           .format(i,o*2,e))\n",
    "print('\\n The wave function matrix has dimensions:', coeffs.shape)\n",
    "print('\\n Wave function coefficients for the HOMO orbital:')\n",
    "for i in coeffs[:,4]:\n",
    "    print('{0:6.2f}'.format(i))    "
   ]
  },
  {
   "cell_type": "markdown",
   "metadata": {
    "slideshow": {
     "slide_type": "notes"
    }
   },
   "source": [
    "From the above, we learn that the molecule has 13 AO basis functions, which define 13 Molecular Orbitals. Of these 13 orbitals, 5 are occupied. (These are spatial orbitals, each of which has 2 electrons. That makes 10 electrons in H$_2$O).\n",
    "\n",
    "The coefficients of the HOMO orbital tell us that it is only comprised of 2 different AOs. "
   ]
  },
  {
   "cell_type": "markdown",
   "metadata": {
    "slideshow": {
     "slide_type": "slide"
    }
   },
   "source": [
    "The last function here prints a so-called molden file, with which we can visualize the molecular orbitals in Avogadro.\n",
    "We can use [Avogadro](https://avogadro.cc/) to figure out which ones."
   ]
  },
  {
   "cell_type": "code",
   "execution_count": 8,
   "metadata": {
    "slideshow": {
     "slide_type": "-"
    }
   },
   "outputs": [],
   "source": [
    "#Write wave functions to molden file format, can be visualized in Avogadro\n",
    "psi4.molden(wvf, 'h2o.molden')"
   ]
  },
  {
   "cell_type": "markdown",
   "metadata": {
    "slideshow": {
     "slide_type": "slide"
    }
   },
   "source": [
    "## Want to learn more about the inner workings of Hartree Fock?\n",
    "\n",
    "Check out the psi4numpy tutorial on Hartree-Fock\n",
    "\n",
    "https://github.com/psi4/psi4numpy/blob/master/Tutorials/03_Hartree-Fock/3a_restricted-hartree-fock.ipynb"
   ]
  }
 ],
 "metadata": {
  "celltoolbar": "Slideshow",
  "kernelspec": {
   "display_name": "Python 3",
   "language": "python",
   "name": "python3"
  },
  "language_info": {
   "codemirror_mode": {
    "name": "ipython",
    "version": 3
   },
   "file_extension": ".py",
   "mimetype": "text/x-python",
   "name": "python",
   "nbconvert_exporter": "python",
   "pygments_lexer": "ipython3",
   "version": "3.6.1"
  }
 },
 "nbformat": 4,
 "nbformat_minor": 2
}
